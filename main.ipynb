{
 "cells": [
  {
   "cell_type": "markdown",
   "metadata": {},
   "source": [
    "<h2 style=\"font-family:camtasia;\n",
    "          font-size:320%;\n",
    "          font-weight: bold;\n",
    "          color: #990033;\n",
    "          text-align:center;\n",
    "          margin: 0 auto;\n",
    "          padding:10px; \n",
    "          border-radius:20px 20px;\n",
    "          background-color: white;\">\n",
    "Project 1: Road Accidents Analysis\n",
    "</h2>\n"
   ]
  },
  {
   "cell_type": "markdown",
   "metadata": {},
   "source": [
    "<a id=\"import\"></a>\n",
    "# <p style=\"background-color: #990033; font-family:calibri; color:white; font-size:150%; text-align:center; border-radius:20px 20px;\">Dataset Descriptions and Data Understanding:</p>\n",
    "\n"
   ]
  },
  {
   "attachments": {},
   "cell_type": "markdown",
   "metadata": {},
   "source": [
    "\n",
    "1. Status: The status of the accident (e.g., reported, under investigation).\n",
    "\n",
    "2. Accident_Index: A unique identifier for each reported accident.\n",
    "Unique value for each accident. The accident_index combines the accident_year and accident_ref_no to form a unique ID. It can be used to join to Vehicle and Casualty\n",
    "\n",
    "3. Accident_Year: The year in which the accident occurred.\n",
    "\n",
    "4. Accident_Reference: A reference number associated with the accident.\n",
    "\n",
    "5. Vehicle_Reference: A reference number for the involved vehicle in the accident.\n",
    "\n",
    "6. Casualty_Reference: A reference number for the casualty involved in the accident.\n",
    "\n",
    "7. Casualty_Class: Indicates the class of the casualty\n",
    "\n",
    "\n",
    "8. Sex_of_Casualty: The gender of the casualty (male or female).\n",
    "\n",
    "    \n",
    "9. Age_of_Casualty: The age of the casualty. \n",
    "\n",
    "10. Age_Band_of_Casualty: Age group to which the casualty belongs (e.g., 0-5, 6-10, 11-15).\n",
    "\n",
    "11. Casualty_Severity: The severity of the casualty's injuries\n",
    "\n",
    "12. Pedestrian_Location: The location of the pedestrian at the time of the accident.\n",
    "13. Pedestrian_Movement: The movement of the pedestrian during the accident\n",
    "\n",
    "14. Car_Passenger: Indicates whether the casualty was a car passenger at the time of the accident (yes or no)\n",
    "\n",
    "\n",
    "15. Bus_or_Coach_Passenger: Indicates whether the casualty was a bus or coach passenger (yes or no)\n",
    "\n",
    "\n",
    "16. Pedestrian_Road_Maintenance_Worker: Indicates whether the casualty was a road maintenance worker (yes or no)\n",
    "\n",
    "\n",
    "17. Casualty_Type: The type of casualty (e.g., driver/rider, passenger, pedestrian)\n",
    "\n",
    "18. Casualty_Home_Area_Type: The type of area in which the casualty resides (e.g., urban, rural)\n",
    "\n",
    "\n",
    "19. Casualty_IMD_Decile: The IMD decile of the area where the casualty resides (a measure of deprivation)\n",
    "\n",
    "\n",
    "20. LSOA_of_Casualty: The Lower Layer Super Output Area (LSOA) associated with the casualty's location."
   ]
  },
  {
   "cell_type": "markdown",
   "metadata": {},
   "source": [
    "<a id=\"contents_tabel\"></a>    \n",
    "<div style=\"border-radius: 10px; padding: 15px; background-color: #ffffff; font-size: 115%; text-align: left;\">\n",
    "\n",
    "<h3 align=\"left\" style=\"color: #990033;\">Table of Contents:</h3>\n",
    "    \n",
    "* [Step 1 | Import Libraries](#import)\n",
    "* [Step 2 | Read Dataset](#read)\n",
    "* [Step 3 | Dataset Overview](#overview)\n",
    "    - [Step 3.1 | Dataset Basic Information](#basic)\n",
    "    - [Step 3.2 | Summary Statistics for Numerical Variables](#num_statistics)\n",
    "    - [Step 3.3 | Summary Statistics for Categorical Variables](#cat_statistics)\n",
    "* [Step 4 | EDA](#eda)\n",
    "    - [Step 4.1 | Numerical Features vs Target](#num_target)\n",
    "    - [Step 4.2 | Categorical Features vs Target](#cat_target)\n",
    "* [Step 5 | Data Preprocessing](#preprocessing)\n",
    "    - [Step 5.1 | Check Missing Values](#missing)\n",
    "    - [Step 5.2 | Encode Categorical Features](#encode)\n",
    "    - [Step 5.3 | Split the Dataset](#split)\n",
    "* [Step 6 | Build XGBoost Regressor](#xgb)\n",
    "    - [Step 6.1 | XGBoost Base Model Definition](#xgb_base)\n",
    "    - [Step 6.2 | XGBoost Hyperparameter Tuning](#xgb_hp)\n",
    "    - [Step 6.3 | XGBoost Regressor Evaluation](#xgb_eval)\n",
    "* [Step 7 | Build CatBoost Regressor](#ctb)\n",
    "    - [Step 7.1 | CatBoost Base Model Definition](#ctb_base)\n",
    "    - [Step 7.2 | CatBoost Hyperparameter Tuning](#ctb_hp)\n",
    "    - [Step 7.3 | CatBoost Regressor Evaluation](#ctb_eval)\n",
    "* [Step 8 | Conclusion](#conclusion)\n"
   ]
  },
  {
   "cell_type": "markdown",
   "metadata": {},
   "source": [
    "<a id=\"overview\"></a>\n",
    "# <p style=\"background-color:#990033; font-family:calibri; color:white; font-size:150%; text-align:center; border-radius:20px 20px;\">Step 1: Import Libraries</p>\n",
    "\n",
    "⬆️ [Tabel of Contents](#contents_tabel)"
   ]
  },
  {
   "cell_type": "code",
   "execution_count": null,
   "metadata": {
    "is_executing": true
   },
   "outputs": [],
   "source": [
    "import pandas as pd\n",
    "import numpy as np\n",
    "import seaborn as sns\n",
    "import matplotlib.pyplot as plt\n",
    "from sklearn.impute import KNNImputer"
   ]
  },
  {
   "cell_type": "code",
   "execution_count": null,
   "metadata": {},
   "outputs": [],
   "source": [
    "import warnings\n",
    "warnings.filterwarnings(\"ignore\", \"is_categorical_dtype\")\n",
    "warnings.filterwarnings(\"ignore\", \"use_inf_as_na\")\n",
    "warnings.simplefilter(action='ignore', category=FutureWarning)\n"
   ]
  },
  {
   "cell_type": "markdown",
   "metadata": {},
   "source": [
    "<a id=\"overview\"></a>\n",
    "# <p style=\"background-color:#990033; font-family:calibri; color:white; font-size:150%; text-align:center; border-radius:20px 20px;\">Step 2: Read Dataset </p>\n",
    "\n",
    "⬆️ [Tabel of Contents](#contents_tabel)"
   ]
  },
  {
   "cell_type": "code",
   "execution_count": null,
   "metadata": {},
   "outputs": [],
   "source": [
    "df = pd.read_csv('dft-road-casualty-statistics-casualty-provisional-mid-year-unvalidated-2022.csv').drop_duplicates()\n",
    "\n",
    "print(df.shape)\n",
    "df.sample(5)"
   ]
  },
  {
   "cell_type": "markdown",
   "metadata": {},
   "source": [
    "<a id=\"overview\"></a>\n",
    "# <p style=\"background-color:#990033; font-family:calibri; color:white; font-size:150%; text-align:center; border-radius:20px 20px;\">Step 3: Dataset Overview</p>\n",
    "\n",
    "⬆️ [Tabel of Contents](#contents_tabel)"
   ]
  },
  {
   "cell_type": "markdown",
   "metadata": {},
   "source": [
    "\n",
    "1. Status: The status of the accident (e.g., reported, under investigation).\n",
    "\n",
    "2. Accident_Index: A unique identifier for each reported accident.\n",
    "Unique value for each accident. The accident_index combines the accident_year and accident_ref_no to form a unique ID. It can be used to join to Vehicle and Casualty\n",
    "\n",
    "3. Accident_Year: The year in which the accident occurred.\n",
    "\n",
    "4. Accident_Reference: A reference number associated with the accident.\n",
    "\n",
    "5. Vehicle_Reference: A reference number for the involved vehicle in the accident.\n",
    "\n",
    "6. Casualty_Reference: A reference number for the casualty involved in the accident.\n",
    "\n",
    "7. Casualty_Class: Indicates the class of the casualty:<pre>\n",
    "1\tDriver or rider\n",
    "2\tPassenger\n",
    "3\tPedestrian\n",
    "\n",
    "8. Sex_of_Casualty: The gender of the casualty (male or female).<pre>\n",
    "    1\tMale, 2\tFemale\n",
    "    9\tunknown (self reported)\n",
    "    -1\tData missing or out of range\n",
    "    \n",
    "9. Age_of_Casualty: The age of the casualty. (-1\tData missing or out of range)\n",
    "\n",
    "10. Age_Band_of_Casualty: Age group to which the casualty belongs (e.g., 0-5, 6-10, 11-15).<pre>\n",
    "1\t0 - 5\n",
    "2\t6 - 10\n",
    "3\t11 - 15\n",
    "4\t16 - 20\n",
    "5\t21 - 25\n",
    "6\t26 - 35\n",
    "7\t36 - 45\n",
    "8\t46 - 55\n",
    "9\t56 - 65\n",
    "10\t66 - 75\n",
    "11\tOver 75\n",
    "-1\tData missing or out of range\n",
    "\n",
    "11. Casualty_Severity: The severity of the casualty's injuries:<pre>\n",
    "1\tFatal\n",
    "2\tSerious\n",
    "3\tSlight\n",
    "\n",
    "12. Pedestrian_Location: The location of the pedestrian at the time of the accident.<pre>\n",
    "0\tNot a Pedestrian\n",
    "1\tCrossing on pedestrian crossing facility\n",
    "2\tCrossing in zig-zag approach lines\n",
    "3\tCrossing in zig-zag exit lines\n",
    "4\tCrossing elsewhere within 50m. of pedestrian crossing\n",
    "5\tIn carriageway, crossing elsewhere\n",
    "6\tOn footway or verge\n",
    "7\tOn refuge, central island or central reservation\n",
    "8\tIn centre of carriageway - not on refuge, island or central reservation\n",
    "9\tIn carriageway, not crossing\n",
    "10\tUnknown or other\n",
    "-1\tData missing or out of range\n",
    "\n",
    "13. Pedestrian_Movement: The movement of the pedestrian during the accident.<pre>\n",
    "0\tNot a Pedestrian\n",
    "1\tCrossing from driver's nearside\n",
    "2\tCrossing from nearside - masked by parked or stationary vehicle\n",
    "3\tCrossing from driver's offside\n",
    "4\tCrossing from offside - masked by  parked or stationary vehicle\n",
    "5\tIn carriageway, stationary - not crossing  (standing or playing)\n",
    "6\tIn carriageway, stationary - not crossing  (standing or playing) - masked by parked or stationary vehicle\n",
    "7\tWalking along in carriageway, facing traffic\n",
    "8\tWalking along in carriageway, back to traffic\n",
    "9\tUnknown or other\n",
    "-1\tData missing or out of range\n",
    "\n",
    "14. Car_Passenger: Indicates whether the casualty was a car passenger at the time of the accident (yes or no).<pre>\n",
    "0\tNot car passenger\n",
    "1\tFront seat passenger\n",
    "2\tRear seat passenger\n",
    "9\tunknown (self reported)\n",
    "-1\tData missing or out of range\n",
    "\n",
    "15. Bus_or_Coach_Passenger: Indicates whether the casualty was a bus or coach passenger (yes or no).<pre>\n",
    "0\tNot a bus or coach passenger\n",
    "1\tBoarding\n",
    "2\tAlighting\n",
    "3\tStanding passenger\n",
    "4\tSeated passenger\n",
    "9\tunknown (self reported)\n",
    "-1\tData missing or out of range\n",
    "\n",
    "16. Pedestrian_Road_Maintenance_Worker: Indicates whether the casualty was a road maintenance worker (yes or no).<pre>\n",
    "0\tNo / Not applicable\n",
    "1\tYes\n",
    "2\tNot Known\n",
    "3\tProbable\n",
    "-1\tData missing or out of range\n",
    "\n",
    "17. Casualty_Type: The type of casualty (e.g., driver/rider, passenger, pedestrian).<pre>\n",
    "0\tPedestrian\n",
    "1\tCyclist\n",
    "2\tMotorcycle 50cc and under rider or passenger\n",
    "3\tMotorcycle 125cc and under rider or passenger\n",
    "4\tMotorcycle over 125cc and up to 500cc rider or  passenger\n",
    "5\tMotorcycle over 500cc rider or passenger\n",
    "8\tTaxi/Private hire car occupant\n",
    "9\tCar occupant\n",
    "10\tMinibus (8 - 16 passenger seats) occupant\n",
    "11\tBus or coach occupant (17 or more pass seats)\n",
    "16\tHorse rider\n",
    "17\tAgricultural vehicle occupant\n",
    "18\tTram occupant\n",
    "19\tVan / Goods vehicle (3.5 tonnes mgw or under) occupant\n",
    "20\tGoods vehicle (over 3.5t. and under 7.5t.) occupant\n",
    "21\tGoods vehicle (7.5 tonnes mgw and over) occupant\n",
    "22\tMobility scooter rider\n",
    "23\tElectric motorcycle rider or passenger\n",
    "90\tOther vehicle occupant\n",
    "97\tMotorcycle - unknown cc rider or passenger\n",
    "98\tGoods vehicle (unknown weight) occupant\n",
    "99\tUnknown vehicle type (self rep only)\n",
    "-1\tData missing or out of range\n",
    "\n",
    "18. Casualty_Home_Area_Type: The type of area in which the casualty resides (e.g., urban, rural).<pre>\n",
    "1\tUrban area\n",
    "2\tSmall town\n",
    "3\tRural\n",
    "-1\tData missing or out of range\n",
    "\n",
    "19. Casualty_IMD_Decile: The IMD decile of the area where the casualty resides (a measure of deprivation).<pre>\n",
    "1\tMost deprived 10%\n",
    "2\tMore deprived 10-20%\n",
    "3\tMore deprived 20-30%\n",
    "4\tMore deprived 30-40%\n",
    "5\tMore deprived 40-50%\n",
    "6\tLess deprived 40-50%\n",
    "7\tLess deprived 30-40%\n",
    "8\tLess deprived 20-30%\n",
    "9\tLess deprived 10-20%\n",
    "10\tLeast deprived 10%\n",
    "-1\tData missing or out of range\n",
    "\n",
    "20. LSOA_of_Casualty: The Lower Layer Super Output Area (LSOA) associated with the casualty's location."
   ]
  },
  {
   "cell_type": "markdown",
   "metadata": {},
   "source": [
    "<a id=\"basic\"></a>\n",
    "# <b><span style='color:#8fc265'>Step 3.1 |</span><span style='color:#990033'> Dataset Basic Information</span></b>"
   ]
  },
  {
   "cell_type": "code",
   "execution_count": null,
   "metadata": {},
   "outputs": [],
   "source": [
    "shape = df.shape\n",
    "print(f'Dataset has {shape[0]} rows and {shape[1]} columns.')"
   ]
  },
  {
   "cell_type": "code",
   "execution_count": null,
   "metadata": {},
   "outputs": [],
   "source": [
    "df.info()"
   ]
  },
  {
   "cell_type": "markdown",
   "metadata": {},
   "source": [
    "<a id=\"num_statistics\"></a>\n",
    "# <b><span style='color:#8fc265'>Step 3.2 |</span><span style='color:#990033'> Summary Statistics for Numerical Variables</span></b>"
   ]
  },
  {
   "cell_type": "code",
   "execution_count": null,
   "metadata": {
    "scrolled": true
   },
   "outputs": [],
   "source": [
    "df.describe().T"
   ]
  },
  {
   "cell_type": "markdown",
   "metadata": {},
   "source": [
    "<a id=\"cat_statistics\"></a>\n",
    "# <b><span style='color:#8fc265'>Step 3.3 |</span><span style='color:#990033'> Summary Statistics for Categorical  Variables</span></b>"
   ]
  },
  {
   "cell_type": "code",
   "execution_count": null,
   "metadata": {},
   "outputs": [],
   "source": [
    "# Get the summary statistics for categorical variables\n",
    "df.describe(include='object')"
   ]
  },
  {
   "cell_type": "code",
   "execution_count": null,
   "metadata": {},
   "outputs": [],
   "source": [
    "# Replace all occurrences of -1 with NaN\n",
    "# df.replace(-1, np.NaN, inplace=True)"
   ]
  },
  {
   "cell_type": "markdown",
   "metadata": {},
   "source": [
    "<a id=\"eda\"></a>\n",
    "# <p style=\"background-color:#990033; font-family:calibri; color:white; font-size:150%; text-align:center; border-radius:20px 20px;\">Step 4: EDA</p>\n",
    "\n",
    "⬆️ [Tabel of Contents](#contents_tabel)"
   ]
  },
  {
   "cell_type": "code",
   "execution_count": null,
   "metadata": {},
   "outputs": [],
   "source": []
  },
  {
   "cell_type": "code",
   "execution_count": null,
   "metadata": {},
   "outputs": [],
   "source": [
    "# Define the columns to plot\n",
    "columns_to_plot = ['casualty_class', 'sex_of_casualty', 'age_of_casualty', \n",
    "                   'age_band_of_casualty', 'casualty_severity', 'pedestrian_location', 'pedestrian_movement', \n",
    "                   'car_passenger', 'bus_or_coach_passenger', 'pedestrian_road_maintenance_worker', \n",
    "                   'casualty_type', 'casualty_home_area_type', 'casualty_imd_decile']\n",
    "\n",
    "# Set up the subplot layout\n",
    "num_rows = 5\n",
    "num_cols = (len(columns_to_plot) + num_rows - 1) // num_rows\n",
    "plt.figure(figsize=(20, 20))\n",
    "\n",
    "# Create subplots\n",
    "for i, col in enumerate(columns_to_plot, start=1):\n",
    "    plt.subplot(num_rows, num_cols, i)\n",
    "    sns.countplot(x=col, data=df)\n",
    "    plt.title(col)\n",
    "\n",
    "plt.tight_layout()\n",
    "plt.show()\n"
   ]
  },
  {
   "cell_type": "code",
   "execution_count": null,
   "metadata": {},
   "outputs": [],
   "source": [
    "cmap = sns.color_palette(\"Blues\", as_cmap=True)"
   ]
  },
  {
   "cell_type": "code",
   "execution_count": null,
   "metadata": {},
   "outputs": [],
   "source": [
    "# Compute the correlation matrix\n",
    "corr_matrix = df.corr(numeric_only=True)\n",
    "\n",
    "# Generate a mask for the upper triangle\n",
    "mask = np.triu(np.ones_like(corr_matrix, dtype=bool))\n",
    "\n",
    "# Set up the matplotlib figure\n",
    "plt.figure(figsize=(18, 8))\n",
    "\n",
    "# Plot the heatmap with annotations in the lower triangular part\n",
    "sns.heatmap(corr_matrix, mask=mask, annot=True, fmt=\".2f\", linewidth=.3, cmap='coolwarm', square=True)\n",
    "\n",
    "plt.title('Correlation Matrix with Values', fontsize=25)\n",
    "plt.show()\n"
   ]
  },
  {
   "cell_type": "code",
   "execution_count": null,
   "metadata": {},
   "outputs": [],
   "source": [
    "# Setting Style of Dataframes :\n",
    "def style(df):\n",
    "    formatted_df = df.applymap(lambda x: f'{x:.3f}' if isinstance(x, float) else x)\n",
    "    styled_df = formatted_df.style.set_properties(**{'border': '1.3px solid blue',\n",
    "                                           'color': 'darkblue',\n",
    "                                           'background-color': '#C2DFFF'})\n",
    "    \n",
    "    return styled_df"
   ]
  },
  {
   "cell_type": "code",
   "execution_count": null,
   "metadata": {},
   "outputs": [],
   "source": [
    "corr = pd.DataFrame({'Correlation with casualty_severity by percentage': (df.corr(numeric_only=True)['casualty_severity'].sort_values(ascending=False) * 100).round(3)})\n",
    "style(corr)"
   ]
  },
  {
   "cell_type": "code",
   "execution_count": null,
   "metadata": {},
   "outputs": [],
   "source": [
    "df.head()\n",
    "df.columns"
   ]
  },
  {
   "cell_type": "code",
   "execution_count": null,
   "metadata": {},
   "outputs": [],
   "source": [
    "df.nunique()"
   ]
  },
  {
   "cell_type": "code",
   "execution_count": null,
   "metadata": {},
   "outputs": [],
   "source": [
    "# Drop unnecessary columns\n",
    "# There is only one value for status and accident_year columns.\n",
    "df = df.drop(['status', 'accident_year'], axis=1)\n",
    "df = df.drop(['accident_index', 'accident_reference'], axis=1)\n",
    "\n",
    "df.shape"
   ]
  },
  {
   "cell_type": "code",
   "execution_count": null,
   "metadata": {},
   "outputs": [],
   "source": [
    "df.columns"
   ]
  },
  {
   "cell_type": "code",
   "execution_count": null,
   "metadata": {},
   "outputs": [],
   "source": [
    "# Mapping of casualty severity codes to descriptions\n",
    "severity_mapping = {1: 'Fatal', 2: 'Serious', 3: 'Slight'}\n",
    "\n",
    "# Map the 'casualty_severity' column using the provided descriptions\n",
    "df['casualty_severity_label'] = df['casualty_severity'].map(severity_mapping)\n",
    "df.columns"
   ]
  },
  {
   "cell_type": "code",
   "execution_count": null,
   "metadata": {},
   "outputs": [],
   "source": [
    "\n",
    "# Plot the distribution of accident severities\n",
    "plt.figure(figsize=(8, 6))\n",
    "sns.countplot(x='casualty_severity_label', data=df, order=['Fatal', 'Serious', 'Slight'])  # Specify order of bars\n",
    "plt.title('Distribution of Accident Severities')\n",
    "plt.xlabel('Casualty Severity')\n",
    "plt.ylabel('Count')\n",
    "plt.show()\n"
   ]
  },
  {
   "cell_type": "code",
   "execution_count": null,
   "metadata": {},
   "outputs": [],
   "source": [
    "# Plot the relationship between casualty severity and age band\n",
    "plt.figure(figsize=(10, 8))\n",
    "sns.boxplot(x='casualty_severity_label', y='age_of_casualty', data=df, hue_order=['Fatal', 'Serious', 'Slight'])\n",
    "plt.title('Casualty Severity by Age of Casualty'\n",
    "          \n",
    "          , order=['Fatal', 'Serious', 'Slight']\n",
    "          \n",
    "          )\n",
    "plt.xlabel('Casualty Severity')\n",
    "plt.ylabel('Age of Casualty')\n",
    "plt.show()\n"
   ]
  },
  {
   "cell_type": "code",
   "execution_count": null,
   "metadata": {},
   "outputs": [],
   "source": [
    "# Map numerical codes to meaningful labels\n",
    "sex_mapping = {1: 'Male', 2: 'Female', -1: 'Unknown', 9: 'Not Specified'}\n",
    "\n",
    "# Replace numerical codes with corresponding labels\n",
    "df['sex_of_casualty_label'] = df['sex_of_casualty'].map(sex_mapping)\n"
   ]
  },
  {
   "cell_type": "code",
   "execution_count": null,
   "metadata": {},
   "outputs": [],
   "source": [
    "df.columns"
   ]
  },
  {
   "cell_type": "code",
   "execution_count": null,
   "metadata": {},
   "outputs": [],
   "source": [
    "# Plot the relationship between casualty severity and gender\n",
    "plt.figure(figsize=(8, 6))\n",
    "sns.countplot(x='casualty_severity', hue='sex_of_casualty_label', data=df)\n",
    "plt.title('Casualty Severity by Gender')\n",
    "plt.xlabel('Casualty Severity')\n",
    "plt.ylabel('Count')\n",
    "plt.legend(title='Sex of Casualty', labels=['Unknown', 'Male', 'Female'])\n",
    "plt.show()"
   ]
  },
  {
   "cell_type": "code",
   "execution_count": null,
   "metadata": {},
   "outputs": [],
   "source": [
    "\n",
    "# Plot the relationship between casualty severity and gender\n",
    "plt.figure(figsize=(8, 6))\n",
    "sns.countplot(x='casualty_severity_label',\n",
    "              hue='sex_of_casualty_label',\n",
    "              data=df,\n",
    "              order=['Fatal', 'Serious', 'Slight'],\n",
    "            )\n",
    "plt.title('Casualty Severity by Gender')\n",
    "plt.xlabel('Casualty Severity')\n",
    "plt.ylabel('Count')\n",
    "plt.legend(title='Sex of Casualty')\n",
    "plt.show()\n"
   ]
  },
  {
   "cell_type": "code",
   "execution_count": null,
   "metadata": {},
   "outputs": [],
   "source": [
    "# Plot the relationship between casualty severity and casualty's home area type\n",
    "\n",
    "# Map numerical codes to meaningful labels\n",
    "casualty_home_area_type_mapping = {1: 'Urban', 2: 'Rural', -1: 'Semi-Urban', 9: 'Unknown'}\n",
    "\n",
    "# Replace numerical codes with corresponding labels\n",
    "df['casualty_home_area_type'] = df['casualty_home_area_type'].map(casualty_home_area_type_mapping)\n"
   ]
  },
  {
   "cell_type": "code",
   "execution_count": null,
   "metadata": {},
   "outputs": [],
   "source": [
    "plt.figure(figsize=(10, 6))\n",
    "sns.countplot(x='casualty_home_area_type', data=df)\n",
    "plt.title('Countplot of Casualty Home Area Type')\n",
    "plt.xlabel('Casualty Home Area Type')\n",
    "plt.ylabel('Count')\n",
    "plt.show()"
   ]
  },
  {
   "cell_type": "code",
   "execution_count": null,
   "metadata": {},
   "outputs": [],
   "source": [
    "\n",
    "\n",
    "plt.figure(figsize=(8, 6))\n",
    "sns.countplot(x='casualty_severity_label',\n",
    "              hue='casualty_home_area_type',\n",
    "              data=df,\n",
    "              order=['Fatal', 'Serious', 'Slight'],\n",
    ")\n",
    "plt.title('Casualty Severity by Home Area Type')\n",
    "plt.xlabel('Casualty Severity')\n",
    "plt.ylabel('Count')\n",
    "plt.legend(title='Home Area Type')\n",
    "plt.show()"
   ]
  },
  {
   "cell_type": "code",
   "execution_count": null,
   "metadata": {},
   "outputs": [],
   "source": []
  },
  {
   "cell_type": "markdown",
   "metadata": {},
   "source": [
    "## 2. Data Cleaning"
   ]
  },
  {
   "cell_type": "code",
   "execution_count": null,
   "metadata": {},
   "outputs": [],
   "source": [
    "nulls = df.isnull().sum()\n",
    "nulls"
   ]
  },
  {
   "cell_type": "code",
   "execution_count": null,
   "metadata": {},
   "outputs": [],
   "source": [
    "if sum(nulls) == 0:\n",
    "    print('There is no Null data!')\n",
    "else:\n",
    "    print('There are Null data!')\n"
   ]
  },
  {
   "cell_type": "code",
   "execution_count": null,
   "metadata": {
    "scrolled": true
   },
   "outputs": [],
   "source": [
    "print(df.columns)\n",
    "print(df.shape)"
   ]
  },
  {
   "cell_type": "code",
   "execution_count": null,
   "metadata": {},
   "outputs": [],
   "source": []
  },
  {
   "cell_type": "code",
   "execution_count": null,
   "metadata": {},
   "outputs": [],
   "source": [
    "# (df.accident_index == '2022' + df.accident_reference).sum()\n",
    "# # df.accident_index is equal to '2022' + df.accident_reference\n",
    "# df = df.drop(['accident_index'], axis=1)\n",
    "# df.shape"
   ]
  },
  {
   "cell_type": "code",
   "execution_count": null,
   "metadata": {},
   "outputs": [],
   "source": [
    "def value_counts(df, column):\n",
    "    # Calculate the frequency of each value in the \"sex_of_casualty\" column\n",
    "    frequency = df[column].value_counts()\n",
    "    \n",
    "    # Print the frequency of every value\n",
    "    print(f\"Frequency of each value for DataFrame['{column}']: \\n{frequency}\")"
   ]
  },
  {
   "cell_type": "code",
   "execution_count": null,
   "metadata": {},
   "outputs": [],
   "source": [
    "\n",
    "# def plot_countplot(df, column):\n",
    "#     \"\"\"\n",
    "#     Plot a countplot for the specified column in the DataFrame.\n",
    "\n",
    "#     Parameters:\n",
    "#         df (DataFrame): The DataFrame containing the data.\n",
    "#         column (str): The name of the column to plot.\n",
    "\n",
    "#     Returns:\n",
    "#         None\n",
    "#     \"\"\"\n",
    "#     plt.figure(figsize=(10, 6))\n",
    "#     sns.countplot(x=column, data=df)\n",
    "#     plt.title(f'Countplot of {column}')\n",
    "#     plt.xlabel(column)\n",
    "#     plt.ylabel('Count')\n",
    "#     plt.show()\n"
   ]
  },
  {
   "cell_type": "code",
   "execution_count": null,
   "metadata": {},
   "outputs": [],
   "source": [
    "def remove_outliers(df, column, values_to_remove):\n",
    "    \"\"\"\n",
    "    Remove rows from a DataFrame where the specified column contains specified values.\n",
    "\n",
    "    Args:\n",
    "        df (DataFrame): The pandas DataFrame.\n",
    "        column (str): The column name to check for outliers.\n",
    "        values_to_remove (list): A list of values to remove from the specified column.\n",
    "\n",
    "    Returns:\n",
    "        DataFrame: The DataFrame with outliers removed.\n",
    "    \"\"\"\n",
    "    # Create a boolean mask to identify rows with the specified values to remove\n",
    "    mask = df[column].isin(values_to_remove)\n",
    "    \n",
    "    # Use the mask to filter out rows with the specified values and create a new DataFrame\n",
    "    filtered_df = df[~mask]\n",
    "    \n",
    "    # Optionally, you can modify the original DataFrame in place by uncommenting the following line:\n",
    "    # df.drop(df[mask].index, inplace=True)\n",
    "    \n",
    "    return filtered_df"
   ]
  },
  {
   "cell_type": "code",
   "execution_count": null,
   "metadata": {},
   "outputs": [],
   "source": [
    "def count_plot_df(df, column, label=None):\n",
    "    # Set the style of the seaborn plot\n",
    "    sns.set_style(\"whitegrid\")\n",
    "    \n",
    "    # Create the count plot\n",
    "    plt.figure(figsize=(10, 6))\n",
    "    sns.countplot(data=df, x=column, palette=\"viridis\")\n",
    "    \n",
    "    # Rotate x-axis labels for better readability (if needed)\n",
    "    plt.xticks(rotation=45)\n",
    "    \n",
    "    # Add labels and title\n",
    "    if label is not None:\n",
    "        plt.xlabel(label)\n",
    "        plt.ylabel(\"Frequency\")\n",
    "        plt.title(f\"Frequency Plot of {label}\")\n",
    "    else:\n",
    "        plt.ylabel(\"Frequency\")\n",
    "        plt.title(f\"Frequency Plot\")\n",
    "        \n",
    "    \n",
    "    # Show the plot\n",
    "    plt.tight_layout()\n",
    "    plt.show()\n"
   ]
  },
  {
   "cell_type": "code",
   "execution_count": null,
   "metadata": {},
   "outputs": [],
   "source": [
    "df['vehicle_reference'].unique()"
   ]
  },
  {
   "cell_type": "code",
   "execution_count": null,
   "metadata": {
    "scrolled": true
   },
   "outputs": [],
   "source": [
    "value_counts(df, 'vehicle_reference')"
   ]
  },
  {
   "cell_type": "code",
   "execution_count": null,
   "metadata": {},
   "outputs": [],
   "source": [
    "count_plot_df(df, 'vehicle_reference')"
   ]
  },
  {
   "cell_type": "code",
   "execution_count": null,
   "metadata": {},
   "outputs": [],
   "source": [
    "vehicle_reference_to_remove = [5, 6, 7, 8, 9, 61, 227]\n",
    "df = remove_outliers(df, \"vehicle_reference\", vehicle_reference_to_remove)\n",
    "df.shape"
   ]
  },
  {
   "cell_type": "code",
   "execution_count": null,
   "metadata": {},
   "outputs": [],
   "source": [
    "value_counts(df, 'casualty_reference')\n",
    "count_plot_df(df, 'casualty_reference', label=\"Casualty Reference\"))"
   ]
  },
  {
   "cell_type": "code",
   "execution_count": null,
   "metadata": {},
   "outputs": [],
   "source": [
    "# Values to remove\n",
    "casualty_reference_to_remove = [6, 7, 8, 9, 10, 11, 12, 13, 14, 15, 16, 22, 148]\n",
    "\n",
    "df = remove_outliers(df, \"casualty_reference\", casualty_reference_to_remove)\n",
    "df.shape"
   ]
  },
  {
   "cell_type": "code",
   "execution_count": null,
   "metadata": {
    "scrolled": true
   },
   "outputs": [],
   "source": [
    "# Calculate the frequency of each value in the \"casualty_class\" column\n",
    "value_counts(df, 'casualty_class')"
   ]
  },
  {
   "cell_type": "code",
   "execution_count": null,
   "metadata": {},
   "outputs": [],
   "source": []
  },
  {
   "cell_type": "code",
   "execution_count": null,
   "metadata": {},
   "outputs": [],
   "source": [
    "df.shape\n"
   ]
  },
  {
   "cell_type": "code",
   "execution_count": null,
   "metadata": {},
   "outputs": [],
   "source": []
  },
  {
   "cell_type": "code",
   "execution_count": null,
   "metadata": {
    "scrolled": true
   },
   "outputs": [],
   "source": [
    "# Calculate the frequency of each value in the \"casualty_type\" column\n",
    "value_counts(df, 'casualty_type')"
   ]
  },
  {
   "cell_type": "code",
   "execution_count": null,
   "metadata": {},
   "outputs": [],
   "source": [
    "# Calculate the percentage of each casualty type\n",
    "casualty_type_counts = df['casualty_type'].value_counts(normalize=True) * 100\n",
    "casualty_type_counts\n",
    "# Find casualty types that occur less than 1% of all data\n",
    "rare_types = casualty_type_counts[casualty_type_counts < 1].index\n",
    "rare_types\n",
    "# Filter out rows with rare casualty types\n",
    "df_filtered = df[~df['casualty_type'].isin(rare_types)]\n",
    "\n",
    "# Print the shape of the filtered DataFrame to see how many rows were removed\n",
    "print(\"Original DataFrame shape:\", df.shape)\n",
    "print(\"Filtered DataFrame shape:\", df_filtered.shape)\n"
   ]
  },
  {
   "cell_type": "code",
   "execution_count": null,
   "metadata": {},
   "outputs": [],
   "source": [
    "df = df_filtered\n",
    "df.shape"
   ]
  },
  {
   "cell_type": "code",
   "execution_count": null,
   "metadata": {},
   "outputs": [],
   "source": [
    "# # Values to remove\n",
    "# casualty_type_to_remove = [-1]\n",
    "\n",
    "# df = remove_outliers(df, 'casualty_type', casualty_type_to_remove)\n",
    "# df.shape"
   ]
  },
  {
   "cell_type": "code",
   "execution_count": null,
   "metadata": {
    "scrolled": true
   },
   "outputs": [],
   "source": [
    "# Calculate the frequency of each value in the \"sex_of_casualty\" column\n",
    "value_counts(df, 'sex_of_casualty')"
   ]
  },
  {
   "cell_type": "code",
   "execution_count": null,
   "metadata": {},
   "outputs": [],
   "source": [
    "# Values to remove\n",
    "sex_of_casualty_to_remove = [-1, 9]\n",
    "\n",
    "df = remove_outliers(df, 'sex_of_casualty', sex_of_casualty_to_remove)\n",
    "df.shape"
   ]
  },
  {
   "cell_type": "code",
   "execution_count": null,
   "metadata": {
    "scrolled": true
   },
   "outputs": [],
   "source": [
    "# Calculate the frequency of each value in the \"age_of_casualty\" column\n",
    "value_counts(df, 'age_of_casualty')"
   ]
  },
  {
   "cell_type": "code",
   "execution_count": null,
   "metadata": {},
   "outputs": [],
   "source": [
    "# Calculate the percentage of each casualty type\n",
    "age_of_casualty_counts = df['age_of_casualty'].value_counts(normalize=True) * 100\n",
    "age_of_casualty_counts\n",
    "# Find casualty types that occur less than 1% of all data\n",
    "rare_types = age_of_casualty_counts[age_of_casualty_counts < 1].index\n",
    "rare_types\n",
    "# Filter out rows with rare casualty types\n",
    "df_filtered = df[~df['age_of_casualty'].isin(rare_types)]\n",
    "\n",
    "# Print the shape of the filtered DataFrame to see how many rows were removed\n",
    "print(\"Original DataFrame shape:\", df.shape)\n",
    "print(\"Filtered DataFrame shape:\", df_filtered.shape)\n"
   ]
  },
  {
   "cell_type": "code",
   "execution_count": null,
   "metadata": {},
   "outputs": [],
   "source": [
    "count_plot_df(df, 'age_of_casualty', \"Age of Casualty\")"
   ]
  },
  {
   "cell_type": "code",
   "execution_count": null,
   "metadata": {},
   "outputs": [],
   "source": [
    "age_of_casualty_to_remove = [-1]\n",
    "\n",
    "df = remove_outliers(df, 'age_of_casualty', age_of_casualty_to_remove)\n",
    "df.shape"
   ]
  },
  {
   "cell_type": "code",
   "execution_count": null,
   "metadata": {},
   "outputs": [],
   "source": [
    "df = df_filtered\n",
    "df.shape"
   ]
  },
  {
   "cell_type": "code",
   "execution_count": null,
   "metadata": {
    "scrolled": true
   },
   "outputs": [],
   "source": [
    "# Calculate the frequency of each value in the \"age_band_of_casualty\" column\n",
    "value_counts(df, 'age_band_of_casualty')"
   ]
  },
  {
   "cell_type": "code",
   "execution_count": null,
   "metadata": {
    "scrolled": true
   },
   "outputs": [],
   "source": [
    "# Calculate the frequency of each value in the \"casualty_severity\" column\n",
    "value_counts(df, 'casualty_severity')"
   ]
  },
  {
   "cell_type": "code",
   "execution_count": null,
   "metadata": {
    "scrolled": true
   },
   "outputs": [],
   "source": [
    "df.nunique()"
   ]
  },
  {
   "cell_type": "code",
   "execution_count": null,
   "metadata": {},
   "outputs": [],
   "source": [
    "df.isnull().sum()"
   ]
  },
  {
   "cell_type": "code",
   "execution_count": null,
   "metadata": {},
   "outputs": [],
   "source": [
    "# # Replace all occurrences of -1 with NaN\n",
    "# df.replace(-1, np.NaN, inplace=True)"
   ]
  },
  {
   "cell_type": "code",
   "execution_count": null,
   "metadata": {},
   "outputs": [],
   "source": [
    "df.columns\n"
   ]
  },
  {
   "cell_type": "code",
   "execution_count": null,
   "metadata": {},
   "outputs": [],
   "source": [
    "# Calculate the percentage of each casualty severity within each IMD decile category\n",
    "severity_imd_percentage = df.groupby(['casualty_imd_decile', 'casualty_severity']).size() / df.groupby('casualty_imd_decile').size() * 100\n",
    "severity_imd_percentage = severity_imd_percentage.reset_index(name='Percentage')\n",
    "severity_imd_percentage\n"
   ]
  },
  {
   "cell_type": "code",
   "execution_count": null,
   "metadata": {},
   "outputs": [],
   "source": [
    "print(severity_imd_percentage.dtypes)\n"
   ]
  },
  {
   "cell_type": "code",
   "execution_count": null,
   "metadata": {},
   "outputs": [],
   "source": [
    "severity_imd_percentage['casualty_severity'] = severity_imd_percentage['casualty_severity'].astype(str)\n"
   ]
  },
  {
   "cell_type": "code",
   "execution_count": null,
   "metadata": {},
   "outputs": [],
   "source": [
    "# Plotting the relationship between casualty severity and IMD decile\n",
    "plt.figure(figsize=(10, 6))\n",
    "sns.barplot(x='casualty_imd_decile', y='Percentage', hue='casualty_severity', data=severity_imd_percentage)\n",
    "plt.title('Percentage of Casualty Severity by IMD Decile of Casualty Home Postcode')\n",
    "plt.xlabel('IMD Decile')\n",
    "plt.ylabel('Percentage')\n",
    "plt.legend(title='Casualty Severity', loc='upper right')\n",
    "plt.show()"
   ]
  },
  {
   "cell_type": "code",
   "execution_count": null,
   "metadata": {},
   "outputs": [],
   "source": []
  },
  {
   "cell_type": "code",
   "execution_count": null,
   "metadata": {},
   "outputs": [],
   "source": []
  },
  {
   "cell_type": "code",
   "execution_count": null,
   "metadata": {},
   "outputs": [],
   "source": []
  },
  {
   "cell_type": "code",
   "execution_count": null,
   "metadata": {},
   "outputs": [],
   "source": []
  },
  {
   "cell_type": "code",
   "execution_count": null,
   "metadata": {},
   "outputs": [],
   "source": [
    "\n",
    "# Plot the relationship between casualties by road user type and IMD decile\n",
    "plt.figure(figsize=(12, 8))\n",
    "sns.countplot(x='casualty_type_categ', hue='casualty_imd_decile_categ', data=casualty_type_tmd_decile_df)\n",
    "plt.title('Casualties by Road User Type and IMD Decile')\n",
    "plt.xlabel('Road User Type')\n",
    "plt.ylabel('Number of Casualties')\n",
    "plt.legend(title='IMD Decile')\n",
    "plt.xticks(rotation=45)  # Rotate x-axis labels for better readability\n",
    "plt.show()\n"
   ]
  },
  {
   "cell_type": "code",
   "execution_count": null,
   "metadata": {},
   "outputs": [],
   "source": [
    "# import seaborn as sns\n",
    "# import matplotlib.pyplot as plt\n",
    "\n",
    "# # Calculate the percentage of each road user type within each IMD decile category\n",
    "# road_user_imd_percentage = df.groupby(['casualty_imd_decile', 'casualty_type']).size() / df.groupby('casualty_imd_decile').size() * 100\n",
    "# road_user_imd_percentage = road_user_imd_percentage.reset_index(name='Percentage')\n",
    "\n",
    "# # Plot the relationship between road user type and IMD decile\n",
    "# plt.figure(figsize=(12, 8))\n",
    "# sns.barplot(x='casualty_imd_decile', y='Percentage', hue='casualty_type', data=road_user_imd_percentage)\n",
    "# plt.title('Casualties by Road User Type and IMD Decile')\n",
    "# plt.xlabel('IMD Decile')\n",
    "# plt.ylabel('Percentage of Casualties')\n",
    "# plt.legend(title='Road User Type', loc='upper right')\n",
    "# plt.show()\n"
   ]
  },
  {
   "cell_type": "code",
   "execution_count": null,
   "metadata": {},
   "outputs": [],
   "source": [
    "# Plot the relationship between casualty severity and the IMD decile\n",
    "plt.figure(figsize=(10, 8))\n",
    "sns.boxplot(x='casualty_severity', y='casualty_imd_decile', data=df)\n",
    "# sns.boxplot(x='casualty_imd_decile', y='casualty_severity',  data=df)\n",
    "plt.title('Casualty Severity by IMD Decile')\n",
    "plt.xlabel('Casualty Severity')\n",
    "plt.ylabel('IMD Decile')\n",
    "plt.show()"
   ]
  },
  {
   "cell_type": "code",
   "execution_count": null,
   "metadata": {},
   "outputs": [],
   "source": []
  },
  {
   "cell_type": "code",
   "execution_count": null,
   "metadata": {},
   "outputs": [],
   "source": []
  },
  {
   "cell_type": "code",
   "execution_count": null,
   "metadata": {},
   "outputs": [],
   "source": []
  },
  {
   "cell_type": "code",
   "execution_count": null,
   "metadata": {},
   "outputs": [],
   "source": [
    "# imputer = KNNImputer(n_neighbors=3)\n",
    "# df = imputer.fit_transform(df)"
   ]
  },
  {
   "cell_type": "code",
   "execution_count": null,
   "metadata": {},
   "outputs": [],
   "source": [
    "# Calculate the frequency of each value in the \"pedestrian_location\" column\n",
    "value_counts(df, 'pedestrian_location')"
   ]
  },
  {
   "cell_type": "code",
   "execution_count": null,
   "metadata": {},
   "outputs": [],
   "source": [
    "# Calculate the frequency of each value in the \"pedestrian_movement\" column\n",
    "value_counts(df, 'pedestrian_movement')"
   ]
  },
  {
   "cell_type": "code",
   "execution_count": null,
   "metadata": {},
   "outputs": [],
   "source": [
    "# Calculate the frequency of each value in the \"car_passenger\" column\n",
    "value_counts(df, 'car_passenger')"
   ]
  },
  {
   "cell_type": "code",
   "execution_count": null,
   "metadata": {},
   "outputs": [],
   "source": [
    "# Calculate the frequency of each value in the \"bus_or_coach_passenger\" column\n",
    "value_counts(df, 'bus_or_coach_passenger')"
   ]
  },
  {
   "cell_type": "code",
   "execution_count": null,
   "metadata": {},
   "outputs": [],
   "source": [
    "# Calculate the frequency of each value in the \"pedestrian_road_maintenance_worker\" column\n",
    "value_counts(df, 'pedestrian_road_maintenance_worker')"
   ]
  },
  {
   "cell_type": "code",
   "execution_count": null,
   "metadata": {},
   "outputs": [],
   "source": [
    "# Calculate the frequency of each value in the \"casualty_type\" column\n",
    "value_counts(df, 'casualty_type')"
   ]
  },
  {
   "cell_type": "code",
   "execution_count": null,
   "metadata": {},
   "outputs": [],
   "source": [
    "# Calculate the frequency of each value in the \"casualty_home_area_type\" column\n",
    "value_counts(df, 'casualty_home_area_type')"
   ]
  },
  {
   "cell_type": "code",
   "execution_count": null,
   "metadata": {
    "scrolled": true
   },
   "outputs": [],
   "source": [
    "# Calculate the frequency of each value in the \"casualty_imd_decile\" column\n",
    "value_counts(df, 'casualty_imd_decile')"
   ]
  },
  {
   "cell_type": "code",
   "execution_count": null,
   "metadata": {},
   "outputs": [],
   "source": [
    "df.casualty_imd_decile.nunique()"
   ]
  },
  {
   "cell_type": "code",
   "execution_count": null,
   "metadata": {},
   "outputs": [],
   "source": [
    "# Calculate the frequency of each value in the \"lsoa_of_casualty\" column\n",
    "value_counts(df, 'lsoa_of_casualty')"
   ]
  },
  {
   "cell_type": "code",
   "execution_count": null,
   "metadata": {},
   "outputs": [],
   "source": [
    "df.lsoa_of_casualty.nunique()"
   ]
  },
  {
   "cell_type": "code",
   "execution_count": null,
   "metadata": {},
   "outputs": [],
   "source": [
    "(df['lsoa_of_casualty'].value_counts()>10).sum()"
   ]
  },
  {
   "cell_type": "code",
   "execution_count": null,
   "metadata": {},
   "outputs": [],
   "source": [
    "# count_plot_df(df, 'lsoa_of_casualty')"
   ]
  },
  {
   "cell_type": "code",
   "execution_count": null,
   "metadata": {},
   "outputs": [],
   "source": []
  },
  {
   "cell_type": "code",
   "execution_count": null,
   "metadata": {},
   "outputs": [],
   "source": [
    "df.head(10)"
   ]
  },
  {
   "cell_type": "code",
   "execution_count": null,
   "metadata": {},
   "outputs": [],
   "source": [
    "shape = df.shape\n",
    "print(f'Dataset has {shape[0]} rows and {shape[1]} columns.')"
   ]
  },
  {
   "cell_type": "markdown",
   "metadata": {},
   "source": [
    "## 3. Exploratory Data Analysis (EDA)"
   ]
  },
  {
   "cell_type": "markdown",
   "metadata": {},
   "source": [
    "## 4. Feature Engineering"
   ]
  },
  {
   "cell_type": "markdown",
   "metadata": {},
   "source": [
    "## 5. Data Visualization"
   ]
  },
  {
   "cell_type": "markdown",
   "metadata": {},
   "source": [
    "## 6. Model Building"
   ]
  },
  {
   "cell_type": "markdown",
   "metadata": {},
   "source": [
    "## 7. Interpretation and Insights"
   ]
  }
 ],
 "metadata": {
  "kernelspec": {
   "display_name": "Python 3 (ipykernel)",
   "language": "python",
   "name": "python3"
  },
  "language_info": {
   "codemirror_mode": {
    "name": "ipython",
    "version": 3
   },
   "file_extension": ".py",
   "mimetype": "text/x-python",
   "name": "python",
   "nbconvert_exporter": "python",
   "pygments_lexer": "ipython3",
   "version": "3.11.5"
  }
 },
 "nbformat": 4,
 "nbformat_minor": 4
}
