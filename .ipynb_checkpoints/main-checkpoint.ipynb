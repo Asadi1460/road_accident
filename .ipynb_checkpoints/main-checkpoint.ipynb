{
 "cells": [
  {
   "cell_type": "markdown",
   "metadata": {},
   "source": [
    "# $\\color{red}{\\text{Project: Road Accidents Analysis}}$"
   ]
  },
  {
   "cell_type": "markdown",
   "metadata": {},
   "source": [
    "<h2 style=\"background-color:DodgerBlue;\">\n",
    "Dataset Descriptions:\n",
    "</h2>\n",
    "\n",
    "<!-- <h3>\n",
    "    Columns descriptions:\n",
    "</h3> -->\n",
    "    \n",
    "1. Status: The status of the accident (e.g., reported, under investigation).\n",
    "2. Accident_Index: A unique identifier for each reported accident.\n",
    "3. Accident_Year: The year in which the accident occurred.\n",
    "4. Accident_Reference: A reference number associated with the accident.\n",
    "5. Vehicle_Reference: A reference number for the involved vehicle in the accident.\n",
    "6. Casualty_Reference: A reference number for the casualty involved in the accident.\n",
    "7. Casualty_Class: Indicates the class of the casualty (e.g., driver, passenger, pedestrian).\n",
    "8. Sex_of_Casualty: The gender of the casualty (male or female).\n",
    "9. Age_of_Casualty: The age of the casualty.\n",
    "10. Age_Band_of_Casualty: Age group to which the casualty belongs (e.g., 0-5, 6-10, 11-15).\n",
    "11. Casualty_Severity: The severity of the casualty's injuries (e.g., fatal, serious, slight).\n",
    "12. Pedestrian_Location: The location of the pedestrian at the time of the accident.\n",
    "13. Pedestrian_Movement: The movement of the pedestrian during the accident.\n",
    "14. Car_Passenger: Indicates whether the casualty was a car passenger at the time of the accident (yes or no).\n",
    "15. Bus_or_Coach_Passenger: Indicates whether the casualty was a bus or coach passenger (yes or no).\n",
    "16. Pedestrian_Road_Maintenance_Worker: Indicates whether the casualty was a road maintenance worker (yes or no).\n",
    "17. Casualty_Type: The type of casualty (e.g., driver/rider, passenger, pedestrian).\n",
    "18. Casualty_Home_Area_Type: The type of area in which the casualty resides (e.g., urban, rural).\n",
    "19. Casualty_IMD_Decile: The IMD decile of the area where the casualty resides (a measure of deprivation).\n",
    "20. LSOA_of_Casualty: The Lower Layer Super Output Area (LSOA) associated with the casualty's location."
   ]
  },
  {
   "cell_type": "markdown",
   "metadata": {},
   "source": [
    "<h2 style=\"background-color:DodgerBlue;\">\n",
    "Necessary imports\n",
    "</h2>"
   ]
  },
  {
   "cell_type": "code",
   "execution_count": 1,
   "metadata": {
    "is_executing": true
   },
   "outputs": [],
   "source": [
    "import pandas as pd\n",
    "import numpy as np\n",
    "import seaborn as sns\n",
    "import matplotlib.pyplot as plt\n",
    "from sklearn.impute import KNNImputer"
   ]
  },
  {
   "cell_type": "code",
   "execution_count": 2,
   "metadata": {},
   "outputs": [],
   "source": [
    "import warnings\n",
    "warnings.filterwarnings(\"ignore\", \"is_categorical_dtype\")\n",
    "warnings.filterwarnings(\"ignore\", \"use_inf_as_na\")"
   ]
  },
  {
   "cell_type": "code",
   "execution_count": 57,
   "metadata": {},
   "outputs": [
    {
     "name": "stdout",
     "output_type": "stream",
     "text": [
      "(61352, 20)\n"
     ]
    },
    {
     "data": {
      "text/html": [
       "<div>\n",
       "<style scoped>\n",
       "    .dataframe tbody tr th:only-of-type {\n",
       "        vertical-align: middle;\n",
       "    }\n",
       "\n",
       "    .dataframe tbody tr th {\n",
       "        vertical-align: top;\n",
       "    }\n",
       "\n",
       "    .dataframe thead th {\n",
       "        text-align: right;\n",
       "    }\n",
       "</style>\n",
       "<table border=\"1\" class=\"dataframe\">\n",
       "  <thead>\n",
       "    <tr style=\"text-align: right;\">\n",
       "      <th></th>\n",
       "      <th>status</th>\n",
       "      <th>accident_index</th>\n",
       "      <th>accident_year</th>\n",
       "      <th>accident_reference</th>\n",
       "      <th>vehicle_reference</th>\n",
       "      <th>casualty_reference</th>\n",
       "      <th>casualty_class</th>\n",
       "      <th>sex_of_casualty</th>\n",
       "      <th>age_of_casualty</th>\n",
       "      <th>age_band_of_casualty</th>\n",
       "      <th>casualty_severity</th>\n",
       "      <th>pedestrian_location</th>\n",
       "      <th>pedestrian_movement</th>\n",
       "      <th>car_passenger</th>\n",
       "      <th>bus_or_coach_passenger</th>\n",
       "      <th>pedestrian_road_maintenance_worker</th>\n",
       "      <th>casualty_type</th>\n",
       "      <th>casualty_home_area_type</th>\n",
       "      <th>casualty_imd_decile</th>\n",
       "      <th>lsoa_of_casualty</th>\n",
       "    </tr>\n",
       "  </thead>\n",
       "  <tbody>\n",
       "    <tr>\n",
       "      <th>180</th>\n",
       "      <td>Unvalidated</td>\n",
       "      <td>2022161149388</td>\n",
       "      <td>2022</td>\n",
       "      <td>161149388</td>\n",
       "      <td>1</td>\n",
       "      <td>2</td>\n",
       "      <td>3</td>\n",
       "      <td>1</td>\n",
       "      <td>31</td>\n",
       "      <td>6</td>\n",
       "      <td>3</td>\n",
       "      <td>1</td>\n",
       "      <td>1</td>\n",
       "      <td>0</td>\n",
       "      <td>0</td>\n",
       "      <td>0</td>\n",
       "      <td>0</td>\n",
       "      <td>-1</td>\n",
       "      <td>-1</td>\n",
       "      <td>-1</td>\n",
       "    </tr>\n",
       "    <tr>\n",
       "      <th>27145</th>\n",
       "      <td>Unvalidated</td>\n",
       "      <td>2022010382538</td>\n",
       "      <td>2022</td>\n",
       "      <td>010382538</td>\n",
       "      <td>2</td>\n",
       "      <td>1</td>\n",
       "      <td>1</td>\n",
       "      <td>1</td>\n",
       "      <td>23</td>\n",
       "      <td>5</td>\n",
       "      <td>3</td>\n",
       "      <td>0</td>\n",
       "      <td>0</td>\n",
       "      <td>0</td>\n",
       "      <td>0</td>\n",
       "      <td>0</td>\n",
       "      <td>1</td>\n",
       "      <td>1</td>\n",
       "      <td>3</td>\n",
       "      <td>E01002043</td>\n",
       "    </tr>\n",
       "    <tr>\n",
       "      <th>32269</th>\n",
       "      <td>Unvalidated</td>\n",
       "      <td>2022010367632</td>\n",
       "      <td>2022</td>\n",
       "      <td>010367632</td>\n",
       "      <td>1</td>\n",
       "      <td>1</td>\n",
       "      <td>1</td>\n",
       "      <td>1</td>\n",
       "      <td>23</td>\n",
       "      <td>5</td>\n",
       "      <td>3</td>\n",
       "      <td>0</td>\n",
       "      <td>0</td>\n",
       "      <td>0</td>\n",
       "      <td>0</td>\n",
       "      <td>0</td>\n",
       "      <td>3</td>\n",
       "      <td>1</td>\n",
       "      <td>6</td>\n",
       "      <td>E01002186</td>\n",
       "    </tr>\n",
       "    <tr>\n",
       "      <th>3107</th>\n",
       "      <td>Unvalidated</td>\n",
       "      <td>2022991178662</td>\n",
       "      <td>2022</td>\n",
       "      <td>991178662</td>\n",
       "      <td>2</td>\n",
       "      <td>1</td>\n",
       "      <td>1</td>\n",
       "      <td>2</td>\n",
       "      <td>49</td>\n",
       "      <td>8</td>\n",
       "      <td>2</td>\n",
       "      <td>0</td>\n",
       "      <td>0</td>\n",
       "      <td>0</td>\n",
       "      <td>0</td>\n",
       "      <td>0</td>\n",
       "      <td>1</td>\n",
       "      <td>1</td>\n",
       "      <td>10</td>\n",
       "      <td>-1</td>\n",
       "    </tr>\n",
       "    <tr>\n",
       "      <th>27881</th>\n",
       "      <td>Unvalidated</td>\n",
       "      <td>2022610003322</td>\n",
       "      <td>2022</td>\n",
       "      <td>610003322</td>\n",
       "      <td>1</td>\n",
       "      <td>1</td>\n",
       "      <td>2</td>\n",
       "      <td>1</td>\n",
       "      <td>24</td>\n",
       "      <td>5</td>\n",
       "      <td>3</td>\n",
       "      <td>0</td>\n",
       "      <td>0</td>\n",
       "      <td>1</td>\n",
       "      <td>0</td>\n",
       "      <td>0</td>\n",
       "      <td>9</td>\n",
       "      <td>1</td>\n",
       "      <td>7</td>\n",
       "      <td>W01001409</td>\n",
       "    </tr>\n",
       "  </tbody>\n",
       "</table>\n",
       "</div>"
      ],
      "text/plain": [
       "            status accident_index  accident_year accident_reference  \\\n",
       "180    Unvalidated  2022161149388           2022          161149388   \n",
       "27145  Unvalidated  2022010382538           2022          010382538   \n",
       "32269  Unvalidated  2022010367632           2022          010367632   \n",
       "3107   Unvalidated  2022991178662           2022          991178662   \n",
       "27881  Unvalidated  2022610003322           2022          610003322   \n",
       "\n",
       "       vehicle_reference  casualty_reference  casualty_class  sex_of_casualty  \\\n",
       "180                    1                   2               3                1   \n",
       "27145                  2                   1               1                1   \n",
       "32269                  1                   1               1                1   \n",
       "3107                   2                   1               1                2   \n",
       "27881                  1                   1               2                1   \n",
       "\n",
       "       age_of_casualty  age_band_of_casualty  casualty_severity  \\\n",
       "180                 31                     6                  3   \n",
       "27145               23                     5                  3   \n",
       "32269               23                     5                  3   \n",
       "3107                49                     8                  2   \n",
       "27881               24                     5                  3   \n",
       "\n",
       "       pedestrian_location  pedestrian_movement  car_passenger  \\\n",
       "180                      1                    1              0   \n",
       "27145                    0                    0              0   \n",
       "32269                    0                    0              0   \n",
       "3107                     0                    0              0   \n",
       "27881                    0                    0              1   \n",
       "\n",
       "       bus_or_coach_passenger  pedestrian_road_maintenance_worker  \\\n",
       "180                         0                                   0   \n",
       "27145                       0                                   0   \n",
       "32269                       0                                   0   \n",
       "3107                        0                                   0   \n",
       "27881                       0                                   0   \n",
       "\n",
       "       casualty_type  casualty_home_area_type  casualty_imd_decile  \\\n",
       "180                0                       -1                   -1   \n",
       "27145              1                        1                    3   \n",
       "32269              3                        1                    6   \n",
       "3107               1                        1                   10   \n",
       "27881              9                        1                    7   \n",
       "\n",
       "      lsoa_of_casualty  \n",
       "180                 -1  \n",
       "27145        E01002043  \n",
       "32269        E01002186  \n",
       "3107                -1  \n",
       "27881        W01001409  "
      ]
     },
     "execution_count": 57,
     "metadata": {},
     "output_type": "execute_result"
    }
   ],
   "source": [
    "df = pd.read_csv('dft-road-casualty-statistics-casualty-provisional-mid-year-unvalidated-2022.csv').drop_duplicates()\n",
    "\n",
    "print(df.shape)\n",
    "df.sample(5)"
   ]
  },
  {
   "cell_type": "markdown",
   "metadata": {},
   "source": [
    "## 1. Data Loading and Initial Inspection"
   ]
  },
  {
   "cell_type": "code",
   "execution_count": 3,
   "metadata": {},
   "outputs": [
    {
     "data": {
      "text/html": [
       "<div>\n",
       "<style scoped>\n",
       "    .dataframe tbody tr th:only-of-type {\n",
       "        vertical-align: middle;\n",
       "    }\n",
       "\n",
       "    .dataframe tbody tr th {\n",
       "        vertical-align: top;\n",
       "    }\n",
       "\n",
       "    .dataframe thead th {\n",
       "        text-align: right;\n",
       "    }\n",
       "</style>\n",
       "<table border=\"1\" class=\"dataframe\">\n",
       "  <thead>\n",
       "    <tr style=\"text-align: right;\">\n",
       "      <th></th>\n",
       "      <th>status</th>\n",
       "      <th>accident_index</th>\n",
       "      <th>accident_year</th>\n",
       "      <th>accident_reference</th>\n",
       "      <th>vehicle_reference</th>\n",
       "      <th>casualty_reference</th>\n",
       "      <th>casualty_class</th>\n",
       "      <th>sex_of_casualty</th>\n",
       "      <th>age_of_casualty</th>\n",
       "      <th>age_band_of_casualty</th>\n",
       "      <th>casualty_severity</th>\n",
       "      <th>pedestrian_location</th>\n",
       "      <th>pedestrian_movement</th>\n",
       "      <th>car_passenger</th>\n",
       "      <th>bus_or_coach_passenger</th>\n",
       "      <th>pedestrian_road_maintenance_worker</th>\n",
       "      <th>casualty_type</th>\n",
       "      <th>casualty_home_area_type</th>\n",
       "      <th>casualty_imd_decile</th>\n",
       "      <th>lsoa_of_casualty</th>\n",
       "    </tr>\n",
       "  </thead>\n",
       "  <tbody>\n",
       "    <tr>\n",
       "      <th>0</th>\n",
       "      <td>Unvalidated</td>\n",
       "      <td>2022070151244</td>\n",
       "      <td>2022</td>\n",
       "      <td>070151244</td>\n",
       "      <td>2</td>\n",
       "      <td>1</td>\n",
       "      <td>1</td>\n",
       "      <td>2</td>\n",
       "      <td>46</td>\n",
       "      <td>8</td>\n",
       "      <td>3</td>\n",
       "      <td>0</td>\n",
       "      <td>0</td>\n",
       "      <td>0</td>\n",
       "      <td>0</td>\n",
       "      <td>0</td>\n",
       "      <td>9</td>\n",
       "      <td>1</td>\n",
       "      <td>9</td>\n",
       "      <td>E01033378</td>\n",
       "    </tr>\n",
       "    <tr>\n",
       "      <th>1</th>\n",
       "      <td>Unvalidated</td>\n",
       "      <td>2022070152668</td>\n",
       "      <td>2022</td>\n",
       "      <td>070152668</td>\n",
       "      <td>1</td>\n",
       "      <td>1</td>\n",
       "      <td>1</td>\n",
       "      <td>1</td>\n",
       "      <td>30</td>\n",
       "      <td>6</td>\n",
       "      <td>3</td>\n",
       "      <td>0</td>\n",
       "      <td>0</td>\n",
       "      <td>0</td>\n",
       "      <td>0</td>\n",
       "      <td>0</td>\n",
       "      <td>9</td>\n",
       "      <td>1</td>\n",
       "      <td>2</td>\n",
       "      <td>E01018551</td>\n",
       "    </tr>\n",
       "    <tr>\n",
       "      <th>2</th>\n",
       "      <td>Unvalidated</td>\n",
       "      <td>2022070154696</td>\n",
       "      <td>2022</td>\n",
       "      <td>070154696</td>\n",
       "      <td>1</td>\n",
       "      <td>1</td>\n",
       "      <td>1</td>\n",
       "      <td>2</td>\n",
       "      <td>58</td>\n",
       "      <td>9</td>\n",
       "      <td>3</td>\n",
       "      <td>0</td>\n",
       "      <td>0</td>\n",
       "      <td>0</td>\n",
       "      <td>0</td>\n",
       "      <td>0</td>\n",
       "      <td>9</td>\n",
       "      <td>1</td>\n",
       "      <td>10</td>\n",
       "      <td>E01006134</td>\n",
       "    </tr>\n",
       "    <tr>\n",
       "      <th>3</th>\n",
       "      <td>Unvalidated</td>\n",
       "      <td>2022070154696</td>\n",
       "      <td>2022</td>\n",
       "      <td>070154696</td>\n",
       "      <td>2</td>\n",
       "      <td>3</td>\n",
       "      <td>1</td>\n",
       "      <td>2</td>\n",
       "      <td>78</td>\n",
       "      <td>11</td>\n",
       "      <td>3</td>\n",
       "      <td>0</td>\n",
       "      <td>0</td>\n",
       "      <td>0</td>\n",
       "      <td>0</td>\n",
       "      <td>0</td>\n",
       "      <td>9</td>\n",
       "      <td>2</td>\n",
       "      <td>10</td>\n",
       "      <td>E01018724</td>\n",
       "    </tr>\n",
       "    <tr>\n",
       "      <th>4</th>\n",
       "      <td>Unvalidated</td>\n",
       "      <td>2022070154696</td>\n",
       "      <td>2022</td>\n",
       "      <td>070154696</td>\n",
       "      <td>3</td>\n",
       "      <td>2</td>\n",
       "      <td>1</td>\n",
       "      <td>1</td>\n",
       "      <td>63</td>\n",
       "      <td>9</td>\n",
       "      <td>3</td>\n",
       "      <td>0</td>\n",
       "      <td>0</td>\n",
       "      <td>0</td>\n",
       "      <td>0</td>\n",
       "      <td>0</td>\n",
       "      <td>9</td>\n",
       "      <td>3</td>\n",
       "      <td>7</td>\n",
       "      <td>W01000578</td>\n",
       "    </tr>\n",
       "  </tbody>\n",
       "</table>\n",
       "</div>"
      ],
      "text/plain": [
       "        status accident_index  accident_year accident_reference  \\\n",
       "0  Unvalidated  2022070151244           2022          070151244   \n",
       "1  Unvalidated  2022070152668           2022          070152668   \n",
       "2  Unvalidated  2022070154696           2022          070154696   \n",
       "3  Unvalidated  2022070154696           2022          070154696   \n",
       "4  Unvalidated  2022070154696           2022          070154696   \n",
       "\n",
       "   vehicle_reference  casualty_reference  casualty_class  sex_of_casualty  \\\n",
       "0                  2                   1               1                2   \n",
       "1                  1                   1               1                1   \n",
       "2                  1                   1               1                2   \n",
       "3                  2                   3               1                2   \n",
       "4                  3                   2               1                1   \n",
       "\n",
       "   age_of_casualty  age_band_of_casualty  casualty_severity  \\\n",
       "0               46                     8                  3   \n",
       "1               30                     6                  3   \n",
       "2               58                     9                  3   \n",
       "3               78                    11                  3   \n",
       "4               63                     9                  3   \n",
       "\n",
       "   pedestrian_location  pedestrian_movement  car_passenger  \\\n",
       "0                    0                    0              0   \n",
       "1                    0                    0              0   \n",
       "2                    0                    0              0   \n",
       "3                    0                    0              0   \n",
       "4                    0                    0              0   \n",
       "\n",
       "   bus_or_coach_passenger  pedestrian_road_maintenance_worker  casualty_type  \\\n",
       "0                       0                                   0              9   \n",
       "1                       0                                   0              9   \n",
       "2                       0                                   0              9   \n",
       "3                       0                                   0              9   \n",
       "4                       0                                   0              9   \n",
       "\n",
       "   casualty_home_area_type  casualty_imd_decile lsoa_of_casualty  \n",
       "0                        1                    9        E01033378  \n",
       "1                        1                    2        E01018551  \n",
       "2                        1                   10        E01006134  \n",
       "3                        2                   10        E01018724  \n",
       "4                        3                    7        W01000578  "
      ]
     },
     "execution_count": 3,
     "metadata": {},
     "output_type": "execute_result"
    }
   ],
   "source": [
    "df = pd.read_csv('dft-road-casualty-statistics-casualty-provisional-mid-year-unvalidated-2022.csv')\n",
    "\n",
    "df.head()"
   ]
  },
  {
   "cell_type": "code",
   "execution_count": 4,
   "metadata": {},
   "outputs": [
    {
     "name": "stdout",
     "output_type": "stream",
     "text": [
      "Dataset has 61352 rows and 20 columns.\n"
     ]
    }
   ],
   "source": [
    "shape = df.shape\n",
    "print(f'Dataset has {shape[0]} rows and {shape[1]} columns.')"
   ]
  },
  {
   "cell_type": "code",
   "execution_count": 63,
   "metadata": {},
   "outputs": [
    {
     "name": "stdout",
     "output_type": "stream",
     "text": [
      "<class 'pandas.core.frame.DataFrame'>\n",
      "RangeIndex: 61352 entries, 0 to 61351\n",
      "Data columns (total 20 columns):\n",
      " #   Column                              Non-Null Count  Dtype \n",
      "---  ------                              --------------  ----- \n",
      " 0   status                              61352 non-null  object\n",
      " 1   accident_index                      61352 non-null  object\n",
      " 2   accident_year                       61352 non-null  int64 \n",
      " 3   accident_reference                  61352 non-null  object\n",
      " 4   vehicle_reference                   61352 non-null  int64 \n",
      " 5   casualty_reference                  61352 non-null  int64 \n",
      " 6   casualty_class                      61352 non-null  int64 \n",
      " 7   sex_of_casualty                     61352 non-null  int64 \n",
      " 8   age_of_casualty                     61352 non-null  int64 \n",
      " 9   age_band_of_casualty                61352 non-null  int64 \n",
      " 10  casualty_severity                   61352 non-null  int64 \n",
      " 11  pedestrian_location                 61352 non-null  int64 \n",
      " 12  pedestrian_movement                 61352 non-null  int64 \n",
      " 13  car_passenger                       61352 non-null  int64 \n",
      " 14  bus_or_coach_passenger              61352 non-null  int64 \n",
      " 15  pedestrian_road_maintenance_worker  61352 non-null  int64 \n",
      " 16  casualty_type                       61352 non-null  int64 \n",
      " 17  casualty_home_area_type             61352 non-null  int64 \n",
      " 18  casualty_imd_decile                 61352 non-null  int64 \n",
      " 19  lsoa_of_casualty                    61352 non-null  object\n",
      "dtypes: int64(16), object(4)\n",
      "memory usage: 9.4+ MB\n"
     ]
    }
   ],
   "source": [
    "df.info()"
   ]
  },
  {
   "cell_type": "code",
   "execution_count": 65,
   "metadata": {},
   "outputs": [
    {
     "data": {
      "text/html": [
       "<div>\n",
       "<style scoped>\n",
       "    .dataframe tbody tr th:only-of-type {\n",
       "        vertical-align: middle;\n",
       "    }\n",
       "\n",
       "    .dataframe tbody tr th {\n",
       "        vertical-align: top;\n",
       "    }\n",
       "\n",
       "    .dataframe thead th {\n",
       "        text-align: right;\n",
       "    }\n",
       "</style>\n",
       "<table border=\"1\" class=\"dataframe\">\n",
       "  <thead>\n",
       "    <tr style=\"text-align: right;\">\n",
       "      <th></th>\n",
       "      <th>count</th>\n",
       "      <th>mean</th>\n",
       "      <th>std</th>\n",
       "      <th>min</th>\n",
       "      <th>25%</th>\n",
       "      <th>50%</th>\n",
       "      <th>75%</th>\n",
       "      <th>max</th>\n",
       "    </tr>\n",
       "  </thead>\n",
       "  <tbody>\n",
       "    <tr>\n",
       "      <th>accident_year</th>\n",
       "      <td>61352.0</td>\n",
       "      <td>2022.000000</td>\n",
       "      <td>0.000000</td>\n",
       "      <td>2022.0</td>\n",
       "      <td>2022.0</td>\n",
       "      <td>2022.0</td>\n",
       "      <td>2022.0</td>\n",
       "      <td>2022.0</td>\n",
       "    </tr>\n",
       "    <tr>\n",
       "      <th>vehicle_reference</th>\n",
       "      <td>61352.0</td>\n",
       "      <td>1.450368</td>\n",
       "      <td>1.109855</td>\n",
       "      <td>1.0</td>\n",
       "      <td>1.0</td>\n",
       "      <td>1.0</td>\n",
       "      <td>2.0</td>\n",
       "      <td>227.0</td>\n",
       "    </tr>\n",
       "    <tr>\n",
       "      <th>casualty_reference</th>\n",
       "      <td>61352.0</td>\n",
       "      <td>1.333779</td>\n",
       "      <td>0.981507</td>\n",
       "      <td>1.0</td>\n",
       "      <td>1.0</td>\n",
       "      <td>1.0</td>\n",
       "      <td>1.0</td>\n",
       "      <td>148.0</td>\n",
       "    </tr>\n",
       "    <tr>\n",
       "      <th>casualty_class</th>\n",
       "      <td>61352.0</td>\n",
       "      <td>1.482299</td>\n",
       "      <td>0.735614</td>\n",
       "      <td>1.0</td>\n",
       "      <td>1.0</td>\n",
       "      <td>1.0</td>\n",
       "      <td>2.0</td>\n",
       "      <td>3.0</td>\n",
       "    </tr>\n",
       "    <tr>\n",
       "      <th>sex_of_casualty</th>\n",
       "      <td>61352.0</td>\n",
       "      <td>1.368790</td>\n",
       "      <td>0.534536</td>\n",
       "      <td>-1.0</td>\n",
       "      <td>1.0</td>\n",
       "      <td>1.0</td>\n",
       "      <td>2.0</td>\n",
       "      <td>9.0</td>\n",
       "    </tr>\n",
       "    <tr>\n",
       "      <th>age_of_casualty</th>\n",
       "      <td>61352.0</td>\n",
       "      <td>36.670312</td>\n",
       "      <td>19.574357</td>\n",
       "      <td>-1.0</td>\n",
       "      <td>22.0</td>\n",
       "      <td>34.0</td>\n",
       "      <td>50.0</td>\n",
       "      <td>101.0</td>\n",
       "    </tr>\n",
       "    <tr>\n",
       "      <th>age_band_of_casualty</th>\n",
       "      <td>61352.0</td>\n",
       "      <td>6.288157</td>\n",
       "      <td>2.463082</td>\n",
       "      <td>-1.0</td>\n",
       "      <td>5.0</td>\n",
       "      <td>6.0</td>\n",
       "      <td>8.0</td>\n",
       "      <td>11.0</td>\n",
       "    </tr>\n",
       "    <tr>\n",
       "      <th>casualty_severity</th>\n",
       "      <td>61352.0</td>\n",
       "      <td>2.783039</td>\n",
       "      <td>0.442318</td>\n",
       "      <td>1.0</td>\n",
       "      <td>3.0</td>\n",
       "      <td>3.0</td>\n",
       "      <td>3.0</td>\n",
       "      <td>3.0</td>\n",
       "    </tr>\n",
       "    <tr>\n",
       "      <th>pedestrian_location</th>\n",
       "      <td>61352.0</td>\n",
       "      <td>0.800316</td>\n",
       "      <td>2.197167</td>\n",
       "      <td>0.0</td>\n",
       "      <td>0.0</td>\n",
       "      <td>0.0</td>\n",
       "      <td>0.0</td>\n",
       "      <td>10.0</td>\n",
       "    </tr>\n",
       "    <tr>\n",
       "      <th>pedestrian_movement</th>\n",
       "      <td>61352.0</td>\n",
       "      <td>0.645325</td>\n",
       "      <td>2.009611</td>\n",
       "      <td>0.0</td>\n",
       "      <td>0.0</td>\n",
       "      <td>0.0</td>\n",
       "      <td>0.0</td>\n",
       "      <td>9.0</td>\n",
       "    </tr>\n",
       "    <tr>\n",
       "      <th>car_passenger</th>\n",
       "      <td>61352.0</td>\n",
       "      <td>0.222047</td>\n",
       "      <td>0.615127</td>\n",
       "      <td>-1.0</td>\n",
       "      <td>0.0</td>\n",
       "      <td>0.0</td>\n",
       "      <td>0.0</td>\n",
       "      <td>9.0</td>\n",
       "    </tr>\n",
       "    <tr>\n",
       "      <th>bus_or_coach_passenger</th>\n",
       "      <td>61352.0</td>\n",
       "      <td>0.048507</td>\n",
       "      <td>0.426419</td>\n",
       "      <td>-1.0</td>\n",
       "      <td>0.0</td>\n",
       "      <td>0.0</td>\n",
       "      <td>0.0</td>\n",
       "      <td>9.0</td>\n",
       "    </tr>\n",
       "    <tr>\n",
       "      <th>pedestrian_road_maintenance_worker</th>\n",
       "      <td>61352.0</td>\n",
       "      <td>0.032860</td>\n",
       "      <td>0.261327</td>\n",
       "      <td>-1.0</td>\n",
       "      <td>0.0</td>\n",
       "      <td>0.0</td>\n",
       "      <td>0.0</td>\n",
       "      <td>2.0</td>\n",
       "    </tr>\n",
       "    <tr>\n",
       "      <th>casualty_type</th>\n",
       "      <td>61352.0</td>\n",
       "      <td>9.475160</td>\n",
       "      <td>16.662727</td>\n",
       "      <td>-1.0</td>\n",
       "      <td>1.0</td>\n",
       "      <td>9.0</td>\n",
       "      <td>9.0</td>\n",
       "      <td>98.0</td>\n",
       "    </tr>\n",
       "    <tr>\n",
       "      <th>casualty_home_area_type</th>\n",
       "      <td>61352.0</td>\n",
       "      <td>1.091032</td>\n",
       "      <td>0.903365</td>\n",
       "      <td>-1.0</td>\n",
       "      <td>1.0</td>\n",
       "      <td>1.0</td>\n",
       "      <td>1.0</td>\n",
       "      <td>3.0</td>\n",
       "    </tr>\n",
       "    <tr>\n",
       "      <th>casualty_imd_decile</th>\n",
       "      <td>61352.0</td>\n",
       "      <td>4.337674</td>\n",
       "      <td>3.158496</td>\n",
       "      <td>-1.0</td>\n",
       "      <td>2.0</td>\n",
       "      <td>4.0</td>\n",
       "      <td>7.0</td>\n",
       "      <td>10.0</td>\n",
       "    </tr>\n",
       "  </tbody>\n",
       "</table>\n",
       "</div>"
      ],
      "text/plain": [
       "                                      count         mean        std     min  \\\n",
       "accident_year                       61352.0  2022.000000   0.000000  2022.0   \n",
       "vehicle_reference                   61352.0     1.450368   1.109855     1.0   \n",
       "casualty_reference                  61352.0     1.333779   0.981507     1.0   \n",
       "casualty_class                      61352.0     1.482299   0.735614     1.0   \n",
       "sex_of_casualty                     61352.0     1.368790   0.534536    -1.0   \n",
       "age_of_casualty                     61352.0    36.670312  19.574357    -1.0   \n",
       "age_band_of_casualty                61352.0     6.288157   2.463082    -1.0   \n",
       "casualty_severity                   61352.0     2.783039   0.442318     1.0   \n",
       "pedestrian_location                 61352.0     0.800316   2.197167     0.0   \n",
       "pedestrian_movement                 61352.0     0.645325   2.009611     0.0   \n",
       "car_passenger                       61352.0     0.222047   0.615127    -1.0   \n",
       "bus_or_coach_passenger              61352.0     0.048507   0.426419    -1.0   \n",
       "pedestrian_road_maintenance_worker  61352.0     0.032860   0.261327    -1.0   \n",
       "casualty_type                       61352.0     9.475160  16.662727    -1.0   \n",
       "casualty_home_area_type             61352.0     1.091032   0.903365    -1.0   \n",
       "casualty_imd_decile                 61352.0     4.337674   3.158496    -1.0   \n",
       "\n",
       "                                       25%     50%     75%     max  \n",
       "accident_year                       2022.0  2022.0  2022.0  2022.0  \n",
       "vehicle_reference                      1.0     1.0     2.0   227.0  \n",
       "casualty_reference                     1.0     1.0     1.0   148.0  \n",
       "casualty_class                         1.0     1.0     2.0     3.0  \n",
       "sex_of_casualty                        1.0     1.0     2.0     9.0  \n",
       "age_of_casualty                       22.0    34.0    50.0   101.0  \n",
       "age_band_of_casualty                   5.0     6.0     8.0    11.0  \n",
       "casualty_severity                      3.0     3.0     3.0     3.0  \n",
       "pedestrian_location                    0.0     0.0     0.0    10.0  \n",
       "pedestrian_movement                    0.0     0.0     0.0     9.0  \n",
       "car_passenger                          0.0     0.0     0.0     9.0  \n",
       "bus_or_coach_passenger                 0.0     0.0     0.0     9.0  \n",
       "pedestrian_road_maintenance_worker     0.0     0.0     0.0     2.0  \n",
       "casualty_type                          1.0     9.0     9.0    98.0  \n",
       "casualty_home_area_type                1.0     1.0     1.0     3.0  \n",
       "casualty_imd_decile                    2.0     4.0     7.0    10.0  "
      ]
     },
     "execution_count": 65,
     "metadata": {},
     "output_type": "execute_result"
    }
   ],
   "source": [
    "df.describe().T"
   ]
  },
  {
   "cell_type": "code",
   "execution_count": 7,
   "metadata": {},
   "outputs": [],
   "source": [
    "# Replace all occurrences of -1 with NaN\n",
    "# df.replace(-1, np.NaN, inplace=True)"
   ]
  },
  {
   "cell_type": "code",
   "execution_count": 8,
   "metadata": {},
   "outputs": [
    {
     "data": {
      "image/png": "[encoded data removed]",
      "text/plain": [
       "<Figure size 800x600 with 1 Axes>"
      ]
     },
     "metadata": {},
     "output_type": "display_data"
    }
   ],
   "source": [
    "import matplotlib.pyplot as plt\n",
    "import seaborn as sns\n",
    "\n",
    "# Plot the distribution of accident severities\n",
    "plt.figure(figsize=(8, 6))\n",
    "sns.countplot(x='casualty_severity', data=df)\n",
    "plt.title('Distribution of Accident Severities')\n",
    "plt.xlabel('Casualty Severity')\n",
    "plt.ylabel('Count')\n",
    "plt.show()"
   ]
  },
  {
   "cell_type": "code",
   "execution_count": 9,
   "metadata": {
    "scrolled": true
   },
   "outputs": [
    {
     "data": {
      "image/png": "[encoded data removed]",
      "text/plain": [
       "<Figure size 1000x800 with 1 Axes>"
      ]
     },
     "metadata": {},
     "output_type": "display_data"
    }
   ],
   "source": [
    "# Plot the relationship between casualty severity and age band\n",
    "plt.figure(figsize=(10, 8))\n",
    "sns.boxplot(x='casualty_severity', y='age_of_casualty', data=df)\n",
    "plt.title('Casualty Severity by Age of Casualty')\n",
    "plt.xlabel('Casualty Severity')\n",
    "plt.ylabel('Age of Casualty')\n",
    "plt.show()"
   ]
  },
  {
   "cell_type": "code",
   "execution_count": 10,
   "metadata": {},
   "outputs": [
    {
     "data": {
      "image/png": "[encoded data removed]",
      "text/plain": [
       "<Figure size 800x600 with 1 Axes>"
      ]
     },
     "metadata": {},
     "output_type": "display_data"
    }
   ],
   "source": [
    "# Map numerical codes to meaningful labels\n",
    "sex_mapping = {1: 'Male', 2: 'Female', -1: 'Unknown', 9: 'Not Specified'}\n",
    "\n",
    "# Replace numerical codes with corresponding labels\n",
    "df['sex_of_casualty'] = df['sex_of_casualty'].map(sex_mapping)\n",
    "\n",
    "# Plot the relationship between casualty severity and gender\n",
    "plt.figure(figsize=(8, 6))\n",
    "sns.countplot(x='casualty_severity', hue='sex_of_casualty', data=df)\n",
    "plt.title('Casualty Severity by Gender')\n",
    "plt.xlabel('Casualty Severity')\n",
    "plt.ylabel('Count')\n",
    "plt.legend(title='Sex of Casualty')\n",
    "plt.show()\n"
   ]
  },
  {
   "cell_type": "code",
   "execution_count": 19,
   "metadata": {},
   "outputs": [
    {
     "data": {
      "image/png": "[encoded data removed]",
      "text/plain": [
       "<Figure size 800x600 with 1 Axes>"
      ]
     },
     "metadata": {},
     "output_type": "display_data"
    }
   ],
   "source": [
    "# Plot the relationship between casualty severity and casualty's home area type\n",
    "\n",
    "# Map numerical codes to meaningful labels\n",
    "casualty_home_area_type_mapping = {1: 'Urban', 2: 'Rural', -1: 'Semi-Urban', 9: 'Unknown'}\n",
    "\n",
    "# Replace numerical codes with corresponding labels\n",
    "df['casualty_home_area_type'] = df['casualty_home_area_type'].map(casualty_home_area_type_mapping)\n",
    "\n",
    "\n",
    "plt.figure(figsize=(8, 6))\n",
    "sns.countplot(x='casualty_severity', hue='casualty_home_area_type', data=df)\n",
    "plt.title('Casualty Severity by Home Area Type')\n",
    "plt.xlabel('Casualty Severity')\n",
    "plt.ylabel('Count')\n",
    "plt.legend(title='Home Area Type', labels=['Unknown', 'Urban', 'Semi-Urban', 'Rural'])\n",
    "plt.show()"
   ]
  },
  {
   "cell_type": "code",
   "execution_count": null,
   "metadata": {},
   "outputs": [],
   "source": []
  },
  {
   "attachments": {},
   "cell_type": "markdown",
   "metadata": {},
   "source": [
    "## 2. Data Cleaning"
   ]
  },
  {
   "cell_type": "code",
   "execution_count": null,
   "metadata": {},
   "outputs": [],
   "source": [
    "nulls = df.isnull().sum()\n",
    "nulls"
   ]
  },
  {
   "cell_type": "code",
   "execution_count": null,
   "metadata": {},
   "outputs": [],
   "source": [
    "if sum(nulls) == 0:\n",
    "    print('There is no Null data.')\n",
    "else:\n",
    "    print('There are Null data.')\n"
   ]
  },
  {
   "cell_type": "code",
   "execution_count": null,
   "metadata": {
    "scrolled": true
   },
   "outputs": [],
   "source": [
    "df.columns"
   ]
  },
  {
   "cell_type": "code",
   "execution_count": null,
   "metadata": {},
   "outputs": [],
   "source": [
    "df.nunique()"
   ]
  },
  {
   "cell_type": "code",
   "execution_count": null,
   "metadata": {},
   "outputs": [],
   "source": [
    "# There is only one value for status and accident_year columns.\n",
    "df = df.drop(['status', 'accident_year'], axis=1)\n",
    "df.shape"
   ]
  },
  {
   "cell_type": "code",
   "execution_count": null,
   "metadata": {},
   "outputs": [],
   "source": [
    "df = df.drop(['accident_index', 'accident_reference'], axis=1)\n",
    "df.shape"
   ]
  },
  {
   "cell_type": "code",
   "execution_count": null,
   "metadata": {},
   "outputs": [],
   "source": [
    "# (df.accident_index == '2022' + df.accident_reference).sum()"
   ]
  },
  {
   "cell_type": "code",
   "execution_count": null,
   "metadata": {},
   "outputs": [],
   "source": [
    "# # df.accident_index is equal to '2022' + df.accident_reference\n",
    "# df = df.drop(['accident_index'], axis=1)\n",
    "# df.shape"
   ]
  },
  {
   "cell_type": "code",
   "execution_count": null,
   "metadata": {
    "scrolled": true
   },
   "outputs": [],
   "source": [
    "# Compute the correlation matrix\n",
    "correlation_matrix = df.corr()\n",
    "\n",
    "# Set up the matplotlib figure\n",
    "plt.figure(figsize=(12, 10))\n",
    "\n",
    "# Plot the heatmap\n",
    "sns.heatmap(correlation_matrix, annot=True, cmap=\"coolwarm\", fmt=\".2f\", cbar=True)\n",
    "\n",
    "# Add title\n",
    "plt.title('Correlation Heatmap of DataFrame')\n",
    "\n",
    "# Show the plot\n",
    "plt.show()\n"
   ]
  },
  {
   "cell_type": "code",
   "execution_count": 14,
   "metadata": {},
   "outputs": [],
   "source": [
    "def value_counts(df, column):\n",
    "    # Calculate the frequency of each value in the \"sex_of_casualty\" column\n",
    "    frequency = df[column].value_counts()\n",
    "    \n",
    "    # Print the frequency of every value\n",
    "    print(f\"Frequency of each value for DataFrame['{column}']: \\n{frequency}\")"
   ]
  },
  {
   "cell_type": "code",
   "execution_count": 15,
   "metadata": {},
   "outputs": [],
   "source": [
    "def remove_outliers(df, column, values_to_remove):\n",
    "    \"\"\"\n",
    "    Remove rows from a DataFrame where the specified column contains specified values.\n",
    "\n",
    "    Args:\n",
    "        df (DataFrame): The pandas DataFrame.\n",
    "        column (str): The column name to check for outliers.\n",
    "        values_to_remove (list): A list of values to remove from the specified column.\n",
    "\n",
    "    Returns:\n",
    "        DataFrame: The DataFrame with outliers removed.\n",
    "    \"\"\"\n",
    "    # Create a boolean mask to identify rows with the specified values to remove\n",
    "    mask = df[column].isin(values_to_remove)\n",
    "    \n",
    "    # Use the mask to filter out rows with the specified values and create a new DataFrame\n",
    "    filtered_df = df[~mask]\n",
    "    \n",
    "    # Optionally, you can modify the original DataFrame in place by uncommenting the following line:\n",
    "    # df.drop(df[mask].index, inplace=True)\n",
    "    \n",
    "    return filtered_df"
   ]
  },
  {
   "cell_type": "code",
   "execution_count": 16,
   "metadata": {},
   "outputs": [],
   "source": [
    "def count_plot_df(df, column, label=None):\n",
    "    # Set the style of the seaborn plot\n",
    "    sns.set_style(\"whitegrid\")\n",
    "    \n",
    "    # Create the count plot\n",
    "    plt.figure(figsize=(10, 6))\n",
    "    sns.countplot(data=df, x=column, palette=\"viridis\")\n",
    "    \n",
    "    # Rotate x-axis labels for better readability (if needed)\n",
    "    plt.xticks(rotation=45)\n",
    "    \n",
    "    # Add labels and title\n",
    "    if label is not None:\n",
    "        plt.xlabel(label)\n",
    "        plt.ylabel(\"Frequency\")\n",
    "        plt.title(f\"Frequency Plot of {label}\")\n",
    "    else:\n",
    "        plt.ylabel(\"Frequency\")\n",
    "        plt.title(f\"Frequency Plot\")\n",
    "        \n",
    "    \n",
    "    # Show the plot\n",
    "    plt.tight_layout()\n",
    "    plt.show()\n"
   ]
  },
  {
   "cell_type": "code",
   "execution_count": null,
   "metadata": {},
   "outputs": [],
   "source": [
    "df['vehicle_reference'].unique()"
   ]
  },
  {
   "cell_type": "code",
   "execution_count": null,
   "metadata": {
    "scrolled": true
   },
   "outputs": [],
   "source": [
    "value_counts(df, 'vehicle_reference')"
   ]
  },
  {
   "cell_type": "code",
   "execution_count": null,
   "metadata": {},
   "outputs": [],
   "source": [
    "vehicle_reference_to_remove = [7, 8, 9, 61, 227]\n",
    "df = remove_outliers(df, \"vehicle_reference\", vehicle_reference_to_remove)\n",
    "df.shape"
   ]
  },
  {
   "cell_type": "code",
   "execution_count": null,
   "metadata": {},
   "outputs": [],
   "source": [
    "value_counts(df, 'casualty_reference')"
   ]
  },
  {
   "cell_type": "code",
   "execution_count": null,
   "metadata": {},
   "outputs": [],
   "source": [
    "# Values to remove\n",
    "casualty_reference_to_remove = [6, 7, 8, 9, 10, 11, 12, 13, 14, 15, 16, 22, 148]\n",
    "\n",
    "df = remove_outliers(df, \"casualty_reference\", casualty_reference_to_remove)\n",
    "df.shape"
   ]
  },
  {
   "cell_type": "code",
   "execution_count": null,
   "metadata": {},
   "outputs": [],
   "source": [
    "count_plot_df(df, 'casualty_reference', label=\"Casualty Reference\")"
   ]
  },
  {
   "cell_type": "code",
   "execution_count": null,
   "metadata": {
    "scrolled": true
   },
   "outputs": [],
   "source": [
    "# Calculate the frequency of each value in the \"casualty_class\" column\n",
    "value_counts(df, 'casualty_class')"
   ]
  },
  {
   "cell_type": "code",
   "execution_count": null,
   "metadata": {
    "scrolled": true
   },
   "outputs": [],
   "source": [
    "# Calculate the frequency of each value in the \"casualty_type\" column\n",
    "value_counts(df, 'casualty_type')"
   ]
  },
  {
   "cell_type": "code",
   "execution_count": null,
   "metadata": {},
   "outputs": [],
   "source": [
    "# Values to remove\n",
    "casualty_type_to_remove = [-1]\n",
    "\n",
    "df = remove_outliers(df, 'casualty_type', casualty_type_to_remove)\n",
    "df.shape"
   ]
  },
  {
   "cell_type": "code",
   "execution_count": null,
   "metadata": {
    "scrolled": true
   },
   "outputs": [],
   "source": [
    "# Calculate the frequency of each value in the \"sex_of_casualty\" column\n",
    "value_counts(df, 'sex_of_casualty')"
   ]
  },
  {
   "cell_type": "code",
   "execution_count": null,
   "metadata": {},
   "outputs": [],
   "source": [
    "# Values to remove\n",
    "sex_of_casualty_to_remove = [-1, 9]\n",
    "\n",
    "df = remove_outliers(df, 'sex_of_casualty', sex_of_casualty_to_remove)\n",
    "df.shape"
   ]
  },
  {
   "cell_type": "code",
   "execution_count": null,
   "metadata": {
    "scrolled": true
   },
   "outputs": [],
   "source": [
    "# Calculate the frequency of each value in the \"age_of_casualty\" column\n",
    "value_counts(df, 'age_of_casualty')"
   ]
  },
  {
   "cell_type": "code",
   "execution_count": null,
   "metadata": {},
   "outputs": [],
   "source": [
    "count_plot_df(df, 'age_of_casualty', \"Age of Casualty\")"
   ]
  },
  {
   "cell_type": "code",
   "execution_count": null,
   "metadata": {},
   "outputs": [],
   "source": [
    "age_of_casualty_to_remove = [-1]\n",
    "\n",
    "df = remove_outliers(df, 'age_of_casualty', age_of_casualty_to_remove)\n",
    "df.shape"
   ]
  },
  {
   "cell_type": "code",
   "execution_count": null,
   "metadata": {
    "scrolled": true
   },
   "outputs": [],
   "source": [
    "# Calculate the frequency of each value in the \"age_band_of_casualty\" column\n",
    "value_counts(df, 'age_band_of_casualty')"
   ]
  },
  {
   "cell_type": "code",
   "execution_count": null,
   "metadata": {
    "scrolled": true
   },
   "outputs": [],
   "source": [
    "# Calculate the frequency of each value in the \"casualty_severity\" column\n",
    "value_counts(df, 'casualty_severity')"
   ]
  },
  {
   "cell_type": "code",
   "execution_count": null,
   "metadata": {
    "scrolled": true
   },
   "outputs": [],
   "source": [
    "df.nunique()"
   ]
  },
  {
   "cell_type": "code",
   "execution_count": null,
   "metadata": {},
   "outputs": [],
   "source": [
    "df.isnull().sum()"
   ]
  },
  {
   "cell_type": "code",
   "execution_count": null,
   "metadata": {},
   "outputs": [],
   "source": [
    "# Replace all occurrences of -1 with NaN\n",
    "df.replace(-1, np.NaN, inplace=True)"
   ]
  },
  {
   "cell_type": "code",
   "execution_count": null,
   "metadata": {},
   "outputs": [],
   "source": []
  },
  {
   "cell_type": "code",
   "execution_count": null,
   "metadata": {},
   "outputs": [],
   "source": []
  },
  {
   "cell_type": "code",
   "execution_count": null,
   "metadata": {},
   "outputs": [],
   "source": []
  },
  {
   "cell_type": "code",
   "execution_count": null,
   "metadata": {},
   "outputs": [],
   "source": []
  },
  {
   "cell_type": "code",
   "execution_count": null,
   "metadata": {},
   "outputs": [],
   "source": []
  },
  {
   "cell_type": "code",
   "execution_count": null,
   "metadata": {},
   "outputs": [],
   "source": [
    "imputer = KNNImputer(n_neighbors=3)\n",
    "df = imputer.fit_transform(df)"
   ]
  },
  {
   "cell_type": "code",
   "execution_count": null,
   "metadata": {},
   "outputs": [],
   "source": [
    "# Calculate the frequency of each value in the \"pedestrian_location\" column\n",
    "value_counts(df, 'pedestrian_location')"
   ]
  },
  {
   "cell_type": "code",
   "execution_count": null,
   "metadata": {},
   "outputs": [],
   "source": [
    "# Calculate the frequency of each value in the \"pedestrian_movement\" column\n",
    "value_counts(df, 'pedestrian_movement')"
   ]
  },
  {
   "cell_type": "code",
   "execution_count": null,
   "metadata": {},
   "outputs": [],
   "source": [
    "# Calculate the frequency of each value in the \"car_passenger\" column\n",
    "value_counts(df, 'car_passenger')"
   ]
  },
  {
   "cell_type": "code",
   "execution_count": null,
   "metadata": {},
   "outputs": [],
   "source": [
    "# Calculate the frequency of each value in the \"bus_or_coach_passenger\" column\n",
    "value_counts(df, 'bus_or_coach_passenger')"
   ]
  },
  {
   "cell_type": "code",
   "execution_count": null,
   "metadata": {},
   "outputs": [],
   "source": [
    "# Calculate the frequency of each value in the \"pedestrian_road_maintenance_worker\" column\n",
    "value_counts(df, 'pedestrian_road_maintenance_worker')"
   ]
  },
  {
   "cell_type": "code",
   "execution_count": null,
   "metadata": {},
   "outputs": [],
   "source": [
    "# Calculate the frequency of each value in the \"casualty_type\" column\n",
    "value_counts(df, 'casualty_type')"
   ]
  },
  {
   "cell_type": "code",
   "execution_count": 18,
   "metadata": {},
   "outputs": [
    {
     "name": "stdout",
     "output_type": "stream",
     "text": [
      "Frequency of each value for DataFrame['casualty_home_area_type']: \n",
      "casualty_home_area_type\n",
      " 1    45274\n",
      " 3     6001\n",
      "-1     5498\n",
      " 2     4579\n",
      "Name: count, dtype: int64\n"
     ]
    }
   ],
   "source": [
    "# Calculate the frequency of each value in the \"casualty_home_area_type\" column\n",
    "value_counts(df, 'casualty_home_area_type')"
   ]
  },
  {
   "cell_type": "code",
   "execution_count": null,
   "metadata": {},
   "outputs": [],
   "source": [
    "# Calculate the frequency of each value in the \"casualty_imd_decile\" column\n",
    "value_counts(df, 'casualty_imd_decile')"
   ]
  },
  {
   "cell_type": "code",
   "execution_count": 20,
   "metadata": {
    "scrolled": true
   },
   "outputs": [
    {
     "name": "stdout",
     "output_type": "stream",
     "text": [
      "Frequency of each value for DataFrame['lsoa_of_casualty']: \n",
      "lsoa_of_casualty\n",
      "-1           8027\n",
      "E01019456      22\n",
      "E01004242      17\n",
      "E01033583      15\n",
      "E01005108      15\n",
      "             ... \n",
      "E01025316       1\n",
      "E01008671       1\n",
      "E01025007       1\n",
      "E01027489       1\n",
      "E01029925       1\n",
      "Name: count, Length: 23841, dtype: int64\n"
     ]
    }
   ],
   "source": [
    "# Calculate the frequency of each value in the \"lsoa_of_casualty\" column\n",
    "value_counts(df, 'lsoa_of_casualty')"
   ]
  },
  {
   "cell_type": "code",
   "execution_count": 49,
   "metadata": {},
   "outputs": [
    {
     "data": {
      "text/plain": [
       "31"
      ]
     },
     "execution_count": 49,
     "metadata": {},
     "output_type": "execute_result"
    }
   ],
   "source": [
    "(df['lsoa_of_casualty'].value_counts()>10).sum()"
   ]
  },
  {
   "cell_type": "code",
   "execution_count": null,
   "metadata": {},
   "outputs": [],
   "source": [
    "# count_plot_df(df, 'lsoa_of_casualty')"
   ]
  },
  {
   "cell_type": "code",
   "execution_count": null,
   "metadata": {},
   "outputs": [],
   "source": []
  },
  {
   "cell_type": "code",
   "execution_count": null,
   "metadata": {},
   "outputs": [],
   "source": [
    "df.head(10)"
   ]
  },
  {
   "cell_type": "code",
   "execution_count": null,
   "metadata": {},
   "outputs": [],
   "source": [
    "shape = df.shape\n",
    "print(f'Dataset has {shape[0]} rows and {shape[1]} columns.')"
   ]
  },
  {
   "attachments": {},
   "cell_type": "markdown",
   "metadata": {},
   "source": [
    "## 3. Exploratory Data Analysis (EDA)"
   ]
  },
  {
   "attachments": {},
   "cell_type": "markdown",
   "metadata": {},
   "source": [
    "## 4. Feature Engineering"
   ]
  },
  {
   "attachments": {},
   "cell_type": "markdown",
   "metadata": {},
   "source": [
    "## 5. Data Visualization"
   ]
  },
  {
   "attachments": {},
   "cell_type": "markdown",
   "metadata": {},
   "source": [
    "## 6. Model Building"
   ]
  },
  {
   "attachments": {},
   "cell_type": "markdown",
   "metadata": {},
   "source": [
    "## 7. Interpretation and Insights"
   ]
  }
 ],
 "metadata": {
  "kernelspec": {
   "display_name": "Python 3 (ipykernel)",
   "language": "python",
   "name": "python3"
  },
  "language_info": {
   "codemirror_mode": {
    "name": "ipython",
    "version": 3
   },
   "file_extension": ".py",
   "mimetype": "text/x-python",
   "name": "python",
   "nbconvert_exporter": "python",
   "pygments_lexer": "ipython3",
   "version": "3.11.5"
  }
 },
 "nbformat": 4,
 "nbformat_minor": 4
}
