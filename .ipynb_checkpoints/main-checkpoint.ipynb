{
 "cells": [
  {
   "cell_type": "markdown",
   "metadata": {},
   "source": [
    "# $\\color{red}{\\text{Project 1: Road Accidents Analysis}}$"
   ]
  },
  {
   "attachments": {},
   "cell_type": "markdown",
   "metadata": {},
   "source": [
    "<h2 style=\"background-color:DodgerBlue;\">\n",
    "Dataset Descriptions and Data Understanding:\n",
    "</h2>\n",
    "\n",
    "<!-- <h3>\n",
    "    Columns descriptions:\n",
    "</h3> -->\n",
    "    \n",
    "1. Status: The status of the accident (e.g., reported, under investigation).\n",
    "\n",
    "2. Accident_Index: A unique identifier for each reported accident.\n",
    "Unique value for each accident. The accident_index combines the accident_year and accident_ref_no to form a unique ID. It can be used to join to Vehicle and Casualty\n",
    "\n",
    "3. Accident_Year: The year in which the accident occurred.\n",
    "\n",
    "4. Accident_Reference: A reference number associated with the accident.\n",
    "\n",
    "5. Vehicle_Reference: A reference number for the involved vehicle in the accident.\n",
    "\n",
    "6. Casualty_Reference: A reference number for the casualty involved in the accident.\n",
    "\n",
    "7. Casualty_Class: Indicates the class of the casualty:<pre>\n",
    "1\tDriver or rider\n",
    "2\tPassenger\n",
    "3\tPedestrian\n",
    "\n",
    "8. Sex_of_Casualty: The gender of the casualty (male or female).<pre>\n",
    "    1\tMale, 2\tFemale\n",
    "    9\tunknown (self reported)\n",
    "    -1\tData missing or out of range\n",
    "    \n",
    "9. Age_of_Casualty: The age of the casualty. (-1\tData missing or out of range)\n",
    "\n",
    "10. Age_Band_of_Casualty: Age group to which the casualty belongs (e.g., 0-5, 6-10, 11-15).<pre>\n",
    "1\t0 - 5\n",
    "2\t6 - 10\n",
    "3\t11 - 15\n",
    "4\t16 - 20\n",
    "5\t21 - 25\n",
    "6\t26 - 35\n",
    "7\t36 - 45\n",
    "8\t46 - 55\n",
    "9\t56 - 65\n",
    "10\t66 - 75\n",
    "11\tOver 75\n",
    "-1\tData missing or out of range\n",
    "\n",
    "11. Casualty_Severity: The severity of the casualty's injuries:<pre>\n",
    "1\tFatal\n",
    "2\tSerious\n",
    "3\tSlight\n",
    "\n",
    "12. Pedestrian_Location: The location of the pedestrian at the time of the accident.<pre>\n",
    "0\tNot a Pedestrian\n",
    "1\tCrossing on pedestrian crossing facility\n",
    "2\tCrossing in zig-zag approach lines\n",
    "3\tCrossing in zig-zag exit lines\n",
    "4\tCrossing elsewhere within 50m. of pedestrian crossing\n",
    "5\tIn carriageway, crossing elsewhere\n",
    "6\tOn footway or verge\n",
    "7\tOn refuge, central island or central reservation\n",
    "8\tIn centre of carriageway - not on refuge, island or central reservation\n",
    "9\tIn carriageway, not crossing\n",
    "10\tUnknown or other\n",
    "-1\tData missing or out of range\n",
    "\n",
    "13. Pedestrian_Movement: The movement of the pedestrian during the accident.<pre>\n",
    "0\tNot a Pedestrian\n",
    "1\tCrossing from driver's nearside\n",
    "2\tCrossing from nearside - masked by parked or stationary vehicle\n",
    "3\tCrossing from driver's offside\n",
    "4\tCrossing from offside - masked by  parked or stationary vehicle\n",
    "5\tIn carriageway, stationary - not crossing  (standing or playing)\n",
    "6\tIn carriageway, stationary - not crossing  (standing or playing) - masked by parked or stationary vehicle\n",
    "7\tWalking along in carriageway, facing traffic\n",
    "8\tWalking along in carriageway, back to traffic\n",
    "9\tUnknown or other\n",
    "-1\tData missing or out of range\n",
    "\n",
    "14. Car_Passenger: Indicates whether the casualty was a car passenger at the time of the accident (yes or no).<pre>\n",
    "0\tNot car passenger\n",
    "1\tFront seat passenger\n",
    "2\tRear seat passenger\n",
    "9\tunknown (self reported)\n",
    "-1\tData missing or out of range\n",
    "\n",
    "15. Bus_or_Coach_Passenger: Indicates whether the casualty was a bus or coach passenger (yes or no).<pre>\n",
    "0\tNot a bus or coach passenger\n",
    "1\tBoarding\n",
    "2\tAlighting\n",
    "3\tStanding passenger\n",
    "4\tSeated passenger\n",
    "9\tunknown (self reported)\n",
    "-1\tData missing or out of range\n",
    "\n",
    "16. Pedestrian_Road_Maintenance_Worker: Indicates whether the casualty was a road maintenance worker (yes or no).<pre>\n",
    "0\tNo / Not applicable\n",
    "1\tYes\n",
    "2\tNot Known\n",
    "3\tProbable\n",
    "-1\tData missing or out of range\n",
    "\n",
    "17. Casualty_Type: The type of casualty (e.g., driver/rider, passenger, pedestrian).<pre>\n",
    "0\tPedestrian\n",
    "1\tCyclist\n",
    "2\tMotorcycle 50cc and under rider or passenger\n",
    "3\tMotorcycle 125cc and under rider or passenger\n",
    "4\tMotorcycle over 125cc and up to 500cc rider or  passenger\n",
    "5\tMotorcycle over 500cc rider or passenger\n",
    "8\tTaxi/Private hire car occupant\n",
    "9\tCar occupant\n",
    "10\tMinibus (8 - 16 passenger seats) occupant\n",
    "11\tBus or coach occupant (17 or more pass seats)\n",
    "16\tHorse rider\n",
    "17\tAgricultural vehicle occupant\n",
    "18\tTram occupant\n",
    "19\tVan / Goods vehicle (3.5 tonnes mgw or under) occupant\n",
    "20\tGoods vehicle (over 3.5t. and under 7.5t.) occupant\n",
    "21\tGoods vehicle (7.5 tonnes mgw and over) occupant\n",
    "22\tMobility scooter rider\n",
    "23\tElectric motorcycle rider or passenger\n",
    "90\tOther vehicle occupant\n",
    "97\tMotorcycle - unknown cc rider or passenger\n",
    "98\tGoods vehicle (unknown weight) occupant\n",
    "99\tUnknown vehicle type (self rep only)\n",
    "-1\tData missing or out of range\n",
    "\n",
    "18. Casualty_Home_Area_Type: The type of area in which the casualty resides (e.g., urban, rural).<pre>\n",
    "1\tUrban area\n",
    "2\tSmall town\n",
    "3\tRural\n",
    "-1\tData missing or out of range\n",
    "\n",
    "19. Casualty_IMD_Decile: The IMD decile of the area where the casualty resides (a measure of deprivation).<pre>\n",
    "1\tMost deprived 10%\n",
    "2\tMore deprived 10-20%\n",
    "3\tMore deprived 20-30%\n",
    "4\tMore deprived 30-40%\n",
    "5\tMore deprived 40-50%\n",
    "6\tLess deprived 40-50%\n",
    "7\tLess deprived 30-40%\n",
    "8\tLess deprived 20-30%\n",
    "9\tLess deprived 10-20%\n",
    "10\tLeast deprived 10%\n",
    "-1\tData missing or out of range\n",
    "\n",
    "20. LSOA_of_Casualty: The Lower Layer Super Output Area (LSOA) associated with the casualty's location."
   ]
  },
  {
   "cell_type": "markdown",
   "metadata": {},
   "source": [
    "<a id=\"contents_tabel\"></a>    \n",
    "<div style=\"border-radius: 10px; padding: 15px; background-color: #ffffff; font-size: 115%; text-align: left;\">\n",
    "\n",
    "<h3 align=\"left\" style=\"color: #990033;\">Table of Contents:</h3>\n",
    "    \n",
    "* [Step 1 | Import Libraries](#import)\n",
    "* [Step 2 | Read Dataset](#read)\n",
    "* [Step 3 | Dataset Overview](#overview)\n",
    "    - [Step 3.1 | Dataset Basic Information](#basic)\n",
    "    - [Step 3.2 | Summary Statistics for Numerical Variables](#num_statistics)\n",
    "    - [Step 3.3 | Summary Statistics for Categorical Variables](#cat_statistics)\n",
    "* [Step 4 | EDA](#eda)\n",
    "    - [Step 4.1 | Numerical Features vs Target](#num_target)\n",
    "    - [Step 4.2 | Categorical Features vs Target](#cat_target)\n",
    "* [Step 5 | Data Preprocessing](#preprocessing)\n",
    "    - [Step 5.1 | Check Missing Values](#missing)\n",
    "    - [Step 5.2 | Encode Categorical Features](#encode)\n",
    "    - [Step 5.3 | Split the Dataset](#split)\n",
    "* [Step 6 | Build XGBoost Regressor](#xgb)\n",
    "    - [Step 6.1 | XGBoost Base Model Definition](#xgb_base)\n",
    "    - [Step 6.2 | XGBoost Hyperparameter Tuning](#xgb_hp)\n",
    "    - [Step 6.3 | XGBoost Regressor Evaluation](#xgb_eval)\n",
    "* [Step 7 | Build CatBoost Regressor](#ctb)\n",
    "    - [Step 7.1 | CatBoost Base Model Definition](#ctb_base)\n",
    "    - [Step 7.2 | CatBoost Hyperparameter Tuning](#ctb_hp)\n",
    "    - [Step 7.3 | CatBoost Regressor Evaluation](#ctb_eval)\n",
    "* [Step 8 | Conclusion](#conclusion)\n"
   ]
  },
  {
   "cell_type": "markdown",
   "metadata": {},
   "source": [
    "<h2 style=\"background-color:DodgerBlue;\">\n",
    "Necessary imports\n",
    "</h2>"
   ]
  },
  {
   "cell_type": "code",
   "execution_count": 1,
   "metadata": {
    "is_executing": true
   },
   "outputs": [],
   "source": [
    "import pandas as pd\n",
    "import numpy as np\n",
    "import seaborn as sns\n",
    "import matplotlib.pyplot as plt\n",
    "from sklearn.impute import KNNImputer"
   ]
  },
  {
   "cell_type": "code",
   "execution_count": 2,
   "metadata": {},
   "outputs": [],
   "source": [
    "import warnings\n",
    "warnings.filterwarnings(\"ignore\", \"is_categorical_dtype\")\n",
    "warnings.filterwarnings(\"ignore\", \"use_inf_as_na\")"
   ]
  },
  {
   "cell_type": "markdown",
   "metadata": {},
   "source": [
    "## 1. Data Loading and Initial Inspection"
   ]
  },
  {
   "cell_type": "code",
   "execution_count": 3,
   "metadata": {},
   "outputs": [
    {
     "name": "stdout",
     "output_type": "stream",
     "text": [
      "(61352, 20)\n"
     ]
    },
    {
     "data": {
      "text/html": [
       "<div>\n",
       "<style scoped>\n",
       "    .dataframe tbody tr th:only-of-type {\n",
       "        vertical-align: middle;\n",
       "    }\n",
       "\n",
       "    .dataframe tbody tr th {\n",
       "        vertical-align: top;\n",
       "    }\n",
       "\n",
       "    .dataframe thead th {\n",
       "        text-align: right;\n",
       "    }\n",
       "</style>\n",
       "<table border=\"1\" class=\"dataframe\">\n",
       "  <thead>\n",
       "    <tr style=\"text-align: right;\">\n",
       "      <th></th>\n",
       "      <th>status</th>\n",
       "      <th>accident_index</th>\n",
       "      <th>accident_year</th>\n",
       "      <th>accident_reference</th>\n",
       "      <th>vehicle_reference</th>\n",
       "      <th>casualty_reference</th>\n",
       "      <th>casualty_class</th>\n",
       "      <th>sex_of_casualty</th>\n",
       "      <th>age_of_casualty</th>\n",
       "      <th>age_band_of_casualty</th>\n",
       "      <th>casualty_severity</th>\n",
       "      <th>pedestrian_location</th>\n",
       "      <th>pedestrian_movement</th>\n",
       "      <th>car_passenger</th>\n",
       "      <th>bus_or_coach_passenger</th>\n",
       "      <th>pedestrian_road_maintenance_worker</th>\n",
       "      <th>casualty_type</th>\n",
       "      <th>casualty_home_area_type</th>\n",
       "      <th>casualty_imd_decile</th>\n",
       "      <th>lsoa_of_casualty</th>\n",
       "    </tr>\n",
       "  </thead>\n",
       "  <tbody>\n",
       "    <tr>\n",
       "      <th>39071</th>\n",
       "      <td>Unvalidated</td>\n",
       "      <td>2022170L20312</td>\n",
       "      <td>2022</td>\n",
       "      <td>170L20312</td>\n",
       "      <td>1</td>\n",
       "      <td>1</td>\n",
       "      <td>1</td>\n",
       "      <td>1</td>\n",
       "      <td>55</td>\n",
       "      <td>8</td>\n",
       "      <td>3</td>\n",
       "      <td>0</td>\n",
       "      <td>0</td>\n",
       "      <td>0</td>\n",
       "      <td>0</td>\n",
       "      <td>0</td>\n",
       "      <td>9</td>\n",
       "      <td>1</td>\n",
       "      <td>4</td>\n",
       "      <td>E01012167</td>\n",
       "    </tr>\n",
       "    <tr>\n",
       "      <th>3228</th>\n",
       "      <td>Unvalidated</td>\n",
       "      <td>202260B071845</td>\n",
       "      <td>2022</td>\n",
       "      <td>60B071845</td>\n",
       "      <td>1</td>\n",
       "      <td>2</td>\n",
       "      <td>1</td>\n",
       "      <td>1</td>\n",
       "      <td>68</td>\n",
       "      <td>10</td>\n",
       "      <td>2</td>\n",
       "      <td>0</td>\n",
       "      <td>0</td>\n",
       "      <td>0</td>\n",
       "      <td>0</td>\n",
       "      <td>0</td>\n",
       "      <td>9</td>\n",
       "      <td>-1</td>\n",
       "      <td>-1</td>\n",
       "      <td>-1</td>\n",
       "    </tr>\n",
       "    <tr>\n",
       "      <th>46404</th>\n",
       "      <td>Unvalidated</td>\n",
       "      <td>2022320080609</td>\n",
       "      <td>2022</td>\n",
       "      <td>320080609</td>\n",
       "      <td>2</td>\n",
       "      <td>1</td>\n",
       "      <td>1</td>\n",
       "      <td>1</td>\n",
       "      <td>53</td>\n",
       "      <td>8</td>\n",
       "      <td>3</td>\n",
       "      <td>0</td>\n",
       "      <td>0</td>\n",
       "      <td>0</td>\n",
       "      <td>0</td>\n",
       "      <td>0</td>\n",
       "      <td>1</td>\n",
       "      <td>3</td>\n",
       "      <td>8</td>\n",
       "      <td>E01026193</td>\n",
       "    </tr>\n",
       "    <tr>\n",
       "      <th>22869</th>\n",
       "      <td>Unvalidated</td>\n",
       "      <td>2022131165699</td>\n",
       "      <td>2022</td>\n",
       "      <td>131165699</td>\n",
       "      <td>2</td>\n",
       "      <td>1</td>\n",
       "      <td>3</td>\n",
       "      <td>1</td>\n",
       "      <td>39</td>\n",
       "      <td>7</td>\n",
       "      <td>3</td>\n",
       "      <td>10</td>\n",
       "      <td>9</td>\n",
       "      <td>0</td>\n",
       "      <td>0</td>\n",
       "      <td>2</td>\n",
       "      <td>0</td>\n",
       "      <td>1</td>\n",
       "      <td>2</td>\n",
       "      <td>E01010621</td>\n",
       "    </tr>\n",
       "    <tr>\n",
       "      <th>50153</th>\n",
       "      <td>Unvalidated</td>\n",
       "      <td>2022010353609</td>\n",
       "      <td>2022</td>\n",
       "      <td>010353609</td>\n",
       "      <td>2</td>\n",
       "      <td>1</td>\n",
       "      <td>1</td>\n",
       "      <td>2</td>\n",
       "      <td>33</td>\n",
       "      <td>6</td>\n",
       "      <td>3</td>\n",
       "      <td>0</td>\n",
       "      <td>0</td>\n",
       "      <td>0</td>\n",
       "      <td>0</td>\n",
       "      <td>0</td>\n",
       "      <td>9</td>\n",
       "      <td>1</td>\n",
       "      <td>2</td>\n",
       "      <td>E01003499</td>\n",
       "    </tr>\n",
       "  </tbody>\n",
       "</table>\n",
       "</div>"
      ],
      "text/plain": [
       "            status accident_index  accident_year accident_reference  \\\n",
       "39071  Unvalidated  2022170L20312           2022          170L20312   \n",
       "3228   Unvalidated  202260B071845           2022          60B071845   \n",
       "46404  Unvalidated  2022320080609           2022          320080609   \n",
       "22869  Unvalidated  2022131165699           2022          131165699   \n",
       "50153  Unvalidated  2022010353609           2022          010353609   \n",
       "\n",
       "       vehicle_reference  casualty_reference  casualty_class  sex_of_casualty  \\\n",
       "39071                  1                   1               1                1   \n",
       "3228                   1                   2               1                1   \n",
       "46404                  2                   1               1                1   \n",
       "22869                  2                   1               3                1   \n",
       "50153                  2                   1               1                2   \n",
       "\n",
       "       age_of_casualty  age_band_of_casualty  casualty_severity  \\\n",
       "39071               55                     8                  3   \n",
       "3228                68                    10                  2   \n",
       "46404               53                     8                  3   \n",
       "22869               39                     7                  3   \n",
       "50153               33                     6                  3   \n",
       "\n",
       "       pedestrian_location  pedestrian_movement  car_passenger  \\\n",
       "39071                    0                    0              0   \n",
       "3228                     0                    0              0   \n",
       "46404                    0                    0              0   \n",
       "22869                   10                    9              0   \n",
       "50153                    0                    0              0   \n",
       "\n",
       "       bus_or_coach_passenger  pedestrian_road_maintenance_worker  \\\n",
       "39071                       0                                   0   \n",
       "3228                        0                                   0   \n",
       "46404                       0                                   0   \n",
       "22869                       0                                   2   \n",
       "50153                       0                                   0   \n",
       "\n",
       "       casualty_type  casualty_home_area_type  casualty_imd_decile  \\\n",
       "39071              9                        1                    4   \n",
       "3228               9                       -1                   -1   \n",
       "46404              1                        3                    8   \n",
       "22869              0                        1                    2   \n",
       "50153              9                        1                    2   \n",
       "\n",
       "      lsoa_of_casualty  \n",
       "39071        E01012167  \n",
       "3228                -1  \n",
       "46404        E01026193  \n",
       "22869        E01010621  \n",
       "50153        E01003499  "
      ]
     },
     "execution_count": 3,
     "metadata": {},
     "output_type": "execute_result"
    }
   ],
   "source": [
    "df = pd.read_csv('dft-road-casualty-statistics-casualty-provisional-mid-year-unvalidated-2022.csv').drop_duplicates()\n",
    "\n",
    "print(df.shape)\n",
    "df.sample(5)"
   ]
  },
  {
   "cell_type": "code",
   "execution_count": 4,
   "metadata": {},
   "outputs": [
    {
     "name": "stdout",
     "output_type": "stream",
     "text": [
      "Dataset has 61352 rows and 20 columns.\n"
     ]
    }
   ],
   "source": [
    "shape = df.shape\n",
    "print(f'Dataset has {shape[0]} rows and {shape[1]} columns.')"
   ]
  },
  {
   "cell_type": "code",
   "execution_count": 5,
   "metadata": {},
   "outputs": [
    {
     "name": "stdout",
     "output_type": "stream",
     "text": [
      "<class 'pandas.core.frame.DataFrame'>\n",
      "RangeIndex: 61352 entries, 0 to 61351\n",
      "Data columns (total 20 columns):\n",
      " #   Column                              Non-Null Count  Dtype \n",
      "---  ------                              --------------  ----- \n",
      " 0   status                              61352 non-null  object\n",
      " 1   accident_index                      61352 non-null  object\n",
      " 2   accident_year                       61352 non-null  int64 \n",
      " 3   accident_reference                  61352 non-null  object\n",
      " 4   vehicle_reference                   61352 non-null  int64 \n",
      " 5   casualty_reference                  61352 non-null  int64 \n",
      " 6   casualty_class                      61352 non-null  int64 \n",
      " 7   sex_of_casualty                     61352 non-null  int64 \n",
      " 8   age_of_casualty                     61352 non-null  int64 \n",
      " 9   age_band_of_casualty                61352 non-null  int64 \n",
      " 10  casualty_severity                   61352 non-null  int64 \n",
      " 11  pedestrian_location                 61352 non-null  int64 \n",
      " 12  pedestrian_movement                 61352 non-null  int64 \n",
      " 13  car_passenger                       61352 non-null  int64 \n",
      " 14  bus_or_coach_passenger              61352 non-null  int64 \n",
      " 15  pedestrian_road_maintenance_worker  61352 non-null  int64 \n",
      " 16  casualty_type                       61352 non-null  int64 \n",
      " 17  casualty_home_area_type             61352 non-null  int64 \n",
      " 18  casualty_imd_decile                 61352 non-null  int64 \n",
      " 19  lsoa_of_casualty                    61352 non-null  object\n",
      "dtypes: int64(16), object(4)\n",
      "memory usage: 9.4+ MB\n"
     ]
    }
   ],
   "source": [
    "df.info()"
   ]
  },
  {
   "cell_type": "code",
   "execution_count": 6,
   "metadata": {
    "scrolled": true
   },
   "outputs": [
    {
     "data": {
      "text/html": [
       "<div>\n",
       "<style scoped>\n",
       "    .dataframe tbody tr th:only-of-type {\n",
       "        vertical-align: middle;\n",
       "    }\n",
       "\n",
       "    .dataframe tbody tr th {\n",
       "        vertical-align: top;\n",
       "    }\n",
       "\n",
       "    .dataframe thead th {\n",
       "        text-align: right;\n",
       "    }\n",
       "</style>\n",
       "<table border=\"1\" class=\"dataframe\">\n",
       "  <thead>\n",
       "    <tr style=\"text-align: right;\">\n",
       "      <th></th>\n",
       "      <th>count</th>\n",
       "      <th>mean</th>\n",
       "      <th>std</th>\n",
       "      <th>min</th>\n",
       "      <th>25%</th>\n",
       "      <th>50%</th>\n",
       "      <th>75%</th>\n",
       "      <th>max</th>\n",
       "    </tr>\n",
       "  </thead>\n",
       "  <tbody>\n",
       "    <tr>\n",
       "      <th>accident_year</th>\n",
       "      <td>61352.0</td>\n",
       "      <td>2022.000000</td>\n",
       "      <td>0.000000</td>\n",
       "      <td>2022.0</td>\n",
       "      <td>2022.0</td>\n",
       "      <td>2022.0</td>\n",
       "      <td>2022.0</td>\n",
       "      <td>2022.0</td>\n",
       "    </tr>\n",
       "    <tr>\n",
       "      <th>vehicle_reference</th>\n",
       "      <td>61352.0</td>\n",
       "      <td>1.450368</td>\n",
       "      <td>1.109855</td>\n",
       "      <td>1.0</td>\n",
       "      <td>1.0</td>\n",
       "      <td>1.0</td>\n",
       "      <td>2.0</td>\n",
       "      <td>227.0</td>\n",
       "    </tr>\n",
       "    <tr>\n",
       "      <th>casualty_reference</th>\n",
       "      <td>61352.0</td>\n",
       "      <td>1.333779</td>\n",
       "      <td>0.981507</td>\n",
       "      <td>1.0</td>\n",
       "      <td>1.0</td>\n",
       "      <td>1.0</td>\n",
       "      <td>1.0</td>\n",
       "      <td>148.0</td>\n",
       "    </tr>\n",
       "    <tr>\n",
       "      <th>casualty_class</th>\n",
       "      <td>61352.0</td>\n",
       "      <td>1.482299</td>\n",
       "      <td>0.735614</td>\n",
       "      <td>1.0</td>\n",
       "      <td>1.0</td>\n",
       "      <td>1.0</td>\n",
       "      <td>2.0</td>\n",
       "      <td>3.0</td>\n",
       "    </tr>\n",
       "    <tr>\n",
       "      <th>sex_of_casualty</th>\n",
       "      <td>61352.0</td>\n",
       "      <td>1.368790</td>\n",
       "      <td>0.534536</td>\n",
       "      <td>-1.0</td>\n",
       "      <td>1.0</td>\n",
       "      <td>1.0</td>\n",
       "      <td>2.0</td>\n",
       "      <td>9.0</td>\n",
       "    </tr>\n",
       "    <tr>\n",
       "      <th>age_of_casualty</th>\n",
       "      <td>61352.0</td>\n",
       "      <td>36.670312</td>\n",
       "      <td>19.574357</td>\n",
       "      <td>-1.0</td>\n",
       "      <td>22.0</td>\n",
       "      <td>34.0</td>\n",
       "      <td>50.0</td>\n",
       "      <td>101.0</td>\n",
       "    </tr>\n",
       "    <tr>\n",
       "      <th>age_band_of_casualty</th>\n",
       "      <td>61352.0</td>\n",
       "      <td>6.288157</td>\n",
       "      <td>2.463082</td>\n",
       "      <td>-1.0</td>\n",
       "      <td>5.0</td>\n",
       "      <td>6.0</td>\n",
       "      <td>8.0</td>\n",
       "      <td>11.0</td>\n",
       "    </tr>\n",
       "    <tr>\n",
       "      <th>casualty_severity</th>\n",
       "      <td>61352.0</td>\n",
       "      <td>2.783039</td>\n",
       "      <td>0.442318</td>\n",
       "      <td>1.0</td>\n",
       "      <td>3.0</td>\n",
       "      <td>3.0</td>\n",
       "      <td>3.0</td>\n",
       "      <td>3.0</td>\n",
       "    </tr>\n",
       "    <tr>\n",
       "      <th>pedestrian_location</th>\n",
       "      <td>61352.0</td>\n",
       "      <td>0.800316</td>\n",
       "      <td>2.197167</td>\n",
       "      <td>0.0</td>\n",
       "      <td>0.0</td>\n",
       "      <td>0.0</td>\n",
       "      <td>0.0</td>\n",
       "      <td>10.0</td>\n",
       "    </tr>\n",
       "    <tr>\n",
       "      <th>pedestrian_movement</th>\n",
       "      <td>61352.0</td>\n",
       "      <td>0.645325</td>\n",
       "      <td>2.009611</td>\n",
       "      <td>0.0</td>\n",
       "      <td>0.0</td>\n",
       "      <td>0.0</td>\n",
       "      <td>0.0</td>\n",
       "      <td>9.0</td>\n",
       "    </tr>\n",
       "    <tr>\n",
       "      <th>car_passenger</th>\n",
       "      <td>61352.0</td>\n",
       "      <td>0.222047</td>\n",
       "      <td>0.615127</td>\n",
       "      <td>-1.0</td>\n",
       "      <td>0.0</td>\n",
       "      <td>0.0</td>\n",
       "      <td>0.0</td>\n",
       "      <td>9.0</td>\n",
       "    </tr>\n",
       "    <tr>\n",
       "      <th>bus_or_coach_passenger</th>\n",
       "      <td>61352.0</td>\n",
       "      <td>0.048507</td>\n",
       "      <td>0.426419</td>\n",
       "      <td>-1.0</td>\n",
       "      <td>0.0</td>\n",
       "      <td>0.0</td>\n",
       "      <td>0.0</td>\n",
       "      <td>9.0</td>\n",
       "    </tr>\n",
       "    <tr>\n",
       "      <th>pedestrian_road_maintenance_worker</th>\n",
       "      <td>61352.0</td>\n",
       "      <td>0.032860</td>\n",
       "      <td>0.261327</td>\n",
       "      <td>-1.0</td>\n",
       "      <td>0.0</td>\n",
       "      <td>0.0</td>\n",
       "      <td>0.0</td>\n",
       "      <td>2.0</td>\n",
       "    </tr>\n",
       "    <tr>\n",
       "      <th>casualty_type</th>\n",
       "      <td>61352.0</td>\n",
       "      <td>9.475160</td>\n",
       "      <td>16.662727</td>\n",
       "      <td>-1.0</td>\n",
       "      <td>1.0</td>\n",
       "      <td>9.0</td>\n",
       "      <td>9.0</td>\n",
       "      <td>98.0</td>\n",
       "    </tr>\n",
       "    <tr>\n",
       "      <th>casualty_home_area_type</th>\n",
       "      <td>61352.0</td>\n",
       "      <td>1.091032</td>\n",
       "      <td>0.903365</td>\n",
       "      <td>-1.0</td>\n",
       "      <td>1.0</td>\n",
       "      <td>1.0</td>\n",
       "      <td>1.0</td>\n",
       "      <td>3.0</td>\n",
       "    </tr>\n",
       "    <tr>\n",
       "      <th>casualty_imd_decile</th>\n",
       "      <td>61352.0</td>\n",
       "      <td>4.337674</td>\n",
       "      <td>3.158496</td>\n",
       "      <td>-1.0</td>\n",
       "      <td>2.0</td>\n",
       "      <td>4.0</td>\n",
       "      <td>7.0</td>\n",
       "      <td>10.0</td>\n",
       "    </tr>\n",
       "  </tbody>\n",
       "</table>\n",
       "</div>"
      ],
      "text/plain": [
       "                                      count         mean        std     min  \\\n",
       "accident_year                       61352.0  2022.000000   0.000000  2022.0   \n",
       "vehicle_reference                   61352.0     1.450368   1.109855     1.0   \n",
       "casualty_reference                  61352.0     1.333779   0.981507     1.0   \n",
       "casualty_class                      61352.0     1.482299   0.735614     1.0   \n",
       "sex_of_casualty                     61352.0     1.368790   0.534536    -1.0   \n",
       "age_of_casualty                     61352.0    36.670312  19.574357    -1.0   \n",
       "age_band_of_casualty                61352.0     6.288157   2.463082    -1.0   \n",
       "casualty_severity                   61352.0     2.783039   0.442318     1.0   \n",
       "pedestrian_location                 61352.0     0.800316   2.197167     0.0   \n",
       "pedestrian_movement                 61352.0     0.645325   2.009611     0.0   \n",
       "car_passenger                       61352.0     0.222047   0.615127    -1.0   \n",
       "bus_or_coach_passenger              61352.0     0.048507   0.426419    -1.0   \n",
       "pedestrian_road_maintenance_worker  61352.0     0.032860   0.261327    -1.0   \n",
       "casualty_type                       61352.0     9.475160  16.662727    -1.0   \n",
       "casualty_home_area_type             61352.0     1.091032   0.903365    -1.0   \n",
       "casualty_imd_decile                 61352.0     4.337674   3.158496    -1.0   \n",
       "\n",
       "                                       25%     50%     75%     max  \n",
       "accident_year                       2022.0  2022.0  2022.0  2022.0  \n",
       "vehicle_reference                      1.0     1.0     2.0   227.0  \n",
       "casualty_reference                     1.0     1.0     1.0   148.0  \n",
       "casualty_class                         1.0     1.0     2.0     3.0  \n",
       "sex_of_casualty                        1.0     1.0     2.0     9.0  \n",
       "age_of_casualty                       22.0    34.0    50.0   101.0  \n",
       "age_band_of_casualty                   5.0     6.0     8.0    11.0  \n",
       "casualty_severity                      3.0     3.0     3.0     3.0  \n",
       "pedestrian_location                    0.0     0.0     0.0    10.0  \n",
       "pedestrian_movement                    0.0     0.0     0.0     9.0  \n",
       "car_passenger                          0.0     0.0     0.0     9.0  \n",
       "bus_or_coach_passenger                 0.0     0.0     0.0     9.0  \n",
       "pedestrian_road_maintenance_worker     0.0     0.0     0.0     2.0  \n",
       "casualty_type                          1.0     9.0     9.0    98.0  \n",
       "casualty_home_area_type                1.0     1.0     1.0     3.0  \n",
       "casualty_imd_decile                    2.0     4.0     7.0    10.0  "
      ]
     },
     "execution_count": 6,
     "metadata": {},
     "output_type": "execute_result"
    }
   ],
   "source": [
    "df.describe().T"
   ]
  },
  {
   "cell_type": "code",
   "execution_count": 7,
   "metadata": {},
   "outputs": [],
   "source": [
    "# Replace all occurrences of -1 with NaN\n",
    "# df.replace(-1, np.NaN, inplace=True)"
   ]
  },
  {
   "cell_type": "code",
   "execution_count": 66,
   "metadata": {},
   "outputs": [
    {
     "ename": "NameError",
     "evalue": "name 'continuous_features' is not defined",
     "output_type": "error",
     "traceback": [
      "\u001b[0;31m---------------------------------------------------------------------------\u001b[0m",
      "\u001b[0;31mNameError\u001b[0m                                 Traceback (most recent call last)",
      "Cell \u001b[0;32mIn[66], line 4\u001b[0m\n\u001b[1;32m      1\u001b[0m \u001b[38;5;66;03m# Create subplots for kde plots\u001b[39;00m\n\u001b[1;32m      2\u001b[0m fig, axes \u001b[38;5;241m=\u001b[39m plt\u001b[38;5;241m.\u001b[39msubplots(\u001b[38;5;241m3\u001b[39m, \u001b[38;5;241m2\u001b[39m, figsize\u001b[38;5;241m=\u001b[39m(\u001b[38;5;241m15\u001b[39m, \u001b[38;5;241m12\u001b[39m))\n\u001b[0;32m----> 4\u001b[0m \u001b[38;5;28;01mfor\u001b[39;00m ax, col \u001b[38;5;129;01min\u001b[39;00m \u001b[38;5;28mzip\u001b[39m(axes\u001b[38;5;241m.\u001b[39mflatten(), continuous_features):\n\u001b[1;32m      5\u001b[0m     sns\u001b[38;5;241m.\u001b[39mkdeplot(data\u001b[38;5;241m=\u001b[39mdf, x\u001b[38;5;241m=\u001b[39mcol, fill\u001b[38;5;241m=\u001b[39m\u001b[38;5;28;01mTrue\u001b[39;00m, linewidth\u001b[38;5;241m=\u001b[39m\u001b[38;5;241m2\u001b[39m, hue\u001b[38;5;241m=\u001b[39m\u001b[38;5;124m'\u001b[39m\u001b[38;5;124mleft\u001b[39m\u001b[38;5;124m'\u001b[39m, ax\u001b[38;5;241m=\u001b[39max, palette \u001b[38;5;241m=\u001b[39m {\u001b[38;5;241m0\u001b[39m: \u001b[38;5;124m'\u001b[39m\u001b[38;5;124m#990033\u001b[39m\u001b[38;5;124m'\u001b[39m, \u001b[38;5;241m1\u001b[39m: \u001b[38;5;124m'\u001b[39m\u001b[38;5;124mdarkorange\u001b[39m\u001b[38;5;124m'\u001b[39m})\n\u001b[1;32m      6\u001b[0m     ax\u001b[38;5;241m.\u001b[39mset_title(\u001b[38;5;124mf\u001b[39m\u001b[38;5;124m'\u001b[39m\u001b[38;5;132;01m{\u001b[39;00mcol\u001b[38;5;132;01m}\u001b[39;00m\u001b[38;5;124m vs Target\u001b[39m\u001b[38;5;124m'\u001b[39m)\n",
      "\u001b[0;31mNameError\u001b[0m: name 'continuous_features' is not defined"
     ]
    },
    {
     "data": {
      "image/png": "[encoded data removed]",
      "text/plain": [
       "<Figure size 1500x1200 with 6 Axes>"
      ]
     },
     "metadata": {},
     "output_type": "display_data"
    }
   ],
   "source": [
    "# Create subplots for kde plots\n",
    "fig, axes = plt.subplots(3, 2, figsize=(15, 12))\n",
    "\n",
    "for ax, col in zip(axes.flatten(), continuous_features):\n",
    "    sns.kdeplot(data=df, x=col, fill=True, linewidth=2, hue='left', ax=ax, palette = {0: '#990033', 1: 'darkorange'})\n",
    "    ax.set_title(f'{col} vs Target')\n",
    "\n",
    "axes[2,1].axis('off')\n",
    "plt.suptitle('Distribution of Continuous Features by Target', fontsize=22)\n",
    "plt.tight_layout()\n",
    "plt.show()"
   ]
  },
  {
   "cell_type": "code",
   "execution_count": null,
   "metadata": {},
   "outputs": [],
   "source": []
  },
  {
   "cell_type": "code",
   "execution_count": null,
   "metadata": {},
   "outputs": [],
   "source": []
  },
  {
   "cell_type": "code",
   "execution_count": null,
   "metadata": {},
   "outputs": [],
   "source": []
  },
  {
   "cell_type": "code",
   "execution_count": 8,
   "metadata": {},
   "outputs": [
    {
     "data": {
      "image/png": "[encoded data removed]",
      "text/plain": [
       "<Figure size 800x600 with 1 Axes>"
      ]
     },
     "metadata": {},
     "output_type": "display_data"
    }
   ],
   "source": [
    "import seaborn as sns\n",
    "import matplotlib.pyplot as plt\n",
    "\n",
    "# Map numerical codes to corresponding labels\n",
    "severity_labels = {1: 'Fatal', 2: 'Serious', 3: 'Slight'}\n",
    "\n",
    "# Replace numerical codes with corresponding labels\n",
    "df['casualty_severity'] = df['casualty_severity'].map(severity_labels)\n",
    "\n",
    "# Plot the distribution of accident severities\n",
    "plt.figure(figsize=(8, 6))\n",
    "sns.countplot(x='casualty_severity', data=df, order=['Fatal', 'Serious', 'Slight'])  # Specify order of bars\n",
    "plt.title('Distribution of Accident Severities')\n",
    "plt.xlabel('Casualty Severity')\n",
    "plt.ylabel('Count')\n",
    "plt.show()\n"
   ]
  },
  {
   "cell_type": "code",
   "execution_count": 9,
   "metadata": {},
   "outputs": [],
   "source": [
    "# # Mapping of casualty severity codes to descriptions\n",
    "# severity_mapping = {1: 'Fatal', 2: 'Serious', 3: 'Slight'}\n",
    "\n",
    "# # Map the 'casualty_severity' column using the provided descriptions\n",
    "# df['casualty_severity_label'] = df['casualty_severity'].map(severity_mapping)\n",
    "\n",
    "# # Plot the relationship between casualty severity and age band\n",
    "# plt.figure(figsize=(10, 8))\n",
    "# sns.boxplot(x='casualty_severity_label', y='age_of_casualty', data=df)\n",
    "# plt.title('Casualty Severity by Age of Casualty')\n",
    "# plt.xlabel('Casualty Severity')\n",
    "# plt.ylabel('Age of Casualty')\n",
    "# plt.show()\n"
   ]
  },
  {
   "cell_type": "code",
   "execution_count": 10,
   "metadata": {},
   "outputs": [],
   "source": [
    "# import seaborn as sns\n",
    "# import matplotlib.pyplot as plt\n",
    "\n",
    "# # Map numerical codes to provided labels for casualty severity\n",
    "# severity_mapping = {1: 'Fatal', 2: 'Serious', 3: 'Slight'}\n",
    "# df['casualty_severity_label'] = df['casualty_severity'].map(severity_mapping)\n",
    "\n",
    "# # Plot the relationship between casualty severity and age band\n",
    "# plt.figure(figsize=(10, 8))\n",
    "# sns.boxplot(x='casualty_severity_label', y='age_of_casualty', data=df, hue_order=['Fatal', 'Serious', 'Slight'])\n",
    "# plt.title('Casualty Severity by Age of Casualty')\n",
    "# plt.xlabel('Casualty Severity')\n",
    "# plt.ylabel('Age of Casualty')\n",
    "# plt.show()\n"
   ]
  },
  {
   "cell_type": "code",
   "execution_count": 11,
   "metadata": {},
   "outputs": [
    {
     "data": {
      "image/png": "[encoded data removed]",
      "text/plain": [
       "<Figure size 1000x800 with 1 Axes>"
      ]
     },
     "metadata": {},
     "output_type": "display_data"
    }
   ],
   "source": [
    "# Plot the relationship between casualty severity and age band\n",
    "plt.figure(figsize=(10, 8))\n",
    "sns.boxplot(x='casualty_severity', y='age_of_casualty', data=df)\n",
    "plt.title('Casualty Severity by Age of Casualty')\n",
    "plt.xlabel('Casualty Severity')\n",
    "plt.ylabel('Age of Casualty')\n",
    "plt.show()"
   ]
  },
  {
   "cell_type": "code",
   "execution_count": 12,
   "metadata": {},
   "outputs": [
    {
     "data": {
      "image/png": "[encoded data removed]",
      "text/plain": [
       "<Figure size 800x600 with 1 Axes>"
      ]
     },
     "metadata": {},
     "output_type": "display_data"
    }
   ],
   "source": [
    "# Map numerical codes to meaningful labels\n",
    "sex_mapping = {1: 'Male', 2: 'Female', -1: 'Unknown', 9: 'Not Specified'}\n",
    "\n",
    "# Replace numerical codes with corresponding labels\n",
    "df['sex_of_casualty'] = df['sex_of_casualty'].map(sex_mapping)\n",
    "\n",
    "# Plot the relationship between casualty severity and gender\n",
    "plt.figure(figsize=(8, 6))\n",
    "sns.countplot(x='casualty_severity', hue='sex_of_casualty', data=df)\n",
    "plt.title('Casualty Severity by Gender')\n",
    "plt.xlabel('Casualty Severity')\n",
    "plt.ylabel('Count')\n",
    "plt.legend(title='Sex of Casualty')\n",
    "plt.show()\n"
   ]
  },
  {
   "cell_type": "code",
   "execution_count": 13,
   "metadata": {},
   "outputs": [
    {
     "data": {
      "image/png": "[encoded data removed]",
      "text/plain": [
       "<Figure size 800x600 with 1 Axes>"
      ]
     },
     "metadata": {},
     "output_type": "display_data"
    }
   ],
   "source": [
    "# Plot the relationship between casualty severity and casualty's home area type\n",
    "\n",
    "# Map numerical codes to meaningful labels\n",
    "casualty_home_area_type_mapping = {1: 'Urban', 2: 'Rural', -1: 'Semi-Urban', 9: 'Unknown'}\n",
    "\n",
    "# Replace numerical codes with corresponding labels\n",
    "df['casualty_home_area_type'] = df['casualty_home_area_type'].map(casualty_home_area_type_mapping)\n",
    "\n",
    "\n",
    "plt.figure(figsize=(8, 6))\n",
    "sns.countplot(x='casualty_severity', hue='casualty_home_area_type', data=df)\n",
    "plt.title('Casualty Severity by Home Area Type')\n",
    "plt.xlabel('Casualty Severity')\n",
    "plt.ylabel('Count')\n",
    "plt.legend(title='Home Area Type', labels=['Unknown', 'Urban', 'Semi-Urban', 'Rural'])\n",
    "plt.show()"
   ]
  },
  {
   "cell_type": "code",
   "execution_count": null,
   "metadata": {},
   "outputs": [],
   "source": []
  },
  {
   "cell_type": "markdown",
   "metadata": {},
   "source": [
    "## 2. Data Cleaning"
   ]
  },
  {
   "cell_type": "code",
   "execution_count": 14,
   "metadata": {},
   "outputs": [
    {
     "data": {
      "text/plain": [
       "status                                   0\n",
       "accident_index                           0\n",
       "accident_year                            0\n",
       "accident_reference                       0\n",
       "vehicle_reference                        0\n",
       "casualty_reference                       0\n",
       "casualty_class                           0\n",
       "sex_of_casualty                          0\n",
       "age_of_casualty                          0\n",
       "age_band_of_casualty                     0\n",
       "casualty_severity                        0\n",
       "pedestrian_location                      0\n",
       "pedestrian_movement                      0\n",
       "car_passenger                            0\n",
       "bus_or_coach_passenger                   0\n",
       "pedestrian_road_maintenance_worker       0\n",
       "casualty_type                            0\n",
       "casualty_home_area_type               6001\n",
       "casualty_imd_decile                      0\n",
       "lsoa_of_casualty                         0\n",
       "dtype: int64"
      ]
     },
     "execution_count": 14,
     "metadata": {},
     "output_type": "execute_result"
    }
   ],
   "source": [
    "nulls = df.isnull().sum()\n",
    "nulls"
   ]
  },
  {
   "cell_type": "code",
   "execution_count": 15,
   "metadata": {},
   "outputs": [
    {
     "name": "stdout",
     "output_type": "stream",
     "text": [
      "There are Null data.\n"
     ]
    }
   ],
   "source": [
    "if sum(nulls) == 0:\n",
    "    print('There is no Null data.')\n",
    "else:\n",
    "    print('There are Null data.')\n"
   ]
  },
  {
   "cell_type": "code",
   "execution_count": 16,
   "metadata": {
    "scrolled": true
   },
   "outputs": [
    {
     "data": {
      "text/plain": [
       "Index(['status', 'accident_index', 'accident_year', 'accident_reference',\n",
       "       'vehicle_reference', 'casualty_reference', 'casualty_class',\n",
       "       'sex_of_casualty', 'age_of_casualty', 'age_band_of_casualty',\n",
       "       'casualty_severity', 'pedestrian_location', 'pedestrian_movement',\n",
       "       'car_passenger', 'bus_or_coach_passenger',\n",
       "       'pedestrian_road_maintenance_worker', 'casualty_type',\n",
       "       'casualty_home_area_type', 'casualty_imd_decile', 'lsoa_of_casualty'],\n",
       "      dtype='object')"
      ]
     },
     "execution_count": 16,
     "metadata": {},
     "output_type": "execute_result"
    }
   ],
   "source": [
    "df.columns"
   ]
  },
  {
   "cell_type": "code",
   "execution_count": 17,
   "metadata": {},
   "outputs": [
    {
     "data": {
      "text/plain": [
       "status                                    1\n",
       "accident_index                        48283\n",
       "accident_year                             1\n",
       "accident_reference                    48283\n",
       "vehicle_reference                        11\n",
       "casualty_reference                       18\n",
       "casualty_class                            3\n",
       "sex_of_casualty                           4\n",
       "age_of_casualty                         102\n",
       "age_band_of_casualty                     12\n",
       "casualty_severity                         3\n",
       "pedestrian_location                      11\n",
       "pedestrian_movement                      10\n",
       "car_passenger                             5\n",
       "bus_or_coach_passenger                    7\n",
       "pedestrian_road_maintenance_worker        4\n",
       "casualty_type                            22\n",
       "casualty_home_area_type                   3\n",
       "casualty_imd_decile                      11\n",
       "lsoa_of_casualty                      23841\n",
       "dtype: int64"
      ]
     },
     "execution_count": 17,
     "metadata": {},
     "output_type": "execute_result"
    }
   ],
   "source": [
    "df.nunique()"
   ]
  },
  {
   "cell_type": "code",
   "execution_count": 18,
   "metadata": {},
   "outputs": [
    {
     "data": {
      "text/plain": [
       "(61352, 18)"
      ]
     },
     "execution_count": 18,
     "metadata": {},
     "output_type": "execute_result"
    }
   ],
   "source": [
    "# There is only one value for status and accident_year columns.\n",
    "df = df.drop(['status', 'accident_year'], axis=1)\n",
    "df.shape"
   ]
  },
  {
   "cell_type": "code",
   "execution_count": 19,
   "metadata": {},
   "outputs": [
    {
     "data": {
      "text/plain": [
       "(61352, 16)"
      ]
     },
     "execution_count": 19,
     "metadata": {},
     "output_type": "execute_result"
    }
   ],
   "source": [
    "df = df.drop(['accident_index', 'accident_reference'], axis=1)\n",
    "df.shape"
   ]
  },
  {
   "cell_type": "code",
   "execution_count": 20,
   "metadata": {},
   "outputs": [],
   "source": [
    "# (df.accident_index == '2022' + df.accident_reference).sum()"
   ]
  },
  {
   "cell_type": "code",
   "execution_count": 21,
   "metadata": {},
   "outputs": [],
   "source": [
    "# # df.accident_index is equal to '2022' + df.accident_reference\n",
    "# df = df.drop(['accident_index'], axis=1)\n",
    "# df.shape"
   ]
  },
  {
   "cell_type": "code",
   "execution_count": 22,
   "metadata": {
    "scrolled": true
   },
   "outputs": [],
   "source": [
    "# # Compute the correlation matrix\n",
    "# correlation_matrix = df.corr()\n",
    "\n",
    "# # Set up the matplotlib figure\n",
    "# plt.figure(figsize=(12, 10))\n",
    "\n",
    "# # Plot the heatmap\n",
    "# sns.heatmap(correlation_matrix, annot=True, cmap=\"coolwarm\", fmt=\".2f\", cbar=True)\n",
    "\n",
    "# # Add title\n",
    "# plt.title('Correlation Heatmap of DataFrame')\n",
    "\n",
    "# # Show the plot\n",
    "# plt.show()\n"
   ]
  },
  {
   "cell_type": "code",
   "execution_count": 23,
   "metadata": {},
   "outputs": [],
   "source": [
    "def value_counts(df, column):\n",
    "    # Calculate the frequency of each value in the \"sex_of_casualty\" column\n",
    "    frequency = df[column].value_counts()\n",
    "    \n",
    "    # Print the frequency of every value\n",
    "    print(f\"Frequency of each value for DataFrame['{column}']: \\n{frequency}\")"
   ]
  },
  {
   "cell_type": "code",
   "execution_count": 24,
   "metadata": {},
   "outputs": [],
   "source": [
    "def remove_outliers(df, column, values_to_remove):\n",
    "    \"\"\"\n",
    "    Remove rows from a DataFrame where the specified column contains specified values.\n",
    "\n",
    "    Args:\n",
    "        df (DataFrame): The pandas DataFrame.\n",
    "        column (str): The column name to check for outliers.\n",
    "        values_to_remove (list): A list of values to remove from the specified column.\n",
    "\n",
    "    Returns:\n",
    "        DataFrame: The DataFrame with outliers removed.\n",
    "    \"\"\"\n",
    "    # Create a boolean mask to identify rows with the specified values to remove\n",
    "    mask = df[column].isin(values_to_remove)\n",
    "    \n",
    "    # Use the mask to filter out rows with the specified values and create a new DataFrame\n",
    "    filtered_df = df[~mask]\n",
    "    \n",
    "    # Optionally, you can modify the original DataFrame in place by uncommenting the following line:\n",
    "    # df.drop(df[mask].index, inplace=True)\n",
    "    \n",
    "    return filtered_df"
   ]
  },
  {
   "cell_type": "code",
   "execution_count": 25,
   "metadata": {},
   "outputs": [],
   "source": [
    "def count_plot_df(df, column, label=None):\n",
    "    # Set the style of the seaborn plot\n",
    "    sns.set_style(\"whitegrid\")\n",
    "    \n",
    "    # Create the count plot\n",
    "    plt.figure(figsize=(10, 6))\n",
    "    sns.countplot(data=df, x=column, palette=\"viridis\")\n",
    "    \n",
    "    # Rotate x-axis labels for better readability (if needed)\n",
    "    plt.xticks(rotation=45)\n",
    "    \n",
    "    # Add labels and title\n",
    "    if label is not None:\n",
    "        plt.xlabel(label)\n",
    "        plt.ylabel(\"Frequency\")\n",
    "        plt.title(f\"Frequency Plot of {label}\")\n",
    "    else:\n",
    "        plt.ylabel(\"Frequency\")\n",
    "        plt.title(f\"Frequency Plot\")\n",
    "        \n",
    "    \n",
    "    # Show the plot\n",
    "    plt.tight_layout()\n",
    "    plt.show()\n"
   ]
  },
  {
   "cell_type": "code",
   "execution_count": 26,
   "metadata": {},
   "outputs": [
    {
     "data": {
      "text/plain": [
       "array([  2,   1,   3,   4,   5,   8,   6,   9, 227,   7,  61])"
      ]
     },
     "execution_count": 26,
     "metadata": {},
     "output_type": "execute_result"
    }
   ],
   "source": [
    "df['vehicle_reference'].unique()"
   ]
  },
  {
   "cell_type": "code",
   "execution_count": 27,
   "metadata": {
    "scrolled": true
   },
   "outputs": [
    {
     "name": "stdout",
     "output_type": "stream",
     "text": [
      "Frequency of each value for DataFrame['vehicle_reference']: \n",
      "vehicle_reference\n",
      "1      36255\n",
      "2      23337\n",
      "3       1427\n",
      "4        227\n",
      "5         71\n",
      "6         19\n",
      "7          7\n",
      "8          4\n",
      "9          3\n",
      "227        1\n",
      "61         1\n",
      "Name: count, dtype: int64\n"
     ]
    }
   ],
   "source": [
    "value_counts(df, 'vehicle_reference')"
   ]
  },
  {
   "cell_type": "code",
   "execution_count": 28,
   "metadata": {},
   "outputs": [
    {
     "data": {
      "text/plain": [
       "(61336, 16)"
      ]
     },
     "execution_count": 28,
     "metadata": {},
     "output_type": "execute_result"
    }
   ],
   "source": [
    "vehicle_reference_to_remove = [7, 8, 9, 61, 227]\n",
    "df = remove_outliers(df, \"vehicle_reference\", vehicle_reference_to_remove)\n",
    "df.shape"
   ]
  },
  {
   "cell_type": "code",
   "execution_count": 29,
   "metadata": {},
   "outputs": [
    {
     "name": "stdout",
     "output_type": "stream",
     "text": [
      "Frequency of each value for DataFrame['casualty_reference']: \n",
      "casualty_reference\n",
      "1      47786\n",
      "2       9301\n",
      "3       2792\n",
      "4        934\n",
      "5        324\n",
      "6         98\n",
      "7         37\n",
      "8         15\n",
      "9         11\n",
      "10        10\n",
      "11         7\n",
      "12         6\n",
      "14         4\n",
      "13         4\n",
      "15         3\n",
      "16         2\n",
      "22         1\n",
      "148        1\n",
      "Name: count, dtype: int64\n"
     ]
    }
   ],
   "source": [
    "value_counts(df, 'casualty_reference')"
   ]
  },
  {
   "cell_type": "code",
   "execution_count": 30,
   "metadata": {},
   "outputs": [
    {
     "data": {
      "text/plain": [
       "(61137, 16)"
      ]
     },
     "execution_count": 30,
     "metadata": {},
     "output_type": "execute_result"
    }
   ],
   "source": [
    "# Values to remove\n",
    "casualty_reference_to_remove = [6, 7, 8, 9, 10, 11, 12, 13, 14, 15, 16, 22, 148]\n",
    "\n",
    "df = remove_outliers(df, \"casualty_reference\", casualty_reference_to_remove)\n",
    "df.shape"
   ]
  },
  {
   "cell_type": "code",
   "execution_count": 31,
   "metadata": {},
   "outputs": [
    {
     "data": {
      "image/png": "[encoded data removed]",
      "text/plain": [
       "<Figure size 1000x600 with 1 Axes>"
      ]
     },
     "metadata": {},
     "output_type": "display_data"
    }
   ],
   "source": [
    "count_plot_df(df, 'casualty_reference', label=\"Casualty Reference\")"
   ]
  },
  {
   "cell_type": "code",
   "execution_count": 32,
   "metadata": {
    "scrolled": true
   },
   "outputs": [
    {
     "name": "stdout",
     "output_type": "stream",
     "text": [
      "Frequency of each value for DataFrame['casualty_class']: \n",
      "casualty_class\n",
      "1    40670\n",
      "2    11529\n",
      "3     8938\n",
      "Name: count, dtype: int64\n"
     ]
    }
   ],
   "source": [
    "# Calculate the frequency of each value in the \"casualty_class\" column\n",
    "value_counts(df, 'casualty_class')"
   ]
  },
  {
   "cell_type": "code",
   "execution_count": 33,
   "metadata": {
    "scrolled": true
   },
   "outputs": [
    {
     "name": "stdout",
     "output_type": "stream",
     "text": [
      "Frequency of each value for DataFrame['casualty_type']: \n",
      "casualty_type\n",
      " 9     32577\n",
      " 0      8938\n",
      " 1      7155\n",
      " 3      3627\n",
      " 5      1791\n",
      " 19     1439\n",
      " 11      927\n",
      " 97      861\n",
      " 90      828\n",
      " 4       822\n",
      " 8       695\n",
      " 98      416\n",
      " 2       410\n",
      " 21      178\n",
      " 23      127\n",
      " 22      110\n",
      " 10       86\n",
      " 20       76\n",
      " 16       34\n",
      " 17       31\n",
      "-1         5\n",
      " 18        4\n",
      "Name: count, dtype: int64\n"
     ]
    }
   ],
   "source": [
    "# Calculate the frequency of each value in the \"casualty_type\" column\n",
    "value_counts(df, 'casualty_type')"
   ]
  },
  {
   "cell_type": "code",
   "execution_count": 34,
   "metadata": {},
   "outputs": [
    {
     "name": "stdout",
     "output_type": "stream",
     "text": [
      "[-1, 0, 1, 2, 3, 4, 5, 8, 9, 10, 11, 16, 17, 18, 19, 20, 21, 22, 23, 90, 97, 98]\n"
     ]
    }
   ],
   "source": [
    "print(sorted(df.casualty_type.unique()))"
   ]
  },
  {
   "cell_type": "code",
   "execution_count": 35,
   "metadata": {},
   "outputs": [
    {
     "data": {
      "text/plain": [
       "(61132, 16)"
      ]
     },
     "execution_count": 35,
     "metadata": {},
     "output_type": "execute_result"
    }
   ],
   "source": [
    "# Values to remove\n",
    "casualty_type_to_remove = [-1]\n",
    "\n",
    "df = remove_outliers(df, 'casualty_type', casualty_type_to_remove)\n",
    "df.shape"
   ]
  },
  {
   "cell_type": "code",
   "execution_count": 36,
   "metadata": {
    "scrolled": true
   },
   "outputs": [
    {
     "name": "stdout",
     "output_type": "stream",
     "text": [
      "Frequency of each value for DataFrame['sex_of_casualty']: \n",
      "sex_of_casualty\n",
      "Male             37339\n",
      "Female           23337\n",
      "Unknown            446\n",
      "Not Specified       10\n",
      "Name: count, dtype: int64\n"
     ]
    }
   ],
   "source": [
    "# Calculate the frequency of each value in the \"sex_of_casualty\" column\n",
    "value_counts(df, 'sex_of_casualty')"
   ]
  },
  {
   "cell_type": "code",
   "execution_count": 37,
   "metadata": {},
   "outputs": [
    {
     "data": {
      "text/plain": [
       "(61132, 16)"
      ]
     },
     "execution_count": 37,
     "metadata": {},
     "output_type": "execute_result"
    }
   ],
   "source": [
    "# Values to remove\n",
    "sex_of_casualty_to_remove = [-1, 9]\n",
    "\n",
    "df = remove_outliers(df, 'sex_of_casualty', sex_of_casualty_to_remove)\n",
    "df.shape"
   ]
  },
  {
   "cell_type": "code",
   "execution_count": 38,
   "metadata": {
    "scrolled": true
   },
   "outputs": [
    {
     "name": "stdout",
     "output_type": "stream",
     "text": [
      "Frequency of each value for DataFrame['age_of_casualty']: \n",
      "age_of_casualty\n",
      "18     1589\n",
      "19     1514\n",
      "21     1426\n",
      "20     1399\n",
      "22     1384\n",
      "       ... \n",
      "96        4\n",
      "99        4\n",
      "97        3\n",
      "98        2\n",
      "101       1\n",
      "Name: count, Length: 102, dtype: int64\n"
     ]
    }
   ],
   "source": [
    "# Calculate the frequency of each value in the \"age_of_casualty\" column\n",
    "value_counts(df, 'age_of_casualty')"
   ]
  },
  {
   "cell_type": "code",
   "execution_count": 39,
   "metadata": {},
   "outputs": [
    {
     "data": {
      "image/png": "[encoded data removed]",
      "text/plain": [
       "<Figure size 1000x600 with 1 Axes>"
      ]
     },
     "metadata": {},
     "output_type": "display_data"
    }
   ],
   "source": [
    "count_plot_df(df, 'age_of_casualty', \"Age of Casualty\")"
   ]
  },
  {
   "cell_type": "code",
   "execution_count": 40,
   "metadata": {},
   "outputs": [
    {
     "data": {
      "text/plain": [
       "(59790, 16)"
      ]
     },
     "execution_count": 40,
     "metadata": {},
     "output_type": "execute_result"
    }
   ],
   "source": [
    "age_of_casualty_to_remove = [-1]\n",
    "\n",
    "df = remove_outliers(df, 'age_of_casualty', age_of_casualty_to_remove)\n",
    "df.shape"
   ]
  },
  {
   "cell_type": "code",
   "execution_count": 41,
   "metadata": {
    "scrolled": true
   },
   "outputs": [
    {
     "name": "stdout",
     "output_type": "stream",
     "text": [
      "Frequency of each value for DataFrame['age_band_of_casualty']: \n",
      "age_band_of_casualty\n",
      "6     12840\n",
      "7      9387\n",
      "8      7823\n",
      "5      6712\n",
      "4      6299\n",
      "9      5823\n",
      "10     2972\n",
      "3      2961\n",
      "11     2440\n",
      "2      1558\n",
      "1       975\n",
      "Name: count, dtype: int64\n"
     ]
    }
   ],
   "source": [
    "# Calculate the frequency of each value in the \"age_band_of_casualty\" column\n",
    "value_counts(df, 'age_band_of_casualty')"
   ]
  },
  {
   "cell_type": "code",
   "execution_count": 42,
   "metadata": {
    "scrolled": true
   },
   "outputs": [
    {
     "name": "stdout",
     "output_type": "stream",
     "text": [
      "Frequency of each value for DataFrame['casualty_severity']: \n",
      "casualty_severity\n",
      "Slight     47389\n",
      "Serious    11615\n",
      "Fatal        786\n",
      "Name: count, dtype: int64\n"
     ]
    }
   ],
   "source": [
    "# Calculate the frequency of each value in the \"casualty_severity\" column\n",
    "value_counts(df, 'casualty_severity')"
   ]
  },
  {
   "cell_type": "code",
   "execution_count": 43,
   "metadata": {
    "scrolled": true
   },
   "outputs": [
    {
     "data": {
      "text/plain": [
       "vehicle_reference                         6\n",
       "casualty_reference                        5\n",
       "casualty_class                            3\n",
       "sex_of_casualty                           4\n",
       "age_of_casualty                         101\n",
       "age_band_of_casualty                     11\n",
       "casualty_severity                         3\n",
       "pedestrian_location                      11\n",
       "pedestrian_movement                      10\n",
       "car_passenger                             5\n",
       "bus_or_coach_passenger                    7\n",
       "pedestrian_road_maintenance_worker        4\n",
       "casualty_type                            21\n",
       "casualty_home_area_type                   3\n",
       "casualty_imd_decile                      11\n",
       "lsoa_of_casualty                      23732\n",
       "dtype: int64"
      ]
     },
     "execution_count": 43,
     "metadata": {},
     "output_type": "execute_result"
    }
   ],
   "source": [
    "df.nunique()"
   ]
  },
  {
   "cell_type": "code",
   "execution_count": 44,
   "metadata": {},
   "outputs": [
    {
     "data": {
      "text/plain": [
       "vehicle_reference                        0\n",
       "casualty_reference                       0\n",
       "casualty_class                           0\n",
       "sex_of_casualty                          0\n",
       "age_of_casualty                          0\n",
       "age_band_of_casualty                     0\n",
       "casualty_severity                        0\n",
       "pedestrian_location                      0\n",
       "pedestrian_movement                      0\n",
       "car_passenger                            0\n",
       "bus_or_coach_passenger                   0\n",
       "pedestrian_road_maintenance_worker       0\n",
       "casualty_type                            0\n",
       "casualty_home_area_type               5932\n",
       "casualty_imd_decile                      0\n",
       "lsoa_of_casualty                         0\n",
       "dtype: int64"
      ]
     },
     "execution_count": 44,
     "metadata": {},
     "output_type": "execute_result"
    }
   ],
   "source": [
    "df.isnull().sum()"
   ]
  },
  {
   "cell_type": "code",
   "execution_count": 45,
   "metadata": {},
   "outputs": [],
   "source": [
    "# # Replace all occurrences of -1 with NaN\n",
    "# df.replace(-1, np.NaN, inplace=True)"
   ]
  },
  {
   "cell_type": "code",
   "execution_count": 46,
   "metadata": {},
   "outputs": [
    {
     "data": {
      "image/png": "[encoded data removed]",
      "text/plain": [
       "<Figure size 1000x600 with 1 Axes>"
      ]
     },
     "metadata": {},
     "output_type": "display_data"
    }
   ],
   "source": [
    "\\\n",
    "\n",
    "# Calculate the percentage of each casualty severity within each IMD decile category\n",
    "severity_imd_percentage = df.groupby(['casualty_imd_decile', 'casualty_severity']).size() / df.groupby('casualty_imd_decile').size() * 100\n",
    "severity_imd_percentage = severity_imd_percentage.reset_index(name='Percentage')\n",
    "\n",
    "# Plot the relationship between casualty severity and IMD decile\n",
    "plt.figure(figsize=(10, 6))\n",
    "sns.barplot(x='casualty_imd_decile', y='Percentage', hue='casualty_severity', data=severity_imd_percentage)\n",
    "plt.title('Percentage of Casualty Severity by IMD Decile of Casualty Home Postcode')\n",
    "plt.xlabel('IMD Decile')\n",
    "plt.ylabel('Percentage')\n",
    "plt.legend(title='Casualty Severity', loc='upper right')\n",
    "plt.show()\n"
   ]
  },
  {
   "cell_type": "code",
   "execution_count": 47,
   "metadata": {},
   "outputs": [
    {
     "data": {
      "image/png": "[encoded data removed]",
      "text/plain": [
       "<Figure size 1000x600 with 1 Axes>"
      ]
     },
     "metadata": {},
     "output_type": "display_data"
    }
   ],
   "source": [
    "import seaborn as sns\n",
    "import matplotlib.pyplot as plt\n",
    "\n",
    "# Plot the relationship between casualty severity and IMD decile\n",
    "plt.figure(figsize=(10, 6))\n",
    "sns.countplot(x='casualty_imd_decile', hue='casualty_severity', data=df)\n",
    "plt.title('Casualty Severity by IMD Decile')\n",
    "plt.xlabel('IMD Decile')\n",
    "plt.ylabel('Count')\n",
    "plt.legend(title='Casualty Severity')\n",
    "plt.show()\n"
   ]
  },
  {
   "cell_type": "code",
   "execution_count": 48,
   "metadata": {},
   "outputs": [
    {
     "ename": "AttributeError",
     "evalue": "'numpy.int64' object has no attribute 'startswith'",
     "output_type": "error",
     "traceback": [
      "\u001b[0;31m---------------------------------------------------------------------------\u001b[0m",
      "\u001b[0;31mAttributeError\u001b[0m                            Traceback (most recent call last)",
      "Cell \u001b[0;32mIn[48], line 6\u001b[0m\n\u001b[1;32m      4\u001b[0m \u001b[38;5;66;03m# Plot the relationship between casualties by road user type and IMD decile\u001b[39;00m\n\u001b[1;32m      5\u001b[0m plt\u001b[38;5;241m.\u001b[39mfigure(figsize\u001b[38;5;241m=\u001b[39m(\u001b[38;5;241m12\u001b[39m, \u001b[38;5;241m8\u001b[39m))\n\u001b[0;32m----> 6\u001b[0m sns\u001b[38;5;241m.\u001b[39mcountplot(x\u001b[38;5;241m=\u001b[39m\u001b[38;5;124m'\u001b[39m\u001b[38;5;124mcasualty_type\u001b[39m\u001b[38;5;124m'\u001b[39m, hue\u001b[38;5;241m=\u001b[39m\u001b[38;5;124m'\u001b[39m\u001b[38;5;124mcasualty_imd_decile\u001b[39m\u001b[38;5;124m'\u001b[39m, data\u001b[38;5;241m=\u001b[39mdf)\n\u001b[1;32m      7\u001b[0m plt\u001b[38;5;241m.\u001b[39mtitle(\u001b[38;5;124m'\u001b[39m\u001b[38;5;124mCasualties by Road User Type and IMD Decile\u001b[39m\u001b[38;5;124m'\u001b[39m)\n\u001b[1;32m      8\u001b[0m plt\u001b[38;5;241m.\u001b[39mxlabel(\u001b[38;5;124m'\u001b[39m\u001b[38;5;124mRoad User Type\u001b[39m\u001b[38;5;124m'\u001b[39m)\n",
      "File \u001b[0;32m~/anaconda3/envs/DS/lib/python3.11/site-packages/seaborn/categorical.py:2955\u001b[0m, in \u001b[0;36mcountplot\u001b[0;34m(data, x, y, hue, order, hue_order, orient, color, palette, saturation, width, dodge, ax, **kwargs)\u001b[0m\n\u001b[1;32m   2952\u001b[0m \u001b[38;5;28;01mif\u001b[39;00m ax \u001b[38;5;129;01mis\u001b[39;00m \u001b[38;5;28;01mNone\u001b[39;00m:\n\u001b[1;32m   2953\u001b[0m     ax \u001b[38;5;241m=\u001b[39m plt\u001b[38;5;241m.\u001b[39mgca()\n\u001b[0;32m-> 2955\u001b[0m plotter\u001b[38;5;241m.\u001b[39mplot(ax, kwargs)\n\u001b[1;32m   2956\u001b[0m \u001b[38;5;28;01mreturn\u001b[39;00m ax\n",
      "File \u001b[0;32m~/anaconda3/envs/DS/lib/python3.11/site-packages/seaborn/categorical.py:1587\u001b[0m, in \u001b[0;36m_BarPlotter.plot\u001b[0;34m(self, ax, bar_kws)\u001b[0m\n\u001b[1;32m   1585\u001b[0m \u001b[38;5;250m\u001b[39m\u001b[38;5;124;03m\"\"\"Make the plot.\"\"\"\u001b[39;00m\n\u001b[1;32m   1586\u001b[0m \u001b[38;5;28mself\u001b[39m\u001b[38;5;241m.\u001b[39mdraw_bars(ax, bar_kws)\n\u001b[0;32m-> 1587\u001b[0m \u001b[38;5;28mself\u001b[39m\u001b[38;5;241m.\u001b[39mannotate_axes(ax)\n\u001b[1;32m   1588\u001b[0m \u001b[38;5;28;01mif\u001b[39;00m \u001b[38;5;28mself\u001b[39m\u001b[38;5;241m.\u001b[39morient \u001b[38;5;241m==\u001b[39m \u001b[38;5;124m\"\u001b[39m\u001b[38;5;124mh\u001b[39m\u001b[38;5;124m\"\u001b[39m:\n\u001b[1;32m   1589\u001b[0m     ax\u001b[38;5;241m.\u001b[39minvert_yaxis()\n",
      "File \u001b[0;32m~/anaconda3/envs/DS/lib/python3.11/site-packages/seaborn/categorical.py:767\u001b[0m, in \u001b[0;36m_CategoricalPlotter.annotate_axes\u001b[0;34m(self, ax)\u001b[0m\n\u001b[1;32m    764\u001b[0m     ax\u001b[38;5;241m.\u001b[39mset_ylim(\u001b[38;5;241m-\u001b[39m\u001b[38;5;241m.5\u001b[39m, \u001b[38;5;28mlen\u001b[39m(\u001b[38;5;28mself\u001b[39m\u001b[38;5;241m.\u001b[39mplot_data) \u001b[38;5;241m-\u001b[39m \u001b[38;5;241m.5\u001b[39m, auto\u001b[38;5;241m=\u001b[39m\u001b[38;5;28;01mNone\u001b[39;00m)\n\u001b[1;32m    766\u001b[0m \u001b[38;5;28;01mif\u001b[39;00m \u001b[38;5;28mself\u001b[39m\u001b[38;5;241m.\u001b[39mhue_names \u001b[38;5;129;01mis\u001b[39;00m \u001b[38;5;129;01mnot\u001b[39;00m \u001b[38;5;28;01mNone\u001b[39;00m:\n\u001b[0;32m--> 767\u001b[0m     ax\u001b[38;5;241m.\u001b[39mlegend(loc\u001b[38;5;241m=\u001b[39m\u001b[38;5;124m\"\u001b[39m\u001b[38;5;124mbest\u001b[39m\u001b[38;5;124m\"\u001b[39m, title\u001b[38;5;241m=\u001b[39m\u001b[38;5;28mself\u001b[39m\u001b[38;5;241m.\u001b[39mhue_title)\n",
      "File \u001b[0;32m~/anaconda3/envs/DS/lib/python3.11/site-packages/matplotlib/axes/_axes.py:322\u001b[0m, in \u001b[0;36mAxes.legend\u001b[0;34m(self, *args, **kwargs)\u001b[0m\n\u001b[1;32m    204\u001b[0m \u001b[38;5;129m@_docstring\u001b[39m\u001b[38;5;241m.\u001b[39mdedent_interpd\n\u001b[1;32m    205\u001b[0m \u001b[38;5;28;01mdef\u001b[39;00m \u001b[38;5;21mlegend\u001b[39m(\u001b[38;5;28mself\u001b[39m, \u001b[38;5;241m*\u001b[39margs, \u001b[38;5;241m*\u001b[39m\u001b[38;5;241m*\u001b[39mkwargs):\n\u001b[1;32m    206\u001b[0m \u001b[38;5;250m    \u001b[39m\u001b[38;5;124;03m\"\"\"\u001b[39;00m\n\u001b[1;32m    207\u001b[0m \u001b[38;5;124;03m    Place a legend on the Axes.\u001b[39;00m\n\u001b[1;32m    208\u001b[0m \n\u001b[0;32m   (...)\u001b[0m\n\u001b[1;32m    320\u001b[0m \u001b[38;5;124;03m    .. plot:: gallery/text_labels_and_annotations/legend.py\u001b[39;00m\n\u001b[1;32m    321\u001b[0m \u001b[38;5;124;03m    \"\"\"\u001b[39;00m\n\u001b[0;32m--> 322\u001b[0m     handles, labels, kwargs \u001b[38;5;241m=\u001b[39m mlegend\u001b[38;5;241m.\u001b[39m_parse_legend_args([\u001b[38;5;28mself\u001b[39m], \u001b[38;5;241m*\u001b[39margs, \u001b[38;5;241m*\u001b[39m\u001b[38;5;241m*\u001b[39mkwargs)\n\u001b[1;32m    323\u001b[0m     \u001b[38;5;28mself\u001b[39m\u001b[38;5;241m.\u001b[39mlegend_ \u001b[38;5;241m=\u001b[39m mlegend\u001b[38;5;241m.\u001b[39mLegend(\u001b[38;5;28mself\u001b[39m, handles, labels, \u001b[38;5;241m*\u001b[39m\u001b[38;5;241m*\u001b[39mkwargs)\n\u001b[1;32m    324\u001b[0m     \u001b[38;5;28mself\u001b[39m\u001b[38;5;241m.\u001b[39mlegend_\u001b[38;5;241m.\u001b[39m_remove_method \u001b[38;5;241m=\u001b[39m \u001b[38;5;28mself\u001b[39m\u001b[38;5;241m.\u001b[39m_remove_legend\n",
      "File \u001b[0;32m~/anaconda3/envs/DS/lib/python3.11/site-packages/matplotlib/legend.py:1361\u001b[0m, in \u001b[0;36m_parse_legend_args\u001b[0;34m(axs, handles, labels, *args, **kwargs)\u001b[0m\n\u001b[1;32m   1357\u001b[0m     handles \u001b[38;5;241m=\u001b[39m [handle \u001b[38;5;28;01mfor\u001b[39;00m handle, label\n\u001b[1;32m   1358\u001b[0m                \u001b[38;5;129;01min\u001b[39;00m \u001b[38;5;28mzip\u001b[39m(_get_legend_handles(axs, handlers), labels)]\n\u001b[1;32m   1360\u001b[0m \u001b[38;5;28;01melif\u001b[39;00m \u001b[38;5;28mlen\u001b[39m(args) \u001b[38;5;241m==\u001b[39m \u001b[38;5;241m0\u001b[39m:  \u001b[38;5;66;03m# 0 args: automatically detect labels and handles.\u001b[39;00m\n\u001b[0;32m-> 1361\u001b[0m     handles, labels \u001b[38;5;241m=\u001b[39m _get_legend_handles_labels(axs, handlers)\n\u001b[1;32m   1362\u001b[0m     \u001b[38;5;28;01mif\u001b[39;00m \u001b[38;5;129;01mnot\u001b[39;00m handles:\n\u001b[1;32m   1363\u001b[0m         log\u001b[38;5;241m.\u001b[39mwarning(\n\u001b[1;32m   1364\u001b[0m             \u001b[38;5;124m\"\u001b[39m\u001b[38;5;124mNo artists with labels found to put in legend.  Note that \u001b[39m\u001b[38;5;124m\"\u001b[39m\n\u001b[1;32m   1365\u001b[0m             \u001b[38;5;124m\"\u001b[39m\u001b[38;5;124martists whose label start with an underscore are ignored \u001b[39m\u001b[38;5;124m\"\u001b[39m\n\u001b[1;32m   1366\u001b[0m             \u001b[38;5;124m\"\u001b[39m\u001b[38;5;124mwhen legend() is called with no argument.\u001b[39m\u001b[38;5;124m\"\u001b[39m)\n",
      "File \u001b[0;32m~/anaconda3/envs/DS/lib/python3.11/site-packages/matplotlib/legend.py:1291\u001b[0m, in \u001b[0;36m_get_legend_handles_labels\u001b[0;34m(axs, legend_handler_map)\u001b[0m\n\u001b[1;32m   1289\u001b[0m \u001b[38;5;28;01mfor\u001b[39;00m handle \u001b[38;5;129;01min\u001b[39;00m _get_legend_handles(axs, legend_handler_map):\n\u001b[1;32m   1290\u001b[0m     label \u001b[38;5;241m=\u001b[39m handle\u001b[38;5;241m.\u001b[39mget_label()\n\u001b[0;32m-> 1291\u001b[0m     \u001b[38;5;28;01mif\u001b[39;00m label \u001b[38;5;129;01mand\u001b[39;00m \u001b[38;5;129;01mnot\u001b[39;00m label\u001b[38;5;241m.\u001b[39mstartswith(\u001b[38;5;124m'\u001b[39m\u001b[38;5;124m_\u001b[39m\u001b[38;5;124m'\u001b[39m):\n\u001b[1;32m   1292\u001b[0m         handles\u001b[38;5;241m.\u001b[39mappend(handle)\n\u001b[1;32m   1293\u001b[0m         labels\u001b[38;5;241m.\u001b[39mappend(label)\n",
      "\u001b[0;31mAttributeError\u001b[0m: 'numpy.int64' object has no attribute 'startswith'"
     ]
    },
    {
     "data": {
      "image/png": "[encoded data removed]",
      "text/plain": [
       "<Figure size 1200x800 with 1 Axes>"
      ]
     },
     "metadata": {},
     "output_type": "display_data"
    }
   ],
   "source": [
    "import seaborn as sns\n",
    "import matplotlib.pyplot as plt\n",
    "\n",
    "# Plot the relationship between casualties by road user type and IMD decile\n",
    "plt.figure(figsize=(12, 8))\n",
    "sns.countplot(x='casualty_type', hue='casualty_imd_decile', data=df)\n",
    "plt.title('Casualties by Road User Type and IMD Decile')\n",
    "plt.xlabel('Road User Type')\n",
    "plt.ylabel('Number of Casualties')\n",
    "plt.legend(title='IMD Decile')\n",
    "plt.xticks(rotation=45)  # Rotate x-axis labels for better readability\n",
    "plt.show()\n"
   ]
  },
  {
   "cell_type": "code",
   "execution_count": null,
   "metadata": {},
   "outputs": [],
   "source": [
    "# import seaborn as sns\n",
    "# import matplotlib.pyplot as plt\n",
    "\n",
    "# # Calculate the percentage of each road user type within each IMD decile category\n",
    "# road_user_imd_percentage = df.groupby(['casualty_imd_decile', 'casualty_type']).size() / df.groupby('casualty_imd_decile').size() * 100\n",
    "# road_user_imd_percentage = road_user_imd_percentage.reset_index(name='Percentage')\n",
    "\n",
    "# # Plot the relationship between road user type and IMD decile\n",
    "# plt.figure(figsize=(12, 8))\n",
    "# sns.barplot(x='casualty_imd_decile', y='Percentage', hue='casualty_type', data=road_user_imd_percentage)\n",
    "# plt.title('Casualties by Road User Type and IMD Decile')\n",
    "# plt.xlabel('IMD Decile')\n",
    "# plt.ylabel('Percentage of Casualties')\n",
    "# plt.legend(title='Road User Type', loc='upper right')\n",
    "# plt.show()\n"
   ]
  },
  {
   "cell_type": "code",
   "execution_count": 49,
   "metadata": {},
   "outputs": [
    {
     "data": {
      "image/png": "[encoded data removed]",
      "text/plain": [
       "<Figure size 1000x800 with 1 Axes>"
      ]
     },
     "metadata": {},
     "output_type": "display_data"
    }
   ],
   "source": [
    "# Plot the relationship between casualty severity and the IMD decile\n",
    "plt.figure(figsize=(10, 8))\n",
    "sns.boxplot(x='casualty_severity', y='casualty_imd_decile', data=df)\n",
    "# sns.boxplot(x='casualty_imd_decile', y='casualty_severity',  data=df)\n",
    "plt.title('Casualty Severity by IMD Decile')\n",
    "plt.xlabel('Casualty Severity')\n",
    "plt.ylabel('IMD Decile')\n",
    "plt.show()"
   ]
  },
  {
   "cell_type": "code",
   "execution_count": null,
   "metadata": {},
   "outputs": [],
   "source": []
  },
  {
   "cell_type": "code",
   "execution_count": null,
   "metadata": {},
   "outputs": [],
   "source": []
  },
  {
   "cell_type": "code",
   "execution_count": null,
   "metadata": {},
   "outputs": [],
   "source": []
  },
  {
   "cell_type": "code",
   "execution_count": 50,
   "metadata": {},
   "outputs": [],
   "source": [
    "# imputer = KNNImputer(n_neighbors=3)\n",
    "# df = imputer.fit_transform(df)"
   ]
  },
  {
   "cell_type": "code",
   "execution_count": 51,
   "metadata": {},
   "outputs": [
    {
     "name": "stdout",
     "output_type": "stream",
     "text": [
      "Frequency of each value for DataFrame['pedestrian_location']: \n",
      "pedestrian_location\n",
      "0     51040\n",
      "5      3287\n",
      "1      1448\n",
      "6      1025\n",
      "9       931\n",
      "10      822\n",
      "8       563\n",
      "4       540\n",
      "7        62\n",
      "2        40\n",
      "3        32\n",
      "Name: count, dtype: int64\n"
     ]
    }
   ],
   "source": [
    "# Calculate the frequency of each value in the \"pedestrian_location\" column\n",
    "value_counts(df, 'pedestrian_location')"
   ]
  },
  {
   "cell_type": "code",
   "execution_count": 52,
   "metadata": {},
   "outputs": [
    {
     "name": "stdout",
     "output_type": "stream",
     "text": [
      "Frequency of each value for DataFrame['pedestrian_movement']: \n",
      "pedestrian_movement\n",
      "0    51039\n",
      "1     2805\n",
      "9     2464\n",
      "3     1760\n",
      "5      475\n",
      "2      425\n",
      "4      318\n",
      "7      224\n",
      "8      222\n",
      "6       58\n",
      "Name: count, dtype: int64\n"
     ]
    }
   ],
   "source": [
    "# Calculate the frequency of each value in the \"pedestrian_movement\" column\n",
    "value_counts(df, 'pedestrian_movement')"
   ]
  },
  {
   "cell_type": "code",
   "execution_count": 53,
   "metadata": {},
   "outputs": [
    {
     "name": "stdout",
     "output_type": "stream",
     "text": [
      "Frequency of each value for DataFrame['car_passenger']: \n",
      "car_passenger\n",
      " 0    50332\n",
      " 1     5832\n",
      " 2     3324\n",
      "-1      276\n",
      " 9       26\n",
      "Name: count, dtype: int64\n"
     ]
    }
   ],
   "source": [
    "# Calculate the frequency of each value in the \"car_passenger\" column\n",
    "value_counts(df, 'car_passenger')"
   ]
  },
  {
   "cell_type": "code",
   "execution_count": 54,
   "metadata": {},
   "outputs": [
    {
     "name": "stdout",
     "output_type": "stream",
     "text": [
      "Frequency of each value for DataFrame['bus_or_coach_passenger']: \n",
      "bus_or_coach_passenger\n",
      " 0    59028\n",
      " 4      409\n",
      " 3      256\n",
      " 2       51\n",
      " 1       27\n",
      "-1       16\n",
      " 9        3\n",
      "Name: count, dtype: int64\n"
     ]
    }
   ],
   "source": [
    "# Calculate the frequency of each value in the \"bus_or_coach_passenger\" column\n",
    "value_counts(df, 'bus_or_coach_passenger')"
   ]
  },
  {
   "cell_type": "code",
   "execution_count": 55,
   "metadata": {},
   "outputs": [
    {
     "name": "stdout",
     "output_type": "stream",
     "text": [
      "Frequency of each value for DataFrame['pedestrian_road_maintenance_worker']: \n",
      "pedestrian_road_maintenance_worker\n",
      " 0    58590\n",
      " 2      981\n",
      " 1      114\n",
      "-1      105\n",
      "Name: count, dtype: int64\n"
     ]
    }
   ],
   "source": [
    "# Calculate the frequency of each value in the \"pedestrian_road_maintenance_worker\" column\n",
    "value_counts(df, 'pedestrian_road_maintenance_worker')"
   ]
  },
  {
   "cell_type": "code",
   "execution_count": 56,
   "metadata": {},
   "outputs": [
    {
     "name": "stdout",
     "output_type": "stream",
     "text": [
      "Frequency of each value for DataFrame['casualty_type']: \n",
      "casualty_type\n",
      "9     31912\n",
      "0      8750\n",
      "1      6945\n",
      "3      3597\n",
      "5      1779\n",
      "19     1409\n",
      "11      856\n",
      "97      838\n",
      "4       814\n",
      "90      794\n",
      "8       652\n",
      "98      409\n",
      "2       405\n",
      "21      176\n",
      "23      125\n",
      "22      109\n",
      "20       76\n",
      "10       76\n",
      "16       33\n",
      "17       31\n",
      "18        4\n",
      "Name: count, dtype: int64\n"
     ]
    }
   ],
   "source": [
    "# Calculate the frequency of each value in the \"casualty_type\" column\n",
    "value_counts(df, 'casualty_type')"
   ]
  },
  {
   "cell_type": "code",
   "execution_count": 57,
   "metadata": {},
   "outputs": [
    {
     "name": "stdout",
     "output_type": "stream",
     "text": [
      "Frequency of each value for DataFrame['casualty_home_area_type']: \n",
      "casualty_home_area_type\n",
      "Urban         44436\n",
      "Semi-Urban     4906\n",
      "Rural          4516\n",
      "Name: count, dtype: int64\n"
     ]
    }
   ],
   "source": [
    "# Calculate the frequency of each value in the \"casualty_home_area_type\" column\n",
    "value_counts(df, 'casualty_home_area_type')"
   ]
  },
  {
   "cell_type": "code",
   "execution_count": 58,
   "metadata": {
    "scrolled": true
   },
   "outputs": [
    {
     "name": "stdout",
     "output_type": "stream",
     "text": [
      "Frequency of each value for DataFrame['casualty_imd_decile']: \n",
      "casualty_imd_decile\n",
      " 2     6993\n",
      " 1     6819\n",
      " 3     6764\n",
      " 4     6142\n",
      " 5     5675\n",
      " 6     5244\n",
      "-1     5189\n",
      " 7     4870\n",
      " 8     4507\n",
      " 9     4022\n",
      " 10    3565\n",
      "Name: count, dtype: int64\n"
     ]
    }
   ],
   "source": [
    "# Calculate the frequency of each value in the \"casualty_imd_decile\" column\n",
    "value_counts(df, 'casualty_imd_decile')"
   ]
  },
  {
   "cell_type": "code",
   "execution_count": 59,
   "metadata": {},
   "outputs": [
    {
     "data": {
      "text/plain": [
       "11"
      ]
     },
     "execution_count": 59,
     "metadata": {},
     "output_type": "execute_result"
    }
   ],
   "source": [
    "df.casualty_imd_decile.nunique()"
   ]
  },
  {
   "cell_type": "code",
   "execution_count": 60,
   "metadata": {},
   "outputs": [
    {
     "name": "stdout",
     "output_type": "stream",
     "text": [
      "Frequency of each value for DataFrame['lsoa_of_casualty']: \n",
      "lsoa_of_casualty\n",
      "-1           7419\n",
      "E01004242      17\n",
      "E01005108      15\n",
      "E01033583      15\n",
      "E01004252      14\n",
      "             ... \n",
      "E01029996       1\n",
      "E01021892       1\n",
      "E01021523       1\n",
      "E01021942       1\n",
      "E01024707       1\n",
      "Name: count, Length: 23732, dtype: int64\n"
     ]
    }
   ],
   "source": [
    "# Calculate the frequency of each value in the \"lsoa_of_casualty\" column\n",
    "value_counts(df, 'lsoa_of_casualty')"
   ]
  },
  {
   "cell_type": "code",
   "execution_count": 61,
   "metadata": {},
   "outputs": [
    {
     "data": {
      "text/plain": [
       "23732"
      ]
     },
     "execution_count": 61,
     "metadata": {},
     "output_type": "execute_result"
    }
   ],
   "source": [
    "df.lsoa_of_casualty.nunique()"
   ]
  },
  {
   "cell_type": "code",
   "execution_count": 62,
   "metadata": {},
   "outputs": [
    {
     "data": {
      "text/plain": [
       "26"
      ]
     },
     "execution_count": 62,
     "metadata": {},
     "output_type": "execute_result"
    }
   ],
   "source": [
    "(df['lsoa_of_casualty'].value_counts()>10).sum()"
   ]
  },
  {
   "cell_type": "code",
   "execution_count": 63,
   "metadata": {},
   "outputs": [],
   "source": [
    "# count_plot_df(df, 'lsoa_of_casualty')"
   ]
  },
  {
   "cell_type": "code",
   "execution_count": null,
   "metadata": {},
   "outputs": [],
   "source": []
  },
  {
   "cell_type": "code",
   "execution_count": 64,
   "metadata": {},
   "outputs": [
    {
     "data": {
      "text/html": [
       "<div>\n",
       "<style scoped>\n",
       "    .dataframe tbody tr th:only-of-type {\n",
       "        vertical-align: middle;\n",
       "    }\n",
       "\n",
       "    .dataframe tbody tr th {\n",
       "        vertical-align: top;\n",
       "    }\n",
       "\n",
       "    .dataframe thead th {\n",
       "        text-align: right;\n",
       "    }\n",
       "</style>\n",
       "<table border=\"1\" class=\"dataframe\">\n",
       "  <thead>\n",
       "    <tr style=\"text-align: right;\">\n",
       "      <th></th>\n",
       "      <th>vehicle_reference</th>\n",
       "      <th>casualty_reference</th>\n",
       "      <th>casualty_class</th>\n",
       "      <th>sex_of_casualty</th>\n",
       "      <th>age_of_casualty</th>\n",
       "      <th>age_band_of_casualty</th>\n",
       "      <th>casualty_severity</th>\n",
       "      <th>pedestrian_location</th>\n",
       "      <th>pedestrian_movement</th>\n",
       "      <th>car_passenger</th>\n",
       "      <th>bus_or_coach_passenger</th>\n",
       "      <th>pedestrian_road_maintenance_worker</th>\n",
       "      <th>casualty_type</th>\n",
       "      <th>casualty_home_area_type</th>\n",
       "      <th>casualty_imd_decile</th>\n",
       "      <th>lsoa_of_casualty</th>\n",
       "    </tr>\n",
       "  </thead>\n",
       "  <tbody>\n",
       "    <tr>\n",
       "      <th>0</th>\n",
       "      <td>2</td>\n",
       "      <td>1</td>\n",
       "      <td>1</td>\n",
       "      <td>Female</td>\n",
       "      <td>46</td>\n",
       "      <td>8</td>\n",
       "      <td>Slight</td>\n",
       "      <td>0</td>\n",
       "      <td>0</td>\n",
       "      <td>0</td>\n",
       "      <td>0</td>\n",
       "      <td>0</td>\n",
       "      <td>9</td>\n",
       "      <td>Urban</td>\n",
       "      <td>9</td>\n",
       "      <td>E01033378</td>\n",
       "    </tr>\n",
       "    <tr>\n",
       "      <th>1</th>\n",
       "      <td>1</td>\n",
       "      <td>1</td>\n",
       "      <td>1</td>\n",
       "      <td>Male</td>\n",
       "      <td>30</td>\n",
       "      <td>6</td>\n",
       "      <td>Slight</td>\n",
       "      <td>0</td>\n",
       "      <td>0</td>\n",
       "      <td>0</td>\n",
       "      <td>0</td>\n",
       "      <td>0</td>\n",
       "      <td>9</td>\n",
       "      <td>Urban</td>\n",
       "      <td>2</td>\n",
       "      <td>E01018551</td>\n",
       "    </tr>\n",
       "    <tr>\n",
       "      <th>2</th>\n",
       "      <td>1</td>\n",
       "      <td>1</td>\n",
       "      <td>1</td>\n",
       "      <td>Female</td>\n",
       "      <td>58</td>\n",
       "      <td>9</td>\n",
       "      <td>Slight</td>\n",
       "      <td>0</td>\n",
       "      <td>0</td>\n",
       "      <td>0</td>\n",
       "      <td>0</td>\n",
       "      <td>0</td>\n",
       "      <td>9</td>\n",
       "      <td>Urban</td>\n",
       "      <td>10</td>\n",
       "      <td>E01006134</td>\n",
       "    </tr>\n",
       "    <tr>\n",
       "      <th>3</th>\n",
       "      <td>2</td>\n",
       "      <td>3</td>\n",
       "      <td>1</td>\n",
       "      <td>Female</td>\n",
       "      <td>78</td>\n",
       "      <td>11</td>\n",
       "      <td>Slight</td>\n",
       "      <td>0</td>\n",
       "      <td>0</td>\n",
       "      <td>0</td>\n",
       "      <td>0</td>\n",
       "      <td>0</td>\n",
       "      <td>9</td>\n",
       "      <td>Rural</td>\n",
       "      <td>10</td>\n",
       "      <td>E01018724</td>\n",
       "    </tr>\n",
       "    <tr>\n",
       "      <th>4</th>\n",
       "      <td>3</td>\n",
       "      <td>2</td>\n",
       "      <td>1</td>\n",
       "      <td>Male</td>\n",
       "      <td>63</td>\n",
       "      <td>9</td>\n",
       "      <td>Slight</td>\n",
       "      <td>0</td>\n",
       "      <td>0</td>\n",
       "      <td>0</td>\n",
       "      <td>0</td>\n",
       "      <td>0</td>\n",
       "      <td>9</td>\n",
       "      <td>NaN</td>\n",
       "      <td>7</td>\n",
       "      <td>W01000578</td>\n",
       "    </tr>\n",
       "    <tr>\n",
       "      <th>5</th>\n",
       "      <td>4</td>\n",
       "      <td>4</td>\n",
       "      <td>1</td>\n",
       "      <td>Male</td>\n",
       "      <td>52</td>\n",
       "      <td>8</td>\n",
       "      <td>Slight</td>\n",
       "      <td>0</td>\n",
       "      <td>0</td>\n",
       "      <td>0</td>\n",
       "      <td>0</td>\n",
       "      <td>0</td>\n",
       "      <td>9</td>\n",
       "      <td>Urban</td>\n",
       "      <td>9</td>\n",
       "      <td>E01012374</td>\n",
       "    </tr>\n",
       "    <tr>\n",
       "      <th>6</th>\n",
       "      <td>4</td>\n",
       "      <td>5</td>\n",
       "      <td>2</td>\n",
       "      <td>Male</td>\n",
       "      <td>50</td>\n",
       "      <td>8</td>\n",
       "      <td>Slight</td>\n",
       "      <td>0</td>\n",
       "      <td>0</td>\n",
       "      <td>2</td>\n",
       "      <td>0</td>\n",
       "      <td>0</td>\n",
       "      <td>9</td>\n",
       "      <td>Semi-Urban</td>\n",
       "      <td>-1</td>\n",
       "      <td>-1</td>\n",
       "    </tr>\n",
       "    <tr>\n",
       "      <th>8</th>\n",
       "      <td>2</td>\n",
       "      <td>1</td>\n",
       "      <td>1</td>\n",
       "      <td>Male</td>\n",
       "      <td>74</td>\n",
       "      <td>10</td>\n",
       "      <td>Serious</td>\n",
       "      <td>0</td>\n",
       "      <td>0</td>\n",
       "      <td>0</td>\n",
       "      <td>0</td>\n",
       "      <td>0</td>\n",
       "      <td>1</td>\n",
       "      <td>NaN</td>\n",
       "      <td>5</td>\n",
       "      <td>E01018444</td>\n",
       "    </tr>\n",
       "    <tr>\n",
       "      <th>9</th>\n",
       "      <td>1</td>\n",
       "      <td>1</td>\n",
       "      <td>1</td>\n",
       "      <td>Male</td>\n",
       "      <td>50</td>\n",
       "      <td>8</td>\n",
       "      <td>Slight</td>\n",
       "      <td>0</td>\n",
       "      <td>0</td>\n",
       "      <td>0</td>\n",
       "      <td>0</td>\n",
       "      <td>0</td>\n",
       "      <td>9</td>\n",
       "      <td>Urban</td>\n",
       "      <td>8</td>\n",
       "      <td>E01018443</td>\n",
       "    </tr>\n",
       "    <tr>\n",
       "      <th>10</th>\n",
       "      <td>2</td>\n",
       "      <td>1</td>\n",
       "      <td>1</td>\n",
       "      <td>Male</td>\n",
       "      <td>46</td>\n",
       "      <td>8</td>\n",
       "      <td>Serious</td>\n",
       "      <td>0</td>\n",
       "      <td>0</td>\n",
       "      <td>0</td>\n",
       "      <td>0</td>\n",
       "      <td>0</td>\n",
       "      <td>1</td>\n",
       "      <td>Urban</td>\n",
       "      <td>3</td>\n",
       "      <td>E01018482</td>\n",
       "    </tr>\n",
       "  </tbody>\n",
       "</table>\n",
       "</div>"
      ],
      "text/plain": [
       "    vehicle_reference  casualty_reference  casualty_class sex_of_casualty  \\\n",
       "0                   2                   1               1          Female   \n",
       "1                   1                   1               1            Male   \n",
       "2                   1                   1               1          Female   \n",
       "3                   2                   3               1          Female   \n",
       "4                   3                   2               1            Male   \n",
       "5                   4                   4               1            Male   \n",
       "6                   4                   5               2            Male   \n",
       "8                   2                   1               1            Male   \n",
       "9                   1                   1               1            Male   \n",
       "10                  2                   1               1            Male   \n",
       "\n",
       "    age_of_casualty  age_band_of_casualty casualty_severity  \\\n",
       "0                46                     8            Slight   \n",
       "1                30                     6            Slight   \n",
       "2                58                     9            Slight   \n",
       "3                78                    11            Slight   \n",
       "4                63                     9            Slight   \n",
       "5                52                     8            Slight   \n",
       "6                50                     8            Slight   \n",
       "8                74                    10           Serious   \n",
       "9                50                     8            Slight   \n",
       "10               46                     8           Serious   \n",
       "\n",
       "    pedestrian_location  pedestrian_movement  car_passenger  \\\n",
       "0                     0                    0              0   \n",
       "1                     0                    0              0   \n",
       "2                     0                    0              0   \n",
       "3                     0                    0              0   \n",
       "4                     0                    0              0   \n",
       "5                     0                    0              0   \n",
       "6                     0                    0              2   \n",
       "8                     0                    0              0   \n",
       "9                     0                    0              0   \n",
       "10                    0                    0              0   \n",
       "\n",
       "    bus_or_coach_passenger  pedestrian_road_maintenance_worker  casualty_type  \\\n",
       "0                        0                                   0              9   \n",
       "1                        0                                   0              9   \n",
       "2                        0                                   0              9   \n",
       "3                        0                                   0              9   \n",
       "4                        0                                   0              9   \n",
       "5                        0                                   0              9   \n",
       "6                        0                                   0              9   \n",
       "8                        0                                   0              1   \n",
       "9                        0                                   0              9   \n",
       "10                       0                                   0              1   \n",
       "\n",
       "   casualty_home_area_type  casualty_imd_decile lsoa_of_casualty  \n",
       "0                    Urban                    9        E01033378  \n",
       "1                    Urban                    2        E01018551  \n",
       "2                    Urban                   10        E01006134  \n",
       "3                    Rural                   10        E01018724  \n",
       "4                      NaN                    7        W01000578  \n",
       "5                    Urban                    9        E01012374  \n",
       "6               Semi-Urban                   -1               -1  \n",
       "8                      NaN                    5        E01018444  \n",
       "9                    Urban                    8        E01018443  \n",
       "10                   Urban                    3        E01018482  "
      ]
     },
     "execution_count": 64,
     "metadata": {},
     "output_type": "execute_result"
    }
   ],
   "source": [
    "df.head(10)"
   ]
  },
  {
   "cell_type": "code",
   "execution_count": 65,
   "metadata": {},
   "outputs": [
    {
     "name": "stdout",
     "output_type": "stream",
     "text": [
      "Dataset has 59790 rows and 16 columns.\n"
     ]
    }
   ],
   "source": [
    "shape = df.shape\n",
    "print(f'Dataset has {shape[0]} rows and {shape[1]} columns.')"
   ]
  },
  {
   "cell_type": "markdown",
   "metadata": {},
   "source": [
    "## 3. Exploratory Data Analysis (EDA)"
   ]
  },
  {
   "cell_type": "markdown",
   "metadata": {},
   "source": [
    "## 4. Feature Engineering"
   ]
  },
  {
   "cell_type": "markdown",
   "metadata": {},
   "source": [
    "## 5. Data Visualization"
   ]
  },
  {
   "cell_type": "markdown",
   "metadata": {},
   "source": [
    "## 6. Model Building"
   ]
  },
  {
   "cell_type": "markdown",
   "metadata": {},
   "source": [
    "## 7. Interpretation and Insights"
   ]
  }
 ],
 "metadata": {
  "kernelspec": {
   "display_name": "Python 3 (ipykernel)",
   "language": "python",
   "name": "python3"
  },
  "language_info": {
   "codemirror_mode": {
    "name": "ipython",
    "version": 3
   },
   "file_extension": ".py",
   "mimetype": "text/x-python",
   "name": "python",
   "nbconvert_exporter": "python",
   "pygments_lexer": "ipython3",
   "version": "3.11.5"
  }
 },
 "nbformat": 4,
 "nbformat_minor": 4
}
